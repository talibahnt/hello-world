{
  "nbformat": 4,
  "nbformat_minor": 0,
  "metadata": {
    "kernelspec": {
      "display_name": "Python 3",
      "language": "python",
      "name": "python3"
    },
    "language_info": {
      "codemirror_mode": {
        "name": "ipython",
        "version": 3
      },
      "file_extension": ".py",
      "mimetype": "text/x-python",
      "name": "python",
      "nbconvert_exporter": "python",
      "pygments_lexer": "ipython3",
      "version": "3.7.6"
    },
    "colab": {
      "name": "LAB1_loading_data_with_output_Talibahnt.ipynb",
      "provenance": [],
      "collapsed_sections": [],
      "include_colab_link": true
    }
  },
  "cells": [
    {
      "cell_type": "markdown",
      "metadata": {
        "id": "view-in-github",
        "colab_type": "text"
      },
      "source": [
        "<a href=\"https://colab.research.google.com/github/talibahnt/hello-world/blob/main/LAB1_loading_data_with_output_Talibahnt.ipynb\" target=\"_parent\"><img src=\"https://colab.research.google.com/assets/colab-badge.svg\" alt=\"Open In Colab\"/></a>"
      ]
    },
    {
      "cell_type": "markdown",
      "metadata": {
        "id": "7NoimkkIO1tx"
      },
      "source": [
        "# Data input"
      ]
    },
    {
      "cell_type": "markdown",
      "metadata": {
        "id": "9BCnXeiWO1t2"
      },
      "source": [
        "In general data can be acquired as:\n",
        "* downloadable files (e.g. CSV, txt, Excel, JSON files and other common data formats)\n",
        "* through API (Application Program Interface)\n",
        "* through databases "
      ]
    },
    {
      "cell_type": "markdown",
      "metadata": {
        "id": "UNiDeY15O1t2"
      },
      "source": [
        "In this lab we will provide examples how to work with downloadable data in the two most common formats:\n",
        "* comma-separated-values (CSV) or text files (txt) more generally \n",
        "* and Excel or XLS files\n",
        "\n",
        "Also as urban analytics is often inherently spatial we'll consider another specific format often used for the spatial data: JSON"
      ]
    },
    {
      "cell_type": "markdown",
      "metadata": {
        "id": "afnndx9fO1t3"
      },
      "source": [
        "We will also provide some basic descriptive analytics, like getting the number of records, defining timeframes or summing up numeric columns.\n",
        "\n",
        "It is always a good idea to start data analytics with such descriptive analysis as not only it gives an idea of the scale (and thus utility) of the data, but also allows to spot possible issues"
      ]
    },
    {
      "cell_type": "code",
      "metadata": {
        "id": "497g5OLQO1t3"
      },
      "source": [
        "import pandas as pd #first we'll need module pandas to work with the dataframes\n",
        "%matplotlib inline"
      ],
      "execution_count": 2,
      "outputs": []
    },
    {
      "cell_type": "markdown",
      "metadata": {
        "id": "pbIRAB3MO1t4"
      },
      "source": [
        "## Example 1. The 311 service requests (CSV) in Boston\n",
        "\n",
        "The data contains all 311 call service requests, including their time, location, type of issue and many other details\n",
        "\n",
        "Source https://data.boston.gov/dataset/311-service-requests"
      ]
    },
    {
      "cell_type": "code",
      "metadata": {
        "id": "r9ZQiaYFO1t4"
      },
      "source": [
        "#lets specify the file location on the web\n",
        "#we can actually upload the data directly from there!\n",
        "#the data is provided by year, so consider the most recent full year available - 2019\n",
        "fname = '311_service_requests_2020.csv'\n",
        "url = 'https://data.boston.gov/dataset/8048697b-ad64-4bfc-b090-ee00169f2323/resource/6ff6a6fd-3141-4440-a880-6f60a37fe789/download/tmpxbo51van.csv'\n",
        "# alternative url\n",
        "url = 'https://raw.githubusercontent.com/CUSP2021PUI/Data/main/311_service_requests_2020.csv'"
      ],
      "execution_count": 3,
      "outputs": []
    },
    {
      "cell_type": "code",
      "metadata": {
        "id": "mhbK0QhMO1t4"
      },
      "source": [
        "boston311 = pd.read_csv(url) #upload the data"
      ],
      "execution_count": 4,
      "outputs": []
    },
    {
      "cell_type": "code",
      "metadata": {
        "colab": {
          "base_uri": "https://localhost:8080/",
          "height": 457
        },
        "id": "eVb0fVWtO1t4",
        "outputId": "5494dd7a-17ac-4274-db23-4bcbd0a7064c"
      },
      "source": [
        "#preview the data\n",
        "boston311.head()"
      ],
      "execution_count": 5,
      "outputs": [
        {
          "output_type": "execute_result",
          "data": {
            "text/html": [
              "<div>\n",
              "<style scoped>\n",
              "    .dataframe tbody tr th:only-of-type {\n",
              "        vertical-align: middle;\n",
              "    }\n",
              "\n",
              "    .dataframe tbody tr th {\n",
              "        vertical-align: top;\n",
              "    }\n",
              "\n",
              "    .dataframe thead th {\n",
              "        text-align: right;\n",
              "    }\n",
              "</style>\n",
              "<table border=\"1\" class=\"dataframe\">\n",
              "  <thead>\n",
              "    <tr style=\"text-align: right;\">\n",
              "      <th></th>\n",
              "      <th>case_enquiry_id</th>\n",
              "      <th>open_dt</th>\n",
              "      <th>target_dt</th>\n",
              "      <th>closed_dt</th>\n",
              "      <th>ontime</th>\n",
              "      <th>case_status</th>\n",
              "      <th>closure_reason</th>\n",
              "      <th>case_title</th>\n",
              "      <th>subject</th>\n",
              "      <th>reason</th>\n",
              "      <th>type</th>\n",
              "      <th>queue</th>\n",
              "      <th>department</th>\n",
              "      <th>submittedphoto</th>\n",
              "      <th>closedphoto</th>\n",
              "      <th>location</th>\n",
              "      <th>fire_district</th>\n",
              "      <th>pwd_district</th>\n",
              "      <th>city_council_district</th>\n",
              "      <th>police_district</th>\n",
              "      <th>neighborhood</th>\n",
              "      <th>neighborhood_services_district</th>\n",
              "      <th>ward</th>\n",
              "      <th>precinct</th>\n",
              "      <th>location_street_name</th>\n",
              "      <th>location_zipcode</th>\n",
              "      <th>latitude</th>\n",
              "      <th>longitude</th>\n",
              "      <th>source</th>\n",
              "    </tr>\n",
              "  </thead>\n",
              "  <tbody>\n",
              "    <tr>\n",
              "      <th>0</th>\n",
              "      <td>101003156172</td>\n",
              "      <td>2020-01-10 11:32:00</td>\n",
              "      <td>2020-05-09 11:32:13</td>\n",
              "      <td>NaN</td>\n",
              "      <td>OVERDUE</td>\n",
              "      <td>Open</td>\n",
              "      <td></td>\n",
              "      <td>Unsatisfactory Living Conditions</td>\n",
              "      <td>Inspectional Services</td>\n",
              "      <td>Housing</td>\n",
              "      <td>Unsatisfactory Living Conditions</td>\n",
              "      <td>ISD_Housing (INTERNAL)</td>\n",
              "      <td>ISD</td>\n",
              "      <td>NaN</td>\n",
              "      <td>NaN</td>\n",
              "      <td>2 Osprey Way  Dorchester  MA  02124</td>\n",
              "      <td>8</td>\n",
              "      <td>07</td>\n",
              "      <td>4</td>\n",
              "      <td>B3</td>\n",
              "      <td>Dorchester</td>\n",
              "      <td>9</td>\n",
              "      <td>14</td>\n",
              "      <td>1411</td>\n",
              "      <td>2 Osprey Way</td>\n",
              "      <td>2124.0</td>\n",
              "      <td>42.2925</td>\n",
              "      <td>-71.0939</td>\n",
              "      <td>Constituent Call</td>\n",
              "    </tr>\n",
              "    <tr>\n",
              "      <th>1</th>\n",
              "      <td>101003171366</td>\n",
              "      <td>2020-01-16 12:08:00</td>\n",
              "      <td>2021-01-15 12:09:19</td>\n",
              "      <td>NaN</td>\n",
              "      <td>ONTIME</td>\n",
              "      <td>Open</td>\n",
              "      <td></td>\n",
              "      <td>New Tree Requests</td>\n",
              "      <td>Parks &amp; Recreation Department</td>\n",
              "      <td>Trees</td>\n",
              "      <td>New Tree Requests</td>\n",
              "      <td>PARK_New Tree Requests</td>\n",
              "      <td>PARK</td>\n",
              "      <td>NaN</td>\n",
              "      <td>NaN</td>\n",
              "      <td>141 Sherrin St  Hyde Park  MA  02136</td>\n",
              "      <td>12</td>\n",
              "      <td>08</td>\n",
              "      <td>5</td>\n",
              "      <td>E18</td>\n",
              "      <td>Hyde Park</td>\n",
              "      <td>10</td>\n",
              "      <td>Ward 18</td>\n",
              "      <td>1822</td>\n",
              "      <td>141 Sherrin St</td>\n",
              "      <td>2136.0</td>\n",
              "      <td>42.2668</td>\n",
              "      <td>-71.1256</td>\n",
              "      <td>Employee Generated</td>\n",
              "    </tr>\n",
              "    <tr>\n",
              "      <th>2</th>\n",
              "      <td>101003175987</td>\n",
              "      <td>2020-01-22 15:34:00</td>\n",
              "      <td>2020-01-23 15:34:03</td>\n",
              "      <td>NaN</td>\n",
              "      <td>OVERDUE</td>\n",
              "      <td>Open</td>\n",
              "      <td></td>\n",
              "      <td>Sidewalk Repair (Make Safe)</td>\n",
              "      <td>Public Works Department</td>\n",
              "      <td>Highway Maintenance</td>\n",
              "      <td>Sidewalk Repair (Make Safe)</td>\n",
              "      <td>INFO_MBTA</td>\n",
              "      <td>INFO</td>\n",
              "      <td>NaN</td>\n",
              "      <td>NaN</td>\n",
              "      <td>155 Dartmouth St  Boston  MA  02116</td>\n",
              "      <td>4</td>\n",
              "      <td>1C</td>\n",
              "      <td>2</td>\n",
              "      <td>D4</td>\n",
              "      <td>Boston</td>\n",
              "      <td>6</td>\n",
              "      <td>04</td>\n",
              "      <td>0402</td>\n",
              "      <td>155 Dartmouth St</td>\n",
              "      <td>2116.0</td>\n",
              "      <td>42.3476</td>\n",
              "      <td>-71.0757</td>\n",
              "      <td>Citizens Connect App</td>\n",
              "    </tr>\n",
              "    <tr>\n",
              "      <th>3</th>\n",
              "      <td>101003180345</td>\n",
              "      <td>2020-01-27 21:33:00</td>\n",
              "      <td>2020-02-11 08:30:00</td>\n",
              "      <td>NaN</td>\n",
              "      <td>OVERDUE</td>\n",
              "      <td>Open</td>\n",
              "      <td></td>\n",
              "      <td>PRINTED :</td>\n",
              "      <td>Public Works Department</td>\n",
              "      <td>Street Lights</td>\n",
              "      <td>Street Light Outages</td>\n",
              "      <td>PWDx_Street Light Outages</td>\n",
              "      <td>PWDx</td>\n",
              "      <td>NaN</td>\n",
              "      <td>NaN</td>\n",
              "      <td>45 First Ave  Charlestown  MA  02129</td>\n",
              "      <td>3</td>\n",
              "      <td>1A</td>\n",
              "      <td>1</td>\n",
              "      <td>A15</td>\n",
              "      <td>Charlestown</td>\n",
              "      <td>2</td>\n",
              "      <td>02</td>\n",
              "      <td>0202</td>\n",
              "      <td>45 First Ave</td>\n",
              "      <td>2129.0</td>\n",
              "      <td>42.3762</td>\n",
              "      <td>-71.0529</td>\n",
              "      <td>Citizens Connect App</td>\n",
              "    </tr>\n",
              "    <tr>\n",
              "      <th>4</th>\n",
              "      <td>101003183226</td>\n",
              "      <td>2020-01-30 14:55:58</td>\n",
              "      <td>2020-04-29 14:55:59</td>\n",
              "      <td>NaN</td>\n",
              "      <td>OVERDUE</td>\n",
              "      <td>Open</td>\n",
              "      <td></td>\n",
              "      <td>Rental Unit Delivery Conditions</td>\n",
              "      <td>Inspectional Services</td>\n",
              "      <td>Housing</td>\n",
              "      <td>Rental Unit Delivery Conditions</td>\n",
              "      <td>ISD_Housing (INTERNAL)</td>\n",
              "      <td>ISD</td>\n",
              "      <td>NaN</td>\n",
              "      <td>NaN</td>\n",
              "      <td>117 Havre St  East Boston  MA  02128</td>\n",
              "      <td>1</td>\n",
              "      <td>09</td>\n",
              "      <td>1</td>\n",
              "      <td>A7</td>\n",
              "      <td>East Boston</td>\n",
              "      <td>1</td>\n",
              "      <td>Ward 1</td>\n",
              "      <td>0104</td>\n",
              "      <td>117 Havre St</td>\n",
              "      <td>2128.0</td>\n",
              "      <td>42.3728</td>\n",
              "      <td>-71.0383</td>\n",
              "      <td>Constituent Call</td>\n",
              "    </tr>\n",
              "  </tbody>\n",
              "</table>\n",
              "</div>"
            ],
            "text/plain": [
              "   case_enquiry_id              open_dt  ... longitude                source\n",
              "0     101003156172  2020-01-10 11:32:00  ...  -71.0939      Constituent Call\n",
              "1     101003171366  2020-01-16 12:08:00  ...  -71.1256    Employee Generated\n",
              "2     101003175987  2020-01-22 15:34:00  ...  -71.0757  Citizens Connect App\n",
              "3     101003180345  2020-01-27 21:33:00  ...  -71.0529  Citizens Connect App\n",
              "4     101003183226  2020-01-30 14:55:58  ...  -71.0383      Constituent Call\n",
              "\n",
              "[5 rows x 29 columns]"
            ]
          },
          "metadata": {
            "tags": []
          },
          "execution_count": 5
        }
      ]
    },
    {
      "cell_type": "code",
      "metadata": {
        "colab": {
          "base_uri": "https://localhost:8080/"
        },
        "id": "U_k_leztO1t5",
        "outputId": "5d5a19c5-4ca9-4d76-8223-6b235f84fd4e"
      },
      "source": [
        "#get the list of columns\n",
        "boston311.columns"
      ],
      "execution_count": 6,
      "outputs": [
        {
          "output_type": "execute_result",
          "data": {
            "text/plain": [
              "Index(['case_enquiry_id', 'open_dt', 'target_dt', 'closed_dt', 'ontime',\n",
              "       'case_status', 'closure_reason', 'case_title', 'subject', 'reason',\n",
              "       'type', 'queue', 'department', 'submittedphoto', 'closedphoto',\n",
              "       'location', 'fire_district', 'pwd_district', 'city_council_district',\n",
              "       'police_district', 'neighborhood', 'neighborhood_services_district',\n",
              "       'ward', 'precinct', 'location_street_name', 'location_zipcode',\n",
              "       'latitude', 'longitude', 'source'],\n",
              "      dtype='object')"
            ]
          },
          "metadata": {
            "tags": []
          },
          "execution_count": 6
        }
      ]
    },
    {
      "cell_type": "code",
      "metadata": {
        "colab": {
          "base_uri": "https://localhost:8080/"
        },
        "id": "ORJart-2O1t6",
        "outputId": "cf46d98a-480f-4ced-c889-d3a606232036"
      },
      "source": [
        "#get the total number of records\n",
        "len(boston311)"
      ],
      "execution_count": 7,
      "outputs": [
        {
          "output_type": "execute_result",
          "data": {
            "text/plain": [
              "161717"
            ]
          },
          "metadata": {
            "tags": []
          },
          "execution_count": 7
        }
      ]
    },
    {
      "cell_type": "code",
      "metadata": {
        "scrolled": true,
        "colab": {
          "base_uri": "https://localhost:8080/",
          "height": 290
        },
        "id": "G-CK1xTsO1t6",
        "outputId": "edcbb4d0-9939-4de1-f436-0d4d20c744c9"
      },
      "source": [
        "#summary statistics for all the numeric columns\n",
        "boston311.describe()"
      ],
      "execution_count": 8,
      "outputs": [
        {
          "output_type": "execute_result",
          "data": {
            "text/html": [
              "<div>\n",
              "<style scoped>\n",
              "    .dataframe tbody tr th:only-of-type {\n",
              "        vertical-align: middle;\n",
              "    }\n",
              "\n",
              "    .dataframe tbody tr th {\n",
              "        vertical-align: top;\n",
              "    }\n",
              "\n",
              "    .dataframe thead th {\n",
              "        text-align: right;\n",
              "    }\n",
              "</style>\n",
              "<table border=\"1\" class=\"dataframe\">\n",
              "  <thead>\n",
              "    <tr style=\"text-align: right;\">\n",
              "      <th></th>\n",
              "      <th>case_enquiry_id</th>\n",
              "      <th>location_zipcode</th>\n",
              "      <th>latitude</th>\n",
              "      <th>longitude</th>\n",
              "    </tr>\n",
              "  </thead>\n",
              "  <tbody>\n",
              "    <tr>\n",
              "      <th>count</th>\n",
              "      <td>1.617170e+05</td>\n",
              "      <td>126496.000000</td>\n",
              "      <td>161717.000000</td>\n",
              "      <td>161717.000000</td>\n",
              "    </tr>\n",
              "    <tr>\n",
              "      <th>mean</th>\n",
              "      <td>1.010033e+11</td>\n",
              "      <td>2126.907041</td>\n",
              "      <td>42.331518</td>\n",
              "      <td>-71.078489</td>\n",
              "    </tr>\n",
              "    <tr>\n",
              "      <th>std</th>\n",
              "      <td>7.906295e+04</td>\n",
              "      <td>17.751533</td>\n",
              "      <td>0.034112</td>\n",
              "      <td>0.033925</td>\n",
              "    </tr>\n",
              "    <tr>\n",
              "      <th>min</th>\n",
              "      <td>1.010031e+11</td>\n",
              "      <td>2108.000000</td>\n",
              "      <td>42.231500</td>\n",
              "      <td>-71.185400</td>\n",
              "    </tr>\n",
              "    <tr>\n",
              "      <th>25%</th>\n",
              "      <td>1.010032e+11</td>\n",
              "      <td>2119.000000</td>\n",
              "      <td>42.306100</td>\n",
              "      <td>-71.094500</td>\n",
              "    </tr>\n",
              "    <tr>\n",
              "      <th>50%</th>\n",
              "      <td>1.010033e+11</td>\n",
              "      <td>2126.000000</td>\n",
              "      <td>42.340600</td>\n",
              "      <td>-71.067100</td>\n",
              "    </tr>\n",
              "    <tr>\n",
              "      <th>75%</th>\n",
              "      <td>1.010033e+11</td>\n",
              "      <td>2130.000000</td>\n",
              "      <td>42.359400</td>\n",
              "      <td>-71.058700</td>\n",
              "    </tr>\n",
              "    <tr>\n",
              "      <th>max</th>\n",
              "      <td>1.010034e+11</td>\n",
              "      <td>2467.000000</td>\n",
              "      <td>42.395200</td>\n",
              "      <td>-70.995100</td>\n",
              "    </tr>\n",
              "  </tbody>\n",
              "</table>\n",
              "</div>"
            ],
            "text/plain": [
              "       case_enquiry_id  location_zipcode       latitude      longitude\n",
              "count     1.617170e+05     126496.000000  161717.000000  161717.000000\n",
              "mean      1.010033e+11       2126.907041      42.331518     -71.078489\n",
              "std       7.906295e+04         17.751533       0.034112       0.033925\n",
              "min       1.010031e+11       2108.000000      42.231500     -71.185400\n",
              "25%       1.010032e+11       2119.000000      42.306100     -71.094500\n",
              "50%       1.010033e+11       2126.000000      42.340600     -71.067100\n",
              "75%       1.010033e+11       2130.000000      42.359400     -71.058700\n",
              "max       1.010034e+11       2467.000000      42.395200     -70.995100"
            ]
          },
          "metadata": {
            "tags": []
          },
          "execution_count": 8
        }
      ]
    },
    {
      "cell_type": "markdown",
      "metadata": {
        "id": "2lWN2_AhO1t6"
      },
      "source": [
        "Gives a good idea of how many records have a valid number defined and also averages and ranges for latitute/logitude\n",
        "\n",
        "statistics for zipcode and id won't make that much sense \n",
        "\n",
        "as while these data has numeric type its categorical in nature and computing averages is somewhat meaningless"
      ]
    },
    {
      "cell_type": "markdown",
      "metadata": {
        "id": "Z33gbTu6O1t7"
      },
      "source": [
        "Some additional descriptive analysis one might be interested is to learn more about the categorical variables, e.g. subject, reason, type, neighborhood, zip_code"
      ]
    },
    {
      "cell_type": "code",
      "metadata": {
        "id": "ROy-rULCO1t7"
      },
      "source": [
        "#first let's get the list of unique values for each, or at least the number of such values"
      ],
      "execution_count": 9,
      "outputs": []
    },
    {
      "cell_type": "code",
      "metadata": {
        "colab": {
          "base_uri": "https://localhost:8080/"
        },
        "id": "1uibyzIjO1t7",
        "outputId": "5d13220c-e43e-4b5f-d318-1bc6ce8d688f"
      },
      "source": [
        "boston311.subject.unique()"
      ],
      "execution_count": 10,
      "outputs": [
        {
          "output_type": "execute_result",
          "data": {
            "text/plain": [
              "array(['Inspectional Services', 'Parks & Recreation Department',\n",
              "       'Public Works Department', 'Property Management',\n",
              "       \"Mayor's 24 Hour Hotline\", 'Transportation - Traffic Division',\n",
              "       'Animal Control', 'Boston Water & Sewer Commission',\n",
              "       'Boston Police Department', 'Consumer Affairs & Licensing',\n",
              "       'Neighborhood Services'], dtype=object)"
            ]
          },
          "metadata": {
            "tags": []
          },
          "execution_count": 10
        }
      ]
    },
    {
      "cell_type": "code",
      "metadata": {
        "colab": {
          "base_uri": "https://localhost:8080/"
        },
        "id": "oO_C0XqTO1t7",
        "outputId": "8042d08f-f582-4f1d-b938-5e6c830dcbfe"
      },
      "source": [
        "len(boston311.subject.unique())"
      ],
      "execution_count": 11,
      "outputs": [
        {
          "output_type": "execute_result",
          "data": {
            "text/plain": [
              "11"
            ]
          },
          "metadata": {
            "tags": []
          },
          "execution_count": 11
        }
      ]
    },
    {
      "cell_type": "code",
      "metadata": {
        "colab": {
          "base_uri": "https://localhost:8080/"
        },
        "id": "tNICGYU8O1t8",
        "outputId": "d2b2052a-fe42-44c3-fee4-186179e07883"
      },
      "source": [
        "len(boston311.reason.unique())"
      ],
      "execution_count": 12,
      "outputs": [
        {
          "output_type": "execute_result",
          "data": {
            "text/plain": [
              "43"
            ]
          },
          "metadata": {
            "tags": []
          },
          "execution_count": 12
        }
      ]
    },
    {
      "cell_type": "code",
      "metadata": {
        "colab": {
          "base_uri": "https://localhost:8080/"
        },
        "id": "ueDakZYdO1t8",
        "outputId": "7936f0f9-6b4d-408f-f072-a07bc835da81"
      },
      "source": [
        "len(boston311.type.unique())"
      ],
      "execution_count": 13,
      "outputs": [
        {
          "output_type": "execute_result",
          "data": {
            "text/plain": [
              "171"
            ]
          },
          "metadata": {
            "tags": []
          },
          "execution_count": 13
        }
      ]
    },
    {
      "cell_type": "markdown",
      "metadata": {
        "id": "l35pfAw7O1t8"
      },
      "source": [
        "And if e.g. we want to know the number of complaints per subject we can group the dataframe as following"
      ]
    },
    {
      "cell_type": "code",
      "metadata": {
        "colab": {
          "base_uri": "https://localhost:8080/"
        },
        "id": "9Ofv-7v8O1t8",
        "outputId": "d11501ef-c53a-4303-e0ee-ea9a73c9f2a7"
      },
      "source": [
        "boston311['subject'].value_counts()"
      ],
      "execution_count": 14,
      "outputs": [
        {
          "output_type": "execute_result",
          "data": {
            "text/plain": [
              "Public Works Department              85739\n",
              "Transportation - Traffic Division    33328\n",
              "Inspectional Services                14022\n",
              "Mayor's 24 Hour Hotline              12207\n",
              "Parks & Recreation Department        10935\n",
              "Animal Control                        2196\n",
              "Property Management                   2170\n",
              "Boston Water & Sewer Commission        748\n",
              "Boston Police Department               344\n",
              "Consumer Affairs & Licensing            18\n",
              "Neighborhood Services                   10\n",
              "Name: subject, dtype: int64"
            ]
          },
          "metadata": {
            "tags": []
          },
          "execution_count": 14
        }
      ]
    },
    {
      "cell_type": "code",
      "metadata": {
        "colab": {
          "base_uri": "https://localhost:8080/",
          "height": 462
        },
        "id": "ApxfrPUrO1t9",
        "outputId": "d2b14f78-8171-4dab-a590-9bcd9559bfce"
      },
      "source": [
        "#or visualizing as a histogram\n",
        "boston311[['subject','case_enquiry_id']].groupby(by=['subject']).count().plot.bar()"
      ],
      "execution_count": 15,
      "outputs": [
        {
          "output_type": "execute_result",
          "data": {
            "text/plain": [
              "<matplotlib.axes._subplots.AxesSubplot at 0x7fa04a649358>"
            ]
          },
          "metadata": {
            "tags": []
          },
          "execution_count": 15
        },
        {
          "output_type": "display_data",
          "data": {
            "image/png": "[encoded data removed]",
            "text/plain": [
              "<Figure size 432x288 with 1 Axes>"
            ]
          },
          "metadata": {
            "tags": [],
            "needs_background": "light"
          }
        }
      ]
    },
    {
      "cell_type": "markdown",
      "metadata": {
        "id": "M7rNNL-YO1t9"
      },
      "source": [
        "### Task 1. Count the number of neighborhoods and visualize the number of complaints by neighborhood"
      ]
    },
    {
      "cell_type": "code",
      "metadata": {
        "colab": {
          "base_uri": "https://localhost:8080/"
        },
        "id": "BVF2UKftO9RT",
        "outputId": "24f760e6-8b54-4b4b-b3ab-42f9e09e2cec"
      },
      "source": [
        "len(boston311.neighborhood.unique()) #Found unique values for neighborhood."
      ],
      "execution_count": 16,
      "outputs": [
        {
          "output_type": "execute_result",
          "data": {
            "text/plain": [
              "25"
            ]
          },
          "metadata": {
            "tags": []
          },
          "execution_count": 16
        }
      ]
    },
    {
      "cell_type": "code",
      "metadata": {
        "colab": {
          "base_uri": "https://localhost:8080/"
        },
        "id": "Ply2I6fjPMov",
        "outputId": "3dac4739-8d0b-4652-b8e4-01ae25cbd2dd"
      },
      "source": [
        "boston311['neighborhood'].value_counts() #Found the counts per neighborhood."
      ],
      "execution_count": 17,
      "outputs": [
        {
          "output_type": "execute_result",
          "data": {
            "text/plain": [
              "Dorchester                                      25580\n",
              "Roxbury                                         15391\n",
              "South Boston / South Boston Waterfront          12302\n",
              "Allston / Brighton                              11564\n",
              "East Boston                                     10938\n",
              "South End                                       10814\n",
              "Hyde Park                                        9127\n",
              "Jamaica Plain                                    8922\n",
              "Downtown / Financial District                    8140\n",
              "Greater Mattapan                                 7296\n",
              "Back Bay                                         7113\n",
              "West Roxbury                                     5857\n",
              "Roslindale                                       5688\n",
              "Charlestown                                      5402\n",
              "Boston                                           4224\n",
              "Beacon Hill                                      3272\n",
              "Fenway / Kenmore / Audubon Circle / Longwood     2750\n",
              "Mission Hill                                     2555\n",
              "                                                 2132\n",
              "South Boston                                     1210\n",
              "Brighton                                          647\n",
              "Allston                                           340\n",
              "Mattapan                                          313\n",
              "Chestnut Hill                                      10\n",
              "Name: neighborhood, dtype: int64"
            ]
          },
          "metadata": {
            "tags": []
          },
          "execution_count": 17
        }
      ]
    },
    {
      "cell_type": "code",
      "metadata": {
        "colab": {
          "base_uri": "https://localhost:8080/"
        },
        "id": "u6qhes_kXrVx",
        "outputId": "9ee3787d-8f5b-4c0f-daf0-7c22bda2ef9c"
      },
      "source": [
        "boston311.neighborhood.unique()"
      ],
      "execution_count": 18,
      "outputs": [
        {
          "output_type": "execute_result",
          "data": {
            "text/plain": [
              "array(['Dorchester', 'Hyde Park', 'Boston', 'Charlestown', 'East Boston',\n",
              "       'Back Bay', 'Mission Hill', 'Jamaica Plain', 'Beacon Hill',\n",
              "       'South Boston / South Boston Waterfront', 'Roxbury',\n",
              "       'Allston / Brighton', 'South End', 'Roslindale', 'West Roxbury',\n",
              "       ' ', 'Fenway / Kenmore / Audubon Circle / Longwood',\n",
              "       'Downtown / Financial District', 'South Boston',\n",
              "       'Greater Mattapan', 'Allston', nan, 'Brighton', 'Mattapan',\n",
              "       'Chestnut Hill'], dtype=object)"
            ]
          },
          "metadata": {
            "tags": []
          },
          "execution_count": 18
        }
      ]
    },
    {
      "cell_type": "code",
      "metadata": {
        "id": "0JyPHbaRPhhB",
        "colab": {
          "base_uri": "https://localhost:8080/"
        },
        "outputId": "4b1e6c7f-73c8-49ef-a50a-4910791df010"
      },
      "source": [
        "boston311.case_enquiry_id.unique() "
      ],
      "execution_count": 19,
      "outputs": [
        {
          "output_type": "execute_result",
          "data": {
            "text/plain": [
              "array([101003156172, 101003171366, 101003175987, ..., 101003425616,\n",
              "       101003425620, 101003425628])"
            ]
          },
          "metadata": {
            "tags": []
          },
          "execution_count": 19
        }
      ]
    },
    {
      "cell_type": "code",
      "metadata": {
        "id": "SKoOge18TMzH",
        "colab": {
          "base_uri": "https://localhost:8080/",
          "height": 525
        },
        "outputId": "164272b7-4629-4edb-9b37-a6ad5cce18e7"
      },
      "source": [
        "boston311[['neighborhood','case_enquiry_id']].groupby(by=['neighborhood']).count().plot.bar()"
      ],
      "execution_count": 20,
      "outputs": [
        {
          "output_type": "execute_result",
          "data": {
            "text/plain": [
              "<matplotlib.axes._subplots.AxesSubplot at 0x7fa04a536cc0>"
            ]
          },
          "metadata": {
            "tags": []
          },
          "execution_count": 20
        },
        {
          "output_type": "display_data",
          "data": {
            "image/png": "[encoded data removed]",
            "text/plain": [
              "<Figure size 432x288 with 1 Axes>"
            ]
          },
          "metadata": {
            "tags": [],
            "needs_background": "light"
          }
        }
      ]
    },
    {
      "cell_type": "markdown",
      "metadata": {
        "id": "9ULnzWt_O1t9"
      },
      "source": [
        "## Example 2. Real-estate data sales (XLS)\n",
        "\n",
        "The data contains information on all the residential real estate sold in NYC, including address of the house/unit, its size, age, time of sale and of course the price"
      ]
    },
    {
      "cell_type": "code",
      "metadata": {
        "id": "t568IwvZO1t9"
      },
      "source": [
        "#the data is split by year and borough. Take Brooklyn in 2015 \n",
        "year=2015; boro='brooklyn'"
      ],
      "execution_count": 21,
      "outputs": []
    },
    {
      "cell_type": "code",
      "metadata": {
        "id": "UXftQbmXO1t9"
      },
      "source": [
        "fname=str(year)+'_'+boro+'.xls'"
      ],
      "execution_count": 22,
      "outputs": []
    },
    {
      "cell_type": "code",
      "metadata": {
        "id": "RC2jX3b9O1t-"
      },
      "source": [
        "url = 'https://www1.nyc.gov/assets/finance/downloads/pdf/rolling_sales/annualized-sales/'+str(year)+\\\n",
        "                                                                                       '/'+fname\n",
        "# alternative URL\n",
        "url = 'https://github.com/CUSP2021PUI/Data/blob/main/RollingSale/'+fname+'?raw=true'"
      ],
      "execution_count": 23,
      "outputs": []
    },
    {
      "cell_type": "code",
      "metadata": {
        "id": "OdjuGPFKO1t-"
      },
      "source": [
        "re_sales = pd.read_excel(url)"
      ],
      "execution_count": 186,
      "outputs": []
    },
    {
      "cell_type": "code",
      "metadata": {
        "id": "33COpGWnO1t-",
        "colab": {
          "base_uri": "https://localhost:8080/",
          "height": 612
        },
        "outputId": "f237b397-4087-4124-c637-8f3e6953553c"
      },
      "source": [
        "re_sales.head()"
      ],
      "execution_count": 187,
      "outputs": [
        {
          "output_type": "execute_result",
          "data": {
            "text/html": [
              "<div>\n",
              "<style scoped>\n",
              "    .dataframe tbody tr th:only-of-type {\n",
              "        vertical-align: middle;\n",
              "    }\n",
              "\n",
              "    .dataframe tbody tr th {\n",
              "        vertical-align: top;\n",
              "    }\n",
              "\n",
              "    .dataframe thead th {\n",
              "        text-align: right;\n",
              "    }\n",
              "</style>\n",
              "<table border=\"1\" class=\"dataframe\">\n",
              "  <thead>\n",
              "    <tr style=\"text-align: right;\">\n",
              "      <th></th>\n",
              "      <th>BROOKLYN ANNUALIZE SALE FOR 2015.  (All Sales From  January 1, 2015 - December 31, 2015)</th>\n",
              "      <th>Unnamed: 1</th>\n",
              "      <th>Unnamed: 2</th>\n",
              "      <th>Unnamed: 3</th>\n",
              "      <th>Unnamed: 4</th>\n",
              "      <th>Unnamed: 5</th>\n",
              "      <th>Unnamed: 6</th>\n",
              "      <th>Unnamed: 7</th>\n",
              "      <th>Unnamed: 8</th>\n",
              "      <th>Unnamed: 9</th>\n",
              "      <th>Unnamed: 10</th>\n",
              "      <th>Unnamed: 11</th>\n",
              "      <th>Unnamed: 12</th>\n",
              "      <th>Unnamed: 13</th>\n",
              "      <th>Unnamed: 14</th>\n",
              "      <th>Unnamed: 15</th>\n",
              "      <th>Unnamed: 16</th>\n",
              "      <th>Unnamed: 17</th>\n",
              "      <th>Unnamed: 18</th>\n",
              "      <th>Unnamed: 19</th>\n",
              "      <th>Unnamed: 20</th>\n",
              "    </tr>\n",
              "  </thead>\n",
              "  <tbody>\n",
              "    <tr>\n",
              "      <th>0</th>\n",
              "      <td>Sales File as of 3/31/2016.  Coop Sales Files ...</td>\n",
              "      <td>NaN</td>\n",
              "      <td>NaN</td>\n",
              "      <td>NaN</td>\n",
              "      <td>NaN</td>\n",
              "      <td>NaN</td>\n",
              "      <td>NaN</td>\n",
              "      <td>NaN</td>\n",
              "      <td>NaN</td>\n",
              "      <td>NaN</td>\n",
              "      <td>NaN</td>\n",
              "      <td>NaN</td>\n",
              "      <td>NaN</td>\n",
              "      <td>NaN</td>\n",
              "      <td>NaN</td>\n",
              "      <td>NaN</td>\n",
              "      <td>NaN</td>\n",
              "      <td>NaN</td>\n",
              "      <td>NaN</td>\n",
              "      <td>NaN</td>\n",
              "      <td>NaN</td>\n",
              "    </tr>\n",
              "    <tr>\n",
              "      <th>1</th>\n",
              "      <td>Neighborhood Name 4/1/16.  Descriptive Data as...</td>\n",
              "      <td>NaN</td>\n",
              "      <td>NaN</td>\n",
              "      <td>NaN</td>\n",
              "      <td>NaN</td>\n",
              "      <td>NaN</td>\n",
              "      <td>NaN</td>\n",
              "      <td>NaN</td>\n",
              "      <td>NaN</td>\n",
              "      <td>NaN</td>\n",
              "      <td>NaN</td>\n",
              "      <td>NaN</td>\n",
              "      <td>NaN</td>\n",
              "      <td>NaN</td>\n",
              "      <td>NaN</td>\n",
              "      <td>NaN</td>\n",
              "      <td>NaN</td>\n",
              "      <td>NaN</td>\n",
              "      <td>NaN</td>\n",
              "      <td>NaN</td>\n",
              "      <td>NaN</td>\n",
              "    </tr>\n",
              "    <tr>\n",
              "      <th>2</th>\n",
              "      <td>Building Class Category is based on Building C...</td>\n",
              "      <td>NaN</td>\n",
              "      <td>NaN</td>\n",
              "      <td>NaN</td>\n",
              "      <td>NaN</td>\n",
              "      <td>NaN</td>\n",
              "      <td>NaN</td>\n",
              "      <td>NaN</td>\n",
              "      <td>NaN</td>\n",
              "      <td>NaN</td>\n",
              "      <td>NaN</td>\n",
              "      <td>NaN</td>\n",
              "      <td>NaN</td>\n",
              "      <td>NaN</td>\n",
              "      <td>NaN</td>\n",
              "      <td>NaN</td>\n",
              "      <td>NaN</td>\n",
              "      <td>NaN</td>\n",
              "      <td>NaN</td>\n",
              "      <td>NaN</td>\n",
              "      <td>NaN</td>\n",
              "    </tr>\n",
              "    <tr>\n",
              "      <th>3</th>\n",
              "      <td>BOROUGH\\n</td>\n",
              "      <td>NEIGHBORHOOD\\n</td>\n",
              "      <td>BUILDING CLASS CATEGORY\\n</td>\n",
              "      <td>TAX CLASS AT PRESENT\\n</td>\n",
              "      <td>BLOCK\\n</td>\n",
              "      <td>LOT\\n</td>\n",
              "      <td>EASE-MENT\\n</td>\n",
              "      <td>BUILDING CLASS AT PRESENT\\n</td>\n",
              "      <td>ADDRESS\\n</td>\n",
              "      <td>APARTMENT NUMBER\\n</td>\n",
              "      <td>ZIP CODE\\n</td>\n",
              "      <td>RESIDENTIAL UNITS\\n</td>\n",
              "      <td>COMMERCIAL UNITS\\n</td>\n",
              "      <td>TOTAL UNITS\\n</td>\n",
              "      <td>LAND SQUARE FEET\\n</td>\n",
              "      <td>GROSS SQUARE FEET\\n</td>\n",
              "      <td>YEAR BUILT\\n</td>\n",
              "      <td>TAX CLASS AT TIME OF SALE\\n</td>\n",
              "      <td>BUILDING CLASS AT TIME OF SALE\\n</td>\n",
              "      <td>SALE PRICE\\n</td>\n",
              "      <td>SALE DATE\\n</td>\n",
              "    </tr>\n",
              "    <tr>\n",
              "      <th>4</th>\n",
              "      <td>3</td>\n",
              "      <td>BATH BEACH</td>\n",
              "      <td>01  ONE FAMILY DWELLINGS</td>\n",
              "      <td>1</td>\n",
              "      <td>6360</td>\n",
              "      <td>22</td>\n",
              "      <td></td>\n",
              "      <td>A5</td>\n",
              "      <td>8647 15TH AVENUE</td>\n",
              "      <td></td>\n",
              "      <td>11228</td>\n",
              "      <td>1</td>\n",
              "      <td>0</td>\n",
              "      <td>1</td>\n",
              "      <td>1547</td>\n",
              "      <td>1428</td>\n",
              "      <td>1930</td>\n",
              "      <td>1</td>\n",
              "      <td>A5</td>\n",
              "      <td>758000</td>\n",
              "      <td>2015-03-31 00:00:00</td>\n",
              "    </tr>\n",
              "  </tbody>\n",
              "</table>\n",
              "</div>"
            ],
            "text/plain": [
              "  BROOKLYN ANNUALIZE SALE FOR 2015.  (All Sales From  January 1, 2015 - December 31, 2015)  ...          Unnamed: 20\n",
              "0  Sales File as of 3/31/2016.  Coop Sales Files ...                                        ...                  NaN\n",
              "1  Neighborhood Name 4/1/16.  Descriptive Data as...                                        ...                  NaN\n",
              "2  Building Class Category is based on Building C...                                        ...                  NaN\n",
              "3                                          BOROUGH\\n                                        ...          SALE DATE\\n\n",
              "4                                                  3                                        ...  2015-03-31 00:00:00\n",
              "\n",
              "[5 rows x 21 columns]"
            ]
          },
          "metadata": {
            "tags": []
          },
          "execution_count": 187
        }
      ]
    },
    {
      "cell_type": "markdown",
      "metadata": {
        "id": "EA7KKNdiO1t-"
      },
      "source": [
        "We'll need to skip first 4 lines to make it pandas-frienly \n",
        "\n",
        "And also consider alternative data ingestion approach: download to the local folder first and then upload from local drive"
      ]
    },
    {
      "cell_type": "code",
      "metadata": {
        "id": "UjkNohKTO1t-",
        "colab": {
          "base_uri": "https://localhost:8080/"
        },
        "outputId": "70370343-fae8-40c1-b7f2-fcddaf88bc5d"
      },
      "source": [
        "import urllib #use urllib mobule for web requests\n",
        "dataDir='' #local data folder to use\n",
        "urllib.request.urlretrieve(url,dataDir+fname)"
      ],
      "execution_count": 188,
      "outputs": [
        {
          "output_type": "execute_result",
          "data": {
            "text/plain": [
              "('2015_brooklyn.xls', <http.client.HTTPMessage at 0x7fa0271d1f28>)"
            ]
          },
          "metadata": {
            "tags": []
          },
          "execution_count": 188
        }
      ]
    },
    {
      "cell_type": "code",
      "metadata": {
        "id": "c-26F-HHO1t_"
      },
      "source": [
        "#now upload the data, also skipping first 4 rows\n",
        "re_sales = pd.read_excel(dataDir+fname,skiprows=4)"
      ],
      "execution_count": 27,
      "outputs": []
    },
    {
      "cell_type": "code",
      "metadata": {
        "id": "4r7GeWT-O1t_",
        "colab": {
          "base_uri": "https://localhost:8080/",
          "height": 474
        },
        "outputId": "730eed3e-e692-46dd-d7e9-ab0f4862e78e"
      },
      "source": [
        "re_sales.head() #now the dataframe looks reasonable"
      ],
      "execution_count": 28,
      "outputs": [
        {
          "output_type": "execute_result",
          "data": {
            "text/html": [
              "<div>\n",
              "<style scoped>\n",
              "    .dataframe tbody tr th:only-of-type {\n",
              "        vertical-align: middle;\n",
              "    }\n",
              "\n",
              "    .dataframe tbody tr th {\n",
              "        vertical-align: top;\n",
              "    }\n",
              "\n",
              "    .dataframe thead th {\n",
              "        text-align: right;\n",
              "    }\n",
              "</style>\n",
              "<table border=\"1\" class=\"dataframe\">\n",
              "  <thead>\n",
              "    <tr style=\"text-align: right;\">\n",
              "      <th></th>\n",
              "      <th>BOROUGH\\n</th>\n",
              "      <th>NEIGHBORHOOD\\n</th>\n",
              "      <th>BUILDING CLASS CATEGORY\\n</th>\n",
              "      <th>TAX CLASS AT PRESENT\\n</th>\n",
              "      <th>BLOCK\\n</th>\n",
              "      <th>LOT\\n</th>\n",
              "      <th>EASE-MENT\\n</th>\n",
              "      <th>BUILDING CLASS AT PRESENT\\n</th>\n",
              "      <th>ADDRESS\\n</th>\n",
              "      <th>APARTMENT NUMBER\\n</th>\n",
              "      <th>ZIP CODE\\n</th>\n",
              "      <th>RESIDENTIAL UNITS\\n</th>\n",
              "      <th>COMMERCIAL UNITS\\n</th>\n",
              "      <th>TOTAL UNITS\\n</th>\n",
              "      <th>LAND SQUARE FEET\\n</th>\n",
              "      <th>GROSS SQUARE FEET\\n</th>\n",
              "      <th>YEAR BUILT\\n</th>\n",
              "      <th>TAX CLASS AT TIME OF SALE\\n</th>\n",
              "      <th>BUILDING CLASS AT TIME OF SALE\\n</th>\n",
              "      <th>SALE PRICE\\n</th>\n",
              "      <th>SALE DATE\\n</th>\n",
              "    </tr>\n",
              "  </thead>\n",
              "  <tbody>\n",
              "    <tr>\n",
              "      <th>0</th>\n",
              "      <td>3</td>\n",
              "      <td>BATH BEACH</td>\n",
              "      <td>01  ONE FAMILY DWELLINGS</td>\n",
              "      <td>1</td>\n",
              "      <td>6360</td>\n",
              "      <td>22</td>\n",
              "      <td></td>\n",
              "      <td>A5</td>\n",
              "      <td>8647 15TH AVENUE</td>\n",
              "      <td></td>\n",
              "      <td>11228</td>\n",
              "      <td>1</td>\n",
              "      <td>0</td>\n",
              "      <td>1</td>\n",
              "      <td>1547</td>\n",
              "      <td>1428</td>\n",
              "      <td>1930</td>\n",
              "      <td>1</td>\n",
              "      <td>A5</td>\n",
              "      <td>758000</td>\n",
              "      <td>2015-03-31</td>\n",
              "    </tr>\n",
              "    <tr>\n",
              "      <th>1</th>\n",
              "      <td>3</td>\n",
              "      <td>BATH BEACH</td>\n",
              "      <td>01  ONE FAMILY DWELLINGS</td>\n",
              "      <td>1</td>\n",
              "      <td>6361</td>\n",
              "      <td>17</td>\n",
              "      <td></td>\n",
              "      <td>A5</td>\n",
              "      <td>55 BAY 10TH   STREET</td>\n",
              "      <td></td>\n",
              "      <td>11228</td>\n",
              "      <td>1</td>\n",
              "      <td>0</td>\n",
              "      <td>1</td>\n",
              "      <td>1933</td>\n",
              "      <td>1660</td>\n",
              "      <td>1930</td>\n",
              "      <td>1</td>\n",
              "      <td>A5</td>\n",
              "      <td>778000</td>\n",
              "      <td>2015-06-15</td>\n",
              "    </tr>\n",
              "    <tr>\n",
              "      <th>2</th>\n",
              "      <td>3</td>\n",
              "      <td>BATH BEACH</td>\n",
              "      <td>01  ONE FAMILY DWELLINGS</td>\n",
              "      <td>1</td>\n",
              "      <td>6371</td>\n",
              "      <td>60</td>\n",
              "      <td></td>\n",
              "      <td>A9</td>\n",
              "      <td>8620 19TH   AVENUE</td>\n",
              "      <td></td>\n",
              "      <td>11214</td>\n",
              "      <td>1</td>\n",
              "      <td>0</td>\n",
              "      <td>1</td>\n",
              "      <td>2417</td>\n",
              "      <td>2106</td>\n",
              "      <td>1930</td>\n",
              "      <td>1</td>\n",
              "      <td>A9</td>\n",
              "      <td>0</td>\n",
              "      <td>2015-09-16</td>\n",
              "    </tr>\n",
              "    <tr>\n",
              "      <th>3</th>\n",
              "      <td>3</td>\n",
              "      <td>BATH BEACH</td>\n",
              "      <td>01  ONE FAMILY DWELLINGS</td>\n",
              "      <td>1</td>\n",
              "      <td>6372</td>\n",
              "      <td>48</td>\n",
              "      <td></td>\n",
              "      <td>S1</td>\n",
              "      <td>1906 86TH   STREET</td>\n",
              "      <td></td>\n",
              "      <td>11214</td>\n",
              "      <td>1</td>\n",
              "      <td>1</td>\n",
              "      <td>2</td>\n",
              "      <td>1900</td>\n",
              "      <td>2090</td>\n",
              "      <td>1931</td>\n",
              "      <td>1</td>\n",
              "      <td>S1</td>\n",
              "      <td>1365000</td>\n",
              "      <td>2015-05-29</td>\n",
              "    </tr>\n",
              "    <tr>\n",
              "      <th>4</th>\n",
              "      <td>3</td>\n",
              "      <td>BATH BEACH</td>\n",
              "      <td>01  ONE FAMILY DWELLINGS</td>\n",
              "      <td>1</td>\n",
              "      <td>6373</td>\n",
              "      <td>73</td>\n",
              "      <td></td>\n",
              "      <td>A1</td>\n",
              "      <td>50 BAY 23RD STREET</td>\n",
              "      <td></td>\n",
              "      <td>11214</td>\n",
              "      <td>1</td>\n",
              "      <td>0</td>\n",
              "      <td>1</td>\n",
              "      <td>2417</td>\n",
              "      <td>1672</td>\n",
              "      <td>1930</td>\n",
              "      <td>1</td>\n",
              "      <td>A1</td>\n",
              "      <td>750000</td>\n",
              "      <td>2015-12-17</td>\n",
              "    </tr>\n",
              "  </tbody>\n",
              "</table>\n",
              "</div>"
            ],
            "text/plain": [
              "   BOROUGH\\n             NEIGHBORHOOD\\n  ... SALE PRICE\\n SALE DATE\\n\n",
              "0          3  BATH BEACH                 ...       758000  2015-03-31\n",
              "1          3  BATH BEACH                 ...       778000  2015-06-15\n",
              "2          3  BATH BEACH                 ...            0  2015-09-16\n",
              "3          3  BATH BEACH                 ...      1365000  2015-05-29\n",
              "4          3  BATH BEACH                 ...       750000  2015-12-17\n",
              "\n",
              "[5 rows x 21 columns]"
            ]
          },
          "metadata": {
            "tags": []
          },
          "execution_count": 28
        }
      ]
    },
    {
      "cell_type": "code",
      "metadata": {
        "id": "K5S5asj8O1t_",
        "colab": {
          "base_uri": "https://localhost:8080/"
        },
        "outputId": "dfaf816c-8936-4572-9048-52926bb3ad1a"
      },
      "source": [
        "re_sales.columns #list of the columns to assess the metadata"
      ],
      "execution_count": 191,
      "outputs": [
        {
          "output_type": "execute_result",
          "data": {
            "text/plain": [
              "Index(['BOROUGH\\n', 'NEIGHBORHOOD\\n', 'BUILDING CLASS CATEGORY\\n',\n",
              "       'TAX CLASS AT PRESENT\\n', 'BLOCK\\n', 'LOT\\n', 'EASE-MENT\\n',\n",
              "       'BUILDING CLASS AT PRESENT\\n', 'ADDRESS\\n', 'APARTMENT NUMBER\\n',\n",
              "       'ZIP CODE\\n', 'RESIDENTIAL UNITS\\n', 'COMMERCIAL UNITS\\n',\n",
              "       'TOTAL UNITS\\n', 'LAND SQUARE FEET\\n', 'GROSS SQUARE FEET\\n',\n",
              "       'YEAR BUILT\\n', 'TAX CLASS AT TIME OF SALE\\n',\n",
              "       'BUILDING CLASS AT TIME OF SALE\\n', 'SALE PRICE\\n', 'SALE DATE\\n'],\n",
              "      dtype='object')"
            ]
          },
          "metadata": {
            "tags": []
          },
          "execution_count": 191
        }
      ]
    },
    {
      "cell_type": "code",
      "metadata": {
        "id": "R0fafEONO1t_"
      },
      "source": [
        "#notice that field names contain an artifact from the original data represenation - end of line symbol '\\n'\n",
        "#this way we won't be able to access the fields as before using \".\" syntax, but we can still use \"[]\" syntax like"
      ],
      "execution_count": 30,
      "outputs": []
    },
    {
      "cell_type": "code",
      "metadata": {
        "id": "Eyd9eTyxO1t_",
        "colab": {
          "base_uri": "https://localhost:8080/"
        },
        "outputId": "5eb19c8c-4ce3-416b-dadd-b9772469ca84"
      },
      "source": [
        "re_sales['SALE PRICE\\n'].sum() #this will be the total sales volume"
      ],
      "execution_count": 193,
      "outputs": [
        {
          "output_type": "execute_result",
          "data": {
            "text/plain": [
              "19990077327"
            ]
          },
          "metadata": {
            "tags": []
          },
          "execution_count": 193
        }
      ]
    },
    {
      "cell_type": "code",
      "metadata": {
        "id": "WA65KVboO1uA",
        "colab": {
          "base_uri": "https://localhost:8080/",
          "height": 345
        },
        "outputId": "f12eea67-63f6-4fd2-bc46-4b7223c7ff7c"
      },
      "source": [
        "re_sales.describe() #statistics for numeric columns"
      ],
      "execution_count": 194,
      "outputs": [
        {
          "output_type": "execute_result",
          "data": {
            "text/html": [
              "<div>\n",
              "<style scoped>\n",
              "    .dataframe tbody tr th:only-of-type {\n",
              "        vertical-align: middle;\n",
              "    }\n",
              "\n",
              "    .dataframe tbody tr th {\n",
              "        vertical-align: top;\n",
              "    }\n",
              "\n",
              "    .dataframe thead th {\n",
              "        text-align: right;\n",
              "    }\n",
              "</style>\n",
              "<table border=\"1\" class=\"dataframe\">\n",
              "  <thead>\n",
              "    <tr style=\"text-align: right;\">\n",
              "      <th></th>\n",
              "      <th>BOROUGH\\n</th>\n",
              "      <th>BLOCK\\n</th>\n",
              "      <th>LOT\\n</th>\n",
              "      <th>ZIP CODE\\n</th>\n",
              "      <th>RESIDENTIAL UNITS\\n</th>\n",
              "      <th>COMMERCIAL UNITS\\n</th>\n",
              "      <th>TOTAL UNITS\\n</th>\n",
              "      <th>LAND SQUARE FEET\\n</th>\n",
              "      <th>GROSS SQUARE FEET\\n</th>\n",
              "      <th>YEAR BUILT\\n</th>\n",
              "      <th>TAX CLASS AT TIME OF SALE\\n</th>\n",
              "      <th>SALE PRICE\\n</th>\n",
              "    </tr>\n",
              "  </thead>\n",
              "  <tbody>\n",
              "    <tr>\n",
              "      <th>count</th>\n",
              "      <td>25362.0</td>\n",
              "      <td>25362.000000</td>\n",
              "      <td>25362.000000</td>\n",
              "      <td>25362.000000</td>\n",
              "      <td>25362.000000</td>\n",
              "      <td>25362.000000</td>\n",
              "      <td>25362.000000</td>\n",
              "      <td>25362.000000</td>\n",
              "      <td>25362.000000</td>\n",
              "      <td>25362.000000</td>\n",
              "      <td>25362.000000</td>\n",
              "      <td>2.536200e+04</td>\n",
              "    </tr>\n",
              "    <tr>\n",
              "      <th>mean</th>\n",
              "      <td>3.0</td>\n",
              "      <td>4207.714534</td>\n",
              "      <td>281.084418</td>\n",
              "      <td>11217.017270</td>\n",
              "      <td>2.376981</td>\n",
              "      <td>0.185474</td>\n",
              "      <td>2.603817</td>\n",
              "      <td>2238.399456</td>\n",
              "      <td>2878.065649</td>\n",
              "      <td>1774.995584</td>\n",
              "      <td>1.699077</td>\n",
              "      <td>7.881901e+05</td>\n",
              "    </tr>\n",
              "    <tr>\n",
              "      <th>std</th>\n",
              "      <td>0.0</td>\n",
              "      <td>2649.487442</td>\n",
              "      <td>492.384071</td>\n",
              "      <td>186.770716</td>\n",
              "      <td>7.803233</td>\n",
              "      <td>2.711002</td>\n",
              "      <td>8.286863</td>\n",
              "      <td>6372.188724</td>\n",
              "      <td>10178.063689</td>\n",
              "      <td>542.988555</td>\n",
              "      <td>0.944152</td>\n",
              "      <td>3.198035e+06</td>\n",
              "    </tr>\n",
              "    <tr>\n",
              "      <th>min</th>\n",
              "      <td>3.0</td>\n",
              "      <td>20.000000</td>\n",
              "      <td>1.000000</td>\n",
              "      <td>0.000000</td>\n",
              "      <td>0.000000</td>\n",
              "      <td>0.000000</td>\n",
              "      <td>0.000000</td>\n",
              "      <td>0.000000</td>\n",
              "      <td>0.000000</td>\n",
              "      <td>0.000000</td>\n",
              "      <td>1.000000</td>\n",
              "      <td>0.000000e+00</td>\n",
              "    </tr>\n",
              "    <tr>\n",
              "      <th>25%</th>\n",
              "      <td>3.0</td>\n",
              "      <td>1768.000000</td>\n",
              "      <td>21.000000</td>\n",
              "      <td>11209.000000</td>\n",
              "      <td>1.000000</td>\n",
              "      <td>0.000000</td>\n",
              "      <td>1.000000</td>\n",
              "      <td>0.000000</td>\n",
              "      <td>0.000000</td>\n",
              "      <td>1910.000000</td>\n",
              "      <td>1.000000</td>\n",
              "      <td>0.000000e+00</td>\n",
              "    </tr>\n",
              "    <tr>\n",
              "      <th>50%</th>\n",
              "      <td>3.0</td>\n",
              "      <td>4149.000000</td>\n",
              "      <td>46.000000</td>\n",
              "      <td>11219.000000</td>\n",
              "      <td>1.000000</td>\n",
              "      <td>0.000000</td>\n",
              "      <td>1.000000</td>\n",
              "      <td>1900.000000</td>\n",
              "      <td>1744.500000</td>\n",
              "      <td>1929.000000</td>\n",
              "      <td>1.000000</td>\n",
              "      <td>3.300000e+05</td>\n",
              "    </tr>\n",
              "    <tr>\n",
              "      <th>75%</th>\n",
              "      <td>3.0</td>\n",
              "      <td>6540.000000</td>\n",
              "      <td>103.000000</td>\n",
              "      <td>11231.000000</td>\n",
              "      <td>2.000000</td>\n",
              "      <td>0.000000</td>\n",
              "      <td>2.000000</td>\n",
              "      <td>2500.000000</td>\n",
              "      <td>2880.000000</td>\n",
              "      <td>1957.000000</td>\n",
              "      <td>2.000000</td>\n",
              "      <td>8.130000e+05</td>\n",
              "    </tr>\n",
              "    <tr>\n",
              "      <th>max</th>\n",
              "      <td>3.0</td>\n",
              "      <td>8955.000000</td>\n",
              "      <td>9033.000000</td>\n",
              "      <td>11249.000000</td>\n",
              "      <td>338.000000</td>\n",
              "      <td>355.000000</td>\n",
              "      <td>355.000000</td>\n",
              "      <td>293000.000000</td>\n",
              "      <td>366000.000000</td>\n",
              "      <td>2016.000000</td>\n",
              "      <td>4.000000</td>\n",
              "      <td>1.690000e+08</td>\n",
              "    </tr>\n",
              "  </tbody>\n",
              "</table>\n",
              "</div>"
            ],
            "text/plain": [
              "       BOROUGH\\n       BLOCK\\n  ...  TAX CLASS AT TIME OF SALE\\n  SALE PRICE\\n\n",
              "count    25362.0  25362.000000  ...                 25362.000000  2.536200e+04\n",
              "mean         3.0   4207.714534  ...                     1.699077  7.881901e+05\n",
              "std          0.0   2649.487442  ...                     0.944152  3.198035e+06\n",
              "min          3.0     20.000000  ...                     1.000000  0.000000e+00\n",
              "25%          3.0   1768.000000  ...                     1.000000  0.000000e+00\n",
              "50%          3.0   4149.000000  ...                     1.000000  3.300000e+05\n",
              "75%          3.0   6540.000000  ...                     2.000000  8.130000e+05\n",
              "max          3.0   8955.000000  ...                     4.000000  1.690000e+08\n",
              "\n",
              "[8 rows x 12 columns]"
            ]
          },
          "metadata": {
            "tags": []
          },
          "execution_count": 194
        }
      ]
    },
    {
      "cell_type": "markdown",
      "metadata": {
        "id": "dPpS-v8YO1uA"
      },
      "source": [
        "It also helps us spot some issues with the data - zero min's for zip code, size, year (also average age of 1774 does not look right and is likely affected by that), sale price show that some records are unreliable"
      ]
    },
    {
      "cell_type": "markdown",
      "metadata": {
        "id": "hLKNCk64O1uA"
      },
      "source": [
        "Also lets introduce some descriptive analysis, e.g. total price and average price per unit"
      ]
    },
    {
      "cell_type": "code",
      "metadata": {
        "id": "GzjdSdaYO1uA",
        "colab": {
          "base_uri": "https://localhost:8080/"
        },
        "outputId": "d0fc1bc0-9f79-4eae-ef61-856054310458"
      },
      "source": [
        "re_sales['SALE PRICE\\n'].mean() #average price per unit"
      ],
      "execution_count": 195,
      "outputs": [
        {
          "output_type": "execute_result",
          "data": {
            "text/plain": [
              "788190.100425834"
            ]
          },
          "metadata": {
            "tags": []
          },
          "execution_count": 195
        }
      ]
    },
    {
      "cell_type": "code",
      "metadata": {
        "id": "QUSj8g0lO1uA",
        "colab": {
          "base_uri": "https://localhost:8080/",
          "height": 1000
        },
        "outputId": "5b1d913f-8fec-4aeb-e68e-ebe1d71f4477"
      },
      "source": [
        "#or visualizing an average sale price per zip code \n",
        "#ideally this would make more sense as a spatial visualization on the map. but let us get to that later\n",
        "#we'll use groupby here. Note that groupby will apply mean to all the fields other than the ones used for grouping (by)\n",
        "#so we first filter the datarame to keep only two columns - 'ZIP CODE\\n','SALE PRICE\\n' - first for grouping, second for taking averages\n",
        "re_sales[['ZIP CODE\\n','SALE PRICE\\n']].groupby(by=['ZIP CODE\\n']).mean()"
      ],
      "execution_count": 196,
      "outputs": [
        {
          "output_type": "execute_result",
          "data": {
            "text/html": [
              "<div>\n",
              "<style scoped>\n",
              "    .dataframe tbody tr th:only-of-type {\n",
              "        vertical-align: middle;\n",
              "    }\n",
              "\n",
              "    .dataframe tbody tr th {\n",
              "        vertical-align: top;\n",
              "    }\n",
              "\n",
              "    .dataframe thead th {\n",
              "        text-align: right;\n",
              "    }\n",
              "</style>\n",
              "<table border=\"1\" class=\"dataframe\">\n",
              "  <thead>\n",
              "    <tr style=\"text-align: right;\">\n",
              "      <th></th>\n",
              "      <th>SALE PRICE\\n</th>\n",
              "    </tr>\n",
              "    <tr>\n",
              "      <th>ZIP CODE</th>\n",
              "      <th></th>\n",
              "    </tr>\n",
              "  </thead>\n",
              "  <tbody>\n",
              "    <tr>\n",
              "      <th>0</th>\n",
              "      <td>4.892857e+05</td>\n",
              "    </tr>\n",
              "    <tr>\n",
              "      <th>11201</th>\n",
              "      <td>1.618065e+06</td>\n",
              "    </tr>\n",
              "    <tr>\n",
              "      <th>11203</th>\n",
              "      <td>4.190376e+05</td>\n",
              "    </tr>\n",
              "    <tr>\n",
              "      <th>11204</th>\n",
              "      <td>4.908219e+05</td>\n",
              "    </tr>\n",
              "    <tr>\n",
              "      <th>11205</th>\n",
              "      <td>7.062129e+05</td>\n",
              "    </tr>\n",
              "    <tr>\n",
              "      <th>11206</th>\n",
              "      <td>1.213060e+06</td>\n",
              "    </tr>\n",
              "    <tr>\n",
              "      <th>11207</th>\n",
              "      <td>4.006299e+05</td>\n",
              "    </tr>\n",
              "    <tr>\n",
              "      <th>11208</th>\n",
              "      <td>3.979557e+05</td>\n",
              "    </tr>\n",
              "    <tr>\n",
              "      <th>11209</th>\n",
              "      <td>5.333751e+05</td>\n",
              "    </tr>\n",
              "    <tr>\n",
              "      <th>11210</th>\n",
              "      <td>6.411172e+05</td>\n",
              "    </tr>\n",
              "    <tr>\n",
              "      <th>11211</th>\n",
              "      <td>1.272336e+06</td>\n",
              "    </tr>\n",
              "    <tr>\n",
              "      <th>11212</th>\n",
              "      <td>7.217267e+05</td>\n",
              "    </tr>\n",
              "    <tr>\n",
              "      <th>11213</th>\n",
              "      <td>7.467856e+05</td>\n",
              "    </tr>\n",
              "    <tr>\n",
              "      <th>11214</th>\n",
              "      <td>5.148053e+05</td>\n",
              "    </tr>\n",
              "    <tr>\n",
              "      <th>11215</th>\n",
              "      <td>1.200128e+06</td>\n",
              "    </tr>\n",
              "    <tr>\n",
              "      <th>11216</th>\n",
              "      <td>7.310867e+05</td>\n",
              "    </tr>\n",
              "    <tr>\n",
              "      <th>11217</th>\n",
              "      <td>1.619211e+06</td>\n",
              "    </tr>\n",
              "    <tr>\n",
              "      <th>11218</th>\n",
              "      <td>7.183455e+05</td>\n",
              "    </tr>\n",
              "    <tr>\n",
              "      <th>11219</th>\n",
              "      <td>4.863094e+05</td>\n",
              "    </tr>\n",
              "    <tr>\n",
              "      <th>11220</th>\n",
              "      <td>6.457887e+05</td>\n",
              "    </tr>\n",
              "    <tr>\n",
              "      <th>11221</th>\n",
              "      <td>5.739595e+05</td>\n",
              "    </tr>\n",
              "    <tr>\n",
              "      <th>11222</th>\n",
              "      <td>1.250622e+06</td>\n",
              "    </tr>\n",
              "    <tr>\n",
              "      <th>11223</th>\n",
              "      <td>6.056926e+05</td>\n",
              "    </tr>\n",
              "    <tr>\n",
              "      <th>11224</th>\n",
              "      <td>8.177449e+05</td>\n",
              "    </tr>\n",
              "    <tr>\n",
              "      <th>11225</th>\n",
              "      <td>1.114451e+06</td>\n",
              "    </tr>\n",
              "    <tr>\n",
              "      <th>11226</th>\n",
              "      <td>1.403538e+06</td>\n",
              "    </tr>\n",
              "    <tr>\n",
              "      <th>11227</th>\n",
              "      <td>6.000000e+05</td>\n",
              "    </tr>\n",
              "    <tr>\n",
              "      <th>11228</th>\n",
              "      <td>5.305021e+05</td>\n",
              "    </tr>\n",
              "    <tr>\n",
              "      <th>11229</th>\n",
              "      <td>4.220108e+05</td>\n",
              "    </tr>\n",
              "    <tr>\n",
              "      <th>11230</th>\n",
              "      <td>5.853335e+05</td>\n",
              "    </tr>\n",
              "    <tr>\n",
              "      <th>11231</th>\n",
              "      <td>1.539066e+06</td>\n",
              "    </tr>\n",
              "    <tr>\n",
              "      <th>11232</th>\n",
              "      <td>1.392873e+06</td>\n",
              "    </tr>\n",
              "    <tr>\n",
              "      <th>11233</th>\n",
              "      <td>5.631594e+05</td>\n",
              "    </tr>\n",
              "    <tr>\n",
              "      <th>11234</th>\n",
              "      <td>3.765121e+05</td>\n",
              "    </tr>\n",
              "    <tr>\n",
              "      <th>11235</th>\n",
              "      <td>4.385999e+05</td>\n",
              "    </tr>\n",
              "    <tr>\n",
              "      <th>11236</th>\n",
              "      <td>3.511484e+05</td>\n",
              "    </tr>\n",
              "    <tr>\n",
              "      <th>11237</th>\n",
              "      <td>1.145922e+06</td>\n",
              "    </tr>\n",
              "    <tr>\n",
              "      <th>11238</th>\n",
              "      <td>1.146052e+06</td>\n",
              "    </tr>\n",
              "    <tr>\n",
              "      <th>11239</th>\n",
              "      <td>2.960000e+05</td>\n",
              "    </tr>\n",
              "    <tr>\n",
              "      <th>11249</th>\n",
              "      <td>1.632150e+06</td>\n",
              "    </tr>\n",
              "  </tbody>\n",
              "</table>\n",
              "</div>"
            ],
            "text/plain": [
              "            SALE PRICE\\n\n",
              "ZIP CODE\\n              \n",
              "0           4.892857e+05\n",
              "11201       1.618065e+06\n",
              "11203       4.190376e+05\n",
              "11204       4.908219e+05\n",
              "11205       7.062129e+05\n",
              "11206       1.213060e+06\n",
              "11207       4.006299e+05\n",
              "11208       3.979557e+05\n",
              "11209       5.333751e+05\n",
              "11210       6.411172e+05\n",
              "11211       1.272336e+06\n",
              "11212       7.217267e+05\n",
              "11213       7.467856e+05\n",
              "11214       5.148053e+05\n",
              "11215       1.200128e+06\n",
              "11216       7.310867e+05\n",
              "11217       1.619211e+06\n",
              "11218       7.183455e+05\n",
              "11219       4.863094e+05\n",
              "11220       6.457887e+05\n",
              "11221       5.739595e+05\n",
              "11222       1.250622e+06\n",
              "11223       6.056926e+05\n",
              "11224       8.177449e+05\n",
              "11225       1.114451e+06\n",
              "11226       1.403538e+06\n",
              "11227       6.000000e+05\n",
              "11228       5.305021e+05\n",
              "11229       4.220108e+05\n",
              "11230       5.853335e+05\n",
              "11231       1.539066e+06\n",
              "11232       1.392873e+06\n",
              "11233       5.631594e+05\n",
              "11234       3.765121e+05\n",
              "11235       4.385999e+05\n",
              "11236       3.511484e+05\n",
              "11237       1.145922e+06\n",
              "11238       1.146052e+06\n",
              "11239       2.960000e+05\n",
              "11249       1.632150e+06"
            ]
          },
          "metadata": {
            "tags": []
          },
          "execution_count": 196
        }
      ]
    },
    {
      "cell_type": "code",
      "metadata": {
        "id": "cIYFZnjPO1uB",
        "colab": {
          "base_uri": "https://localhost:8080/",
          "height": 341
        },
        "outputId": "6e4273f4-b7c5-4440-a7fe-924321aa11ed"
      },
      "source": [
        "re_sales[['ZIP CODE\\n','SALE PRICE\\n']].groupby(by=['ZIP CODE\\n']).mean().plot.bar()"
      ],
      "execution_count": 197,
      "outputs": [
        {
          "output_type": "execute_result",
          "data": {
            "text/plain": [
              "<matplotlib.axes._subplots.AxesSubplot at 0x7fa025f16630>"
            ]
          },
          "metadata": {
            "tags": []
          },
          "execution_count": 197
        },
        {
          "output_type": "display_data",
          "data": {
            "image/png": "[encoded data removed]",
            "text/plain": [
              "<Figure size 432x288 with 1 Axes>"
            ]
          },
          "metadata": {
            "tags": [],
            "needs_background": "light"
          }
        }
      ]
    },
    {
      "cell_type": "markdown",
      "metadata": {
        "id": "oQXYQSs6O1uB"
      },
      "source": [
        "But price per unit is not always the best characteristics of the market as units might be quite different, ranging from small studios to large houses. Besides particularly expensive ones may affect the averages. Median price is often used along with the price per square foot. In the next excercise, we'll try to compute an average price per square foot. For now let's skip the technical issue like missing/zero data and just plow ahead. In the next lab we'll talk about how those should addressed."
      ]
    },
    {
      "cell_type": "markdown",
      "metadata": {
        "id": "jubgbW6oO1uB"
      },
      "source": [
        "### Task 2. \n",
        "Quantify the average price per square foot per zip code. Visualize result as a bar plot. Which zip codes are the three most expensive ones?"
      ]
    },
    {
      "cell_type": "markdown",
      "metadata": {
        "id": "bVIQ9sYnO1uC"
      },
      "source": [
        "Hints: First, use \"group_by\" to create an aggregate with cumulative price and sq foot size and then add a new field through assignment dividing one by the other. \n",
        "\n",
        "You can use sort_values to order dataframe by price per zip code and see the top three zip codes.\n",
        "\n",
        "Not mandatory, but if you want python to give you a specific list of the top three zip codes, you can use .iloc to slice it and get the index converting it to a list. But then make sure to ignore zip codes with infinite prices (likely due to zero house sizes)."
      ]
    },
    {
      "cell_type": "code",
      "metadata": {
        "colab": {
          "base_uri": "https://localhost:8080/"
        },
        "id": "F-nSS8pXPdf2",
        "outputId": "e3a17794-0b83-4a1c-b775-31a13811a5e1"
      },
      "source": [
        "re_sales['TOTAL UNITS\\n'].value_counts() #Should give me the total count of Residential Units."
      ],
      "execution_count": 36,
      "outputs": [
        {
          "output_type": "execute_result",
          "data": {
            "text/plain": [
              "1      9038\n",
              "2      6443\n",
              "0      3865\n",
              "3      3045\n",
              "4       918\n",
              "       ... \n",
              "104       1\n",
              "120       1\n",
              "178       1\n",
              "114       1\n",
              "335       1\n",
              "Name: TOTAL UNITS\\n, Length: 112, dtype: int64"
            ]
          },
          "metadata": {
            "tags": []
          },
          "execution_count": 36
        }
      ]
    },
    {
      "cell_type": "code",
      "metadata": {
        "colab": {
          "base_uri": "https://localhost:8080/"
        },
        "id": "uC0jJcEgIetw",
        "outputId": "c40a2e62-4f1d-4121-ac53-1e7ab418318f"
      },
      "source": [
        "re_sales['SALE PRICE\\n'].value_counts()"
      ],
      "execution_count": 199,
      "outputs": [
        {
          "output_type": "execute_result",
          "data": {
            "text/plain": [
              "0          9190\n",
              "10          273\n",
              "1200000     150\n",
              "600000      130\n",
              "450000      129\n",
              "           ... \n",
              "932000        1\n",
              "746976        1\n",
              "601577        1\n",
              "2795000       1\n",
              "554993        1\n",
              "Name: SALE PRICE\\n, Length: 3556, dtype: int64"
            ]
          },
          "metadata": {
            "tags": []
          },
          "execution_count": 199
        }
      ]
    },
    {
      "cell_type": "markdown",
      "metadata": {
        "id": "J_JIP5qTJehC"
      },
      "source": [
        ""
      ]
    },
    {
      "cell_type": "code",
      "metadata": {
        "colab": {
          "base_uri": "https://localhost:8080/"
        },
        "id": "UqM0EuwVJjsw",
        "outputId": "341caedd-3506-41c2-da51-d8848d6481f5"
      },
      "source": [
        "re_sales['GROSS SQUARE FEET\\n'].value_counts()"
      ],
      "execution_count": 200,
      "outputs": [
        {
          "output_type": "execute_result",
          "data": {
            "text/plain": [
              "0        8984\n",
              "2400      240\n",
              "3000      214\n",
              "3600      190\n",
              "2700      190\n",
              "         ... \n",
              "2857        1\n",
              "808         1\n",
              "4874        1\n",
              "2809        1\n",
              "40804       1\n",
              "Name: GROSS SQUARE FEET\\n, Length: 3547, dtype: int64"
            ]
          },
          "metadata": {
            "tags": []
          },
          "execution_count": 200
        }
      ]
    },
    {
      "cell_type": "code",
      "metadata": {
        "colab": {
          "base_uri": "https://localhost:8080/"
        },
        "id": "DzVa6NJCJvZ6",
        "outputId": "4dd18539-fb1c-4cb7-828f-bffeaba23cef"
      },
      "source": [
        "re_sales['ZIP CODE\\n'].value_counts()"
      ],
      "execution_count": 39,
      "outputs": [
        {
          "output_type": "execute_result",
          "data": {
            "text/plain": [
              "11235    1247\n",
              "11201    1228\n",
              "11234    1125\n",
              "11221    1025\n",
              "11215    1002\n",
              "11207     989\n",
              "11229     886\n",
              "11209     821\n",
              "11238     798\n",
              "11236     792\n",
              "11216     776\n",
              "11205     763\n",
              "11208     762\n",
              "11233     759\n",
              "11214     749\n",
              "11223     740\n",
              "11219     732\n",
              "11230     707\n",
              "11211     701\n",
              "11218     664\n",
              "11204     649\n",
              "11203     649\n",
              "11249     606\n",
              "11220     593\n",
              "11206     542\n",
              "11226     521\n",
              "11210     505\n",
              "11217     504\n",
              "11222     462\n",
              "11228     460\n",
              "11213     455\n",
              "11212     411\n",
              "11231     398\n",
              "11225     361\n",
              "11224     352\n",
              "11237     344\n",
              "11232     273\n",
              "0           7\n",
              "11239       2\n",
              "11227       2\n",
              "Name: ZIP CODE\\n, dtype: int64"
            ]
          },
          "metadata": {
            "tags": []
          },
          "execution_count": 39
        }
      ]
    },
    {
      "cell_type": "code",
      "metadata": {
        "colab": {
          "base_uri": "https://localhost:8080/"
        },
        "id": "CWxNEfnRCdL3",
        "outputId": "04bbd816-0c03-488f-f63f-aa8cdec5e839"
      },
      "source": [
        "re_sales['SALE PRICE\\n'].sum()"
      ],
      "execution_count": 40,
      "outputs": [
        {
          "output_type": "execute_result",
          "data": {
            "text/plain": [
              "19990077327"
            ]
          },
          "metadata": {
            "tags": []
          },
          "execution_count": 40
        }
      ]
    },
    {
      "cell_type": "code",
      "metadata": {
        "colab": {
          "base_uri": "https://localhost:8080/"
        },
        "id": "uHy_jAmvCz7D",
        "outputId": "6594e698-7928-497b-d2e5-b76666c342ef"
      },
      "source": [
        "re_sales['GROSS SQUARE FEET\\n'].sum()"
      ],
      "execution_count": 41,
      "outputs": [
        {
          "output_type": "execute_result",
          "data": {
            "text/plain": [
              "72993501"
            ]
          },
          "metadata": {
            "tags": []
          },
          "execution_count": 41
        }
      ]
    },
    {
      "cell_type": "code",
      "metadata": {
        "colab": {
          "base_uri": "https://localhost:8080/"
        },
        "id": "XmODmSJaYK7g",
        "outputId": "4cfa233b-d58b-4789-ec0f-93da82fbc961"
      },
      "source": [
        "x=re_sales['SALE PRICE\\n'].sum()\r\n",
        "y=re_sales['GROSS SQUARE FEET\\n'].sum()\r\n",
        "z=x/y\r\n",
        "print(z)"
      ],
      "execution_count": 157,
      "outputs": [
        {
          "output_type": "stream",
          "text": [
            "273.861056849431\n"
          ],
          "name": "stdout"
        }
      ]
    },
    {
      "cell_type": "code",
      "metadata": {
        "colab": {
          "base_uri": "https://localhost:8080/"
        },
        "id": "hiBAn_l1SkfQ",
        "outputId": "e364ffa3-7a21-44bb-ec74-eb6d1c7369e5"
      },
      "source": [
        "re_sales['SALE PRICE\\n'].mean()"
      ],
      "execution_count": 158,
      "outputs": [
        {
          "output_type": "execute_result",
          "data": {
            "text/plain": [
              "788190.100425834"
            ]
          },
          "metadata": {
            "tags": []
          },
          "execution_count": 158
        }
      ]
    },
    {
      "cell_type": "code",
      "metadata": {
        "colab": {
          "base_uri": "https://localhost:8080/"
        },
        "id": "7Rubp8yOMzpy",
        "outputId": "f65be3ae-e078-4fa3-f64c-ab2011e40925"
      },
      "source": [
        "re_sales['GROSS SQUARE FEET\\n'].mean()"
      ],
      "execution_count": 159,
      "outputs": [
        {
          "output_type": "execute_result",
          "data": {
            "text/plain": [
              "2878.0656493967354"
            ]
          },
          "metadata": {
            "tags": []
          },
          "execution_count": 159
        }
      ]
    },
    {
      "cell_type": "code",
      "metadata": {
        "id": "vcVF02jPAYEV",
        "colab": {
          "base_uri": "https://localhost:8080/",
          "height": 1000
        },
        "outputId": "4c7f0b7d-c3a1-482d-8e05-e9fc4165d055"
      },
      "source": [
        "re_sales[['ZIP CODE\\n','GROSS SQUARE FEET\\n','SALE PRICE\\n']].groupby(by=['ZIP CODE\\n']).mean() #There are more than one aggregate functions. Mean is an aggregate function."
      ],
      "execution_count": 47,
      "outputs": [
        {
          "output_type": "execute_result",
          "data": {
            "text/html": [
              "<div>\n",
              "<style scoped>\n",
              "    .dataframe tbody tr th:only-of-type {\n",
              "        vertical-align: middle;\n",
              "    }\n",
              "\n",
              "    .dataframe tbody tr th {\n",
              "        vertical-align: top;\n",
              "    }\n",
              "\n",
              "    .dataframe thead th {\n",
              "        text-align: right;\n",
              "    }\n",
              "</style>\n",
              "<table border=\"1\" class=\"dataframe\">\n",
              "  <thead>\n",
              "    <tr style=\"text-align: right;\">\n",
              "      <th></th>\n",
              "      <th>GROSS SQUARE FEET\\n</th>\n",
              "      <th>SALE PRICE\\n</th>\n",
              "    </tr>\n",
              "    <tr>\n",
              "      <th>ZIP CODE</th>\n",
              "      <th></th>\n",
              "      <th></th>\n",
              "    </tr>\n",
              "  </thead>\n",
              "  <tbody>\n",
              "    <tr>\n",
              "      <th>0</th>\n",
              "      <td>0.000000</td>\n",
              "      <td>4.892857e+05</td>\n",
              "    </tr>\n",
              "    <tr>\n",
              "      <th>11201</th>\n",
              "      <td>2145.188111</td>\n",
              "      <td>1.618065e+06</td>\n",
              "    </tr>\n",
              "    <tr>\n",
              "      <th>11203</th>\n",
              "      <td>2717.500770</td>\n",
              "      <td>4.190376e+05</td>\n",
              "    </tr>\n",
              "    <tr>\n",
              "      <th>11204</th>\n",
              "      <td>2262.981510</td>\n",
              "      <td>4.908219e+05</td>\n",
              "    </tr>\n",
              "    <tr>\n",
              "      <th>11205</th>\n",
              "      <td>3318.619921</td>\n",
              "      <td>7.062129e+05</td>\n",
              "    </tr>\n",
              "    <tr>\n",
              "      <th>11206</th>\n",
              "      <td>3515.075646</td>\n",
              "      <td>1.213060e+06</td>\n",
              "    </tr>\n",
              "    <tr>\n",
              "      <th>11207</th>\n",
              "      <td>2960.496461</td>\n",
              "      <td>4.006299e+05</td>\n",
              "    </tr>\n",
              "    <tr>\n",
              "      <th>11208</th>\n",
              "      <td>2862.032808</td>\n",
              "      <td>3.979557e+05</td>\n",
              "    </tr>\n",
              "    <tr>\n",
              "      <th>11209</th>\n",
              "      <td>1767.007308</td>\n",
              "      <td>5.333751e+05</td>\n",
              "    </tr>\n",
              "    <tr>\n",
              "      <th>11210</th>\n",
              "      <td>3032.879208</td>\n",
              "      <td>6.411172e+05</td>\n",
              "    </tr>\n",
              "    <tr>\n",
              "      <th>11211</th>\n",
              "      <td>3170.145506</td>\n",
              "      <td>1.272336e+06</td>\n",
              "    </tr>\n",
              "    <tr>\n",
              "      <th>11212</th>\n",
              "      <td>6351.798054</td>\n",
              "      <td>7.217267e+05</td>\n",
              "    </tr>\n",
              "    <tr>\n",
              "      <th>11213</th>\n",
              "      <td>4299.773626</td>\n",
              "      <td>7.467856e+05</td>\n",
              "    </tr>\n",
              "    <tr>\n",
              "      <th>11214</th>\n",
              "      <td>2197.874499</td>\n",
              "      <td>5.148053e+05</td>\n",
              "    </tr>\n",
              "    <tr>\n",
              "      <th>11215</th>\n",
              "      <td>2000.751497</td>\n",
              "      <td>1.200128e+06</td>\n",
              "    </tr>\n",
              "    <tr>\n",
              "      <th>11216</th>\n",
              "      <td>3433.038660</td>\n",
              "      <td>7.310867e+05</td>\n",
              "    </tr>\n",
              "    <tr>\n",
              "      <th>11217</th>\n",
              "      <td>2760.287698</td>\n",
              "      <td>1.619211e+06</td>\n",
              "    </tr>\n",
              "    <tr>\n",
              "      <th>11218</th>\n",
              "      <td>2355.212349</td>\n",
              "      <td>7.183455e+05</td>\n",
              "    </tr>\n",
              "    <tr>\n",
              "      <th>11219</th>\n",
              "      <td>2725.857923</td>\n",
              "      <td>4.863094e+05</td>\n",
              "    </tr>\n",
              "    <tr>\n",
              "      <th>11220</th>\n",
              "      <td>2628.841484</td>\n",
              "      <td>6.457887e+05</td>\n",
              "    </tr>\n",
              "    <tr>\n",
              "      <th>11221</th>\n",
              "      <td>3032.786341</td>\n",
              "      <td>5.739595e+05</td>\n",
              "    </tr>\n",
              "    <tr>\n",
              "      <th>11222</th>\n",
              "      <td>2942.547619</td>\n",
              "      <td>1.250622e+06</td>\n",
              "    </tr>\n",
              "    <tr>\n",
              "      <th>11223</th>\n",
              "      <td>2014.179730</td>\n",
              "      <td>6.056926e+05</td>\n",
              "    </tr>\n",
              "    <tr>\n",
              "      <th>11224</th>\n",
              "      <td>4252.406250</td>\n",
              "      <td>8.177449e+05</td>\n",
              "    </tr>\n",
              "    <tr>\n",
              "      <th>11225</th>\n",
              "      <td>5018.745152</td>\n",
              "      <td>1.114451e+06</td>\n",
              "    </tr>\n",
              "    <tr>\n",
              "      <th>11226</th>\n",
              "      <td>7612.284069</td>\n",
              "      <td>1.403538e+06</td>\n",
              "    </tr>\n",
              "    <tr>\n",
              "      <th>11227</th>\n",
              "      <td>4246.500000</td>\n",
              "      <td>6.000000e+05</td>\n",
              "    </tr>\n",
              "    <tr>\n",
              "      <th>11228</th>\n",
              "      <td>2064.136957</td>\n",
              "      <td>5.305021e+05</td>\n",
              "    </tr>\n",
              "    <tr>\n",
              "      <th>11229</th>\n",
              "      <td>1751.104966</td>\n",
              "      <td>4.220108e+05</td>\n",
              "    </tr>\n",
              "    <tr>\n",
              "      <th>11230</th>\n",
              "      <td>2258.497878</td>\n",
              "      <td>5.853335e+05</td>\n",
              "    </tr>\n",
              "    <tr>\n",
              "      <th>11231</th>\n",
              "      <td>3748.974874</td>\n",
              "      <td>1.539066e+06</td>\n",
              "    </tr>\n",
              "    <tr>\n",
              "      <th>11232</th>\n",
              "      <td>5175.102564</td>\n",
              "      <td>1.392873e+06</td>\n",
              "    </tr>\n",
              "    <tr>\n",
              "      <th>11233</th>\n",
              "      <td>3305.426877</td>\n",
              "      <td>5.631594e+05</td>\n",
              "    </tr>\n",
              "    <tr>\n",
              "      <th>11234</th>\n",
              "      <td>2400.752889</td>\n",
              "      <td>3.765121e+05</td>\n",
              "    </tr>\n",
              "    <tr>\n",
              "      <th>11235</th>\n",
              "      <td>1695.137931</td>\n",
              "      <td>4.385999e+05</td>\n",
              "    </tr>\n",
              "    <tr>\n",
              "      <th>11236</th>\n",
              "      <td>2374.469697</td>\n",
              "      <td>3.511484e+05</td>\n",
              "    </tr>\n",
              "    <tr>\n",
              "      <th>11237</th>\n",
              "      <td>5319.555233</td>\n",
              "      <td>1.145922e+06</td>\n",
              "    </tr>\n",
              "    <tr>\n",
              "      <th>11238</th>\n",
              "      <td>3265.785714</td>\n",
              "      <td>1.146052e+06</td>\n",
              "    </tr>\n",
              "    <tr>\n",
              "      <th>11239</th>\n",
              "      <td>0.000000</td>\n",
              "      <td>2.960000e+05</td>\n",
              "    </tr>\n",
              "    <tr>\n",
              "      <th>11249</th>\n",
              "      <td>1816.077558</td>\n",
              "      <td>1.632150e+06</td>\n",
              "    </tr>\n",
              "  </tbody>\n",
              "</table>\n",
              "</div>"
            ],
            "text/plain": [
              "            GROSS SQUARE FEET\\n  SALE PRICE\\n\n",
              "ZIP CODE\\n                                   \n",
              "0                      0.000000  4.892857e+05\n",
              "11201               2145.188111  1.618065e+06\n",
              "11203               2717.500770  4.190376e+05\n",
              "11204               2262.981510  4.908219e+05\n",
              "11205               3318.619921  7.062129e+05\n",
              "11206               3515.075646  1.213060e+06\n",
              "11207               2960.496461  4.006299e+05\n",
              "11208               2862.032808  3.979557e+05\n",
              "11209               1767.007308  5.333751e+05\n",
              "11210               3032.879208  6.411172e+05\n",
              "11211               3170.145506  1.272336e+06\n",
              "11212               6351.798054  7.217267e+05\n",
              "11213               4299.773626  7.467856e+05\n",
              "11214               2197.874499  5.148053e+05\n",
              "11215               2000.751497  1.200128e+06\n",
              "11216               3433.038660  7.310867e+05\n",
              "11217               2760.287698  1.619211e+06\n",
              "11218               2355.212349  7.183455e+05\n",
              "11219               2725.857923  4.863094e+05\n",
              "11220               2628.841484  6.457887e+05\n",
              "11221               3032.786341  5.739595e+05\n",
              "11222               2942.547619  1.250622e+06\n",
              "11223               2014.179730  6.056926e+05\n",
              "11224               4252.406250  8.177449e+05\n",
              "11225               5018.745152  1.114451e+06\n",
              "11226               7612.284069  1.403538e+06\n",
              "11227               4246.500000  6.000000e+05\n",
              "11228               2064.136957  5.305021e+05\n",
              "11229               1751.104966  4.220108e+05\n",
              "11230               2258.497878  5.853335e+05\n",
              "11231               3748.974874  1.539066e+06\n",
              "11232               5175.102564  1.392873e+06\n",
              "11233               3305.426877  5.631594e+05\n",
              "11234               2400.752889  3.765121e+05\n",
              "11235               1695.137931  4.385999e+05\n",
              "11236               2374.469697  3.511484e+05\n",
              "11237               5319.555233  1.145922e+06\n",
              "11238               3265.785714  1.146052e+06\n",
              "11239                  0.000000  2.960000e+05\n",
              "11249               1816.077558  1.632150e+06"
            ]
          },
          "metadata": {
            "tags": []
          },
          "execution_count": 47
        }
      ]
    },
    {
      "cell_type": "code",
      "metadata": {
        "id": "pE1xbIYJGshR",
        "colab": {
          "base_uri": "https://localhost:8080/",
          "height": 341
        },
        "outputId": "3107f25a-e46b-4c4b-e844-f4af3b214943"
      },
      "source": [
        "re_sales[['ZIP CODE\\n','GROSS SQUARE FEET\\n','SALE PRICE\\n']].groupby(by=['ZIP CODE\\n']).mean().plot.bar()"
      ],
      "execution_count": 208,
      "outputs": [
        {
          "output_type": "execute_result",
          "data": {
            "text/plain": [
              "<matplotlib.axes._subplots.AxesSubplot at 0x7fa025f97e80>"
            ]
          },
          "metadata": {
            "tags": []
          },
          "execution_count": 208
        },
        {
          "output_type": "display_data",
          "data": {
            "image/png": "[encoded data removed]",
            "text/plain": [
              "<Figure size 432x288 with 1 Axes>"
            ]
          },
          "metadata": {
            "tags": [],
            "needs_background": "light"
          }
        }
      ]
    },
    {
      "cell_type": "code",
      "metadata": {
        "colab": {
          "base_uri": "https://localhost:8080/",
          "height": 1000
        },
        "id": "VUv23PYE1dyQ",
        "outputId": "7c5ce8b8-0c9c-4511-9b65-ce96122d4368"
      },
      "source": [
        "re_sales[['ZIP CODE\\n','GROSS SQUARE FEET\\n','SALE PRICE\\n']].groupby(by=['ZIP CODE\\n']).median() #Median is an aggregate function."
      ],
      "execution_count": 60,
      "outputs": [
        {
          "output_type": "execute_result",
          "data": {
            "text/html": [
              "<div>\n",
              "<style scoped>\n",
              "    .dataframe tbody tr th:only-of-type {\n",
              "        vertical-align: middle;\n",
              "    }\n",
              "\n",
              "    .dataframe tbody tr th {\n",
              "        vertical-align: top;\n",
              "    }\n",
              "\n",
              "    .dataframe thead th {\n",
              "        text-align: right;\n",
              "    }\n",
              "</style>\n",
              "<table border=\"1\" class=\"dataframe\">\n",
              "  <thead>\n",
              "    <tr style=\"text-align: right;\">\n",
              "      <th></th>\n",
              "      <th>GROSS SQUARE FEET\\n</th>\n",
              "      <th>SALE PRICE\\n</th>\n",
              "    </tr>\n",
              "    <tr>\n",
              "      <th>ZIP CODE</th>\n",
              "      <th></th>\n",
              "      <th></th>\n",
              "    </tr>\n",
              "  </thead>\n",
              "  <tbody>\n",
              "    <tr>\n",
              "      <th>0</th>\n",
              "      <td>0.0</td>\n",
              "      <td>0.0</td>\n",
              "    </tr>\n",
              "    <tr>\n",
              "      <th>11201</th>\n",
              "      <td>0.0</td>\n",
              "      <td>705000.0</td>\n",
              "    </tr>\n",
              "    <tr>\n",
              "      <th>11203</th>\n",
              "      <td>1796.0</td>\n",
              "      <td>250000.0</td>\n",
              "    </tr>\n",
              "    <tr>\n",
              "      <th>11204</th>\n",
              "      <td>2034.0</td>\n",
              "      <td>10.0</td>\n",
              "    </tr>\n",
              "    <tr>\n",
              "      <th>11205</th>\n",
              "      <td>0.0</td>\n",
              "      <td>29616.0</td>\n",
              "    </tr>\n",
              "    <tr>\n",
              "      <th>11206</th>\n",
              "      <td>1484.5</td>\n",
              "      <td>100000.0</td>\n",
              "    </tr>\n",
              "    <tr>\n",
              "      <th>11207</th>\n",
              "      <td>2200.0</td>\n",
              "      <td>225000.0</td>\n",
              "    </tr>\n",
              "    <tr>\n",
              "      <th>11208</th>\n",
              "      <td>2080.0</td>\n",
              "      <td>264500.0</td>\n",
              "    </tr>\n",
              "    <tr>\n",
              "      <th>11209</th>\n",
              "      <td>943.0</td>\n",
              "      <td>260000.0</td>\n",
              "    </tr>\n",
              "    <tr>\n",
              "      <th>11210</th>\n",
              "      <td>1672.0</td>\n",
              "      <td>303788.0</td>\n",
              "    </tr>\n",
              "    <tr>\n",
              "      <th>11211</th>\n",
              "      <td>0.0</td>\n",
              "      <td>499500.0</td>\n",
              "    </tr>\n",
              "    <tr>\n",
              "      <th>11212</th>\n",
              "      <td>2718.0</td>\n",
              "      <td>240000.0</td>\n",
              "    </tr>\n",
              "    <tr>\n",
              "      <th>11213</th>\n",
              "      <td>2864.0</td>\n",
              "      <td>300000.0</td>\n",
              "    </tr>\n",
              "    <tr>\n",
              "      <th>11214</th>\n",
              "      <td>1764.0</td>\n",
              "      <td>250000.0</td>\n",
              "    </tr>\n",
              "    <tr>\n",
              "      <th>11215</th>\n",
              "      <td>0.0</td>\n",
              "      <td>725000.0</td>\n",
              "    </tr>\n",
              "    <tr>\n",
              "      <th>11216</th>\n",
              "      <td>2701.5</td>\n",
              "      <td>420405.0</td>\n",
              "    </tr>\n",
              "    <tr>\n",
              "      <th>11217</th>\n",
              "      <td>0.0</td>\n",
              "      <td>764000.0</td>\n",
              "    </tr>\n",
              "    <tr>\n",
              "      <th>11218</th>\n",
              "      <td>1564.0</td>\n",
              "      <td>399500.0</td>\n",
              "    </tr>\n",
              "    <tr>\n",
              "      <th>11219</th>\n",
              "      <td>2320.0</td>\n",
              "      <td>10.0</td>\n",
              "    </tr>\n",
              "    <tr>\n",
              "      <th>11220</th>\n",
              "      <td>2320.0</td>\n",
              "      <td>350000.0</td>\n",
              "    </tr>\n",
              "    <tr>\n",
              "      <th>11221</th>\n",
              "      <td>2607.0</td>\n",
              "      <td>489000.0</td>\n",
              "    </tr>\n",
              "    <tr>\n",
              "      <th>11222</th>\n",
              "      <td>1928.5</td>\n",
              "      <td>505000.0</td>\n",
              "    </tr>\n",
              "    <tr>\n",
              "      <th>11223</th>\n",
              "      <td>1746.0</td>\n",
              "      <td>305000.0</td>\n",
              "    </tr>\n",
              "    <tr>\n",
              "      <th>11224</th>\n",
              "      <td>0.0</td>\n",
              "      <td>247500.0</td>\n",
              "    </tr>\n",
              "    <tr>\n",
              "      <th>11225</th>\n",
              "      <td>2173.0</td>\n",
              "      <td>375000.0</td>\n",
              "    </tr>\n",
              "    <tr>\n",
              "      <th>11226</th>\n",
              "      <td>2757.0</td>\n",
              "      <td>490000.0</td>\n",
              "    </tr>\n",
              "    <tr>\n",
              "      <th>11227</th>\n",
              "      <td>4246.5</td>\n",
              "      <td>600000.0</td>\n",
              "    </tr>\n",
              "    <tr>\n",
              "      <th>11228</th>\n",
              "      <td>1870.0</td>\n",
              "      <td>546250.0</td>\n",
              "    </tr>\n",
              "    <tr>\n",
              "      <th>11229</th>\n",
              "      <td>1368.0</td>\n",
              "      <td>195195.0</td>\n",
              "    </tr>\n",
              "    <tr>\n",
              "      <th>11230</th>\n",
              "      <td>1472.0</td>\n",
              "      <td>215000.0</td>\n",
              "    </tr>\n",
              "    <tr>\n",
              "      <th>11231</th>\n",
              "      <td>1898.0</td>\n",
              "      <td>710000.0</td>\n",
              "    </tr>\n",
              "    <tr>\n",
              "      <th>11232</th>\n",
              "      <td>1748.0</td>\n",
              "      <td>375180.0</td>\n",
              "    </tr>\n",
              "    <tr>\n",
              "      <th>11233</th>\n",
              "      <td>2457.0</td>\n",
              "      <td>325000.0</td>\n",
              "    </tr>\n",
              "    <tr>\n",
              "      <th>11234</th>\n",
              "      <td>1680.0</td>\n",
              "      <td>380000.0</td>\n",
              "    </tr>\n",
              "    <tr>\n",
              "      <th>11235</th>\n",
              "      <td>0.0</td>\n",
              "      <td>205000.0</td>\n",
              "    </tr>\n",
              "    <tr>\n",
              "      <th>11236</th>\n",
              "      <td>1783.0</td>\n",
              "      <td>298456.5</td>\n",
              "    </tr>\n",
              "    <tr>\n",
              "      <th>11237</th>\n",
              "      <td>3300.0</td>\n",
              "      <td>549372.5</td>\n",
              "    </tr>\n",
              "    <tr>\n",
              "      <th>11238</th>\n",
              "      <td>0.0</td>\n",
              "      <td>625000.0</td>\n",
              "    </tr>\n",
              "    <tr>\n",
              "      <th>11239</th>\n",
              "      <td>0.0</td>\n",
              "      <td>296000.0</td>\n",
              "    </tr>\n",
              "    <tr>\n",
              "      <th>11249</th>\n",
              "      <td>0.0</td>\n",
              "      <td>187500.0</td>\n",
              "    </tr>\n",
              "  </tbody>\n",
              "</table>\n",
              "</div>"
            ],
            "text/plain": [
              "            GROSS SQUARE FEET\\n  SALE PRICE\\n\n",
              "ZIP CODE\\n                                   \n",
              "0                           0.0           0.0\n",
              "11201                       0.0      705000.0\n",
              "11203                    1796.0      250000.0\n",
              "11204                    2034.0          10.0\n",
              "11205                       0.0       29616.0\n",
              "11206                    1484.5      100000.0\n",
              "11207                    2200.0      225000.0\n",
              "11208                    2080.0      264500.0\n",
              "11209                     943.0      260000.0\n",
              "11210                    1672.0      303788.0\n",
              "11211                       0.0      499500.0\n",
              "11212                    2718.0      240000.0\n",
              "11213                    2864.0      300000.0\n",
              "11214                    1764.0      250000.0\n",
              "11215                       0.0      725000.0\n",
              "11216                    2701.5      420405.0\n",
              "11217                       0.0      764000.0\n",
              "11218                    1564.0      399500.0\n",
              "11219                    2320.0          10.0\n",
              "11220                    2320.0      350000.0\n",
              "11221                    2607.0      489000.0\n",
              "11222                    1928.5      505000.0\n",
              "11223                    1746.0      305000.0\n",
              "11224                       0.0      247500.0\n",
              "11225                    2173.0      375000.0\n",
              "11226                    2757.0      490000.0\n",
              "11227                    4246.5      600000.0\n",
              "11228                    1870.0      546250.0\n",
              "11229                    1368.0      195195.0\n",
              "11230                    1472.0      215000.0\n",
              "11231                    1898.0      710000.0\n",
              "11232                    1748.0      375180.0\n",
              "11233                    2457.0      325000.0\n",
              "11234                    1680.0      380000.0\n",
              "11235                       0.0      205000.0\n",
              "11236                    1783.0      298456.5\n",
              "11237                    3300.0      549372.5\n",
              "11238                       0.0      625000.0\n",
              "11239                       0.0      296000.0\n",
              "11249                       0.0      187500.0"
            ]
          },
          "metadata": {
            "tags": []
          },
          "execution_count": 60
        }
      ]
    },
    {
      "cell_type": "code",
      "metadata": {
        "colab": {
          "base_uri": "https://localhost:8080/",
          "height": 333
        },
        "id": "nvOT4du51daP",
        "outputId": "ee44d8a9-8812-4e26-85e2-9473a0ee7731"
      },
      "source": [
        "re_sales[['ZIP CODE\\n','GROSS SQUARE FEET\\n','SALE PRICE\\n']].groupby(by=['ZIP CODE\\n']).median().plot.bar()"
      ],
      "execution_count": 62,
      "outputs": [
        {
          "output_type": "execute_result",
          "data": {
            "text/plain": [
              "<matplotlib.axes._subplots.AxesSubplot at 0x7fa0379160f0>"
            ]
          },
          "metadata": {
            "tags": []
          },
          "execution_count": 62
        },
        {
          "output_type": "display_data",
          "data": {
            "image/png": "[encoded data removed]",
            "text/plain": [
              "<Figure size 432x288 with 1 Axes>"
            ]
          },
          "metadata": {
            "tags": [],
            "needs_background": "light"
          }
        }
      ]
    },
    {
      "cell_type": "code",
      "metadata": {
        "colab": {
          "base_uri": "https://localhost:8080/",
          "height": 1000
        },
        "id": "JqIRkzVE18xv",
        "outputId": "c13b92f8-27eb-4148-cea2-e5a7171bc6be"
      },
      "source": [
        "re_sales[['ZIP CODE\\n','GROSS SQUARE FEET\\n','SALE PRICE\\n']].groupby(by=['ZIP CODE\\n']).max()"
      ],
      "execution_count": 63,
      "outputs": [
        {
          "output_type": "execute_result",
          "data": {
            "text/html": [
              "<div>\n",
              "<style scoped>\n",
              "    .dataframe tbody tr th:only-of-type {\n",
              "        vertical-align: middle;\n",
              "    }\n",
              "\n",
              "    .dataframe tbody tr th {\n",
              "        vertical-align: top;\n",
              "    }\n",
              "\n",
              "    .dataframe thead th {\n",
              "        text-align: right;\n",
              "    }\n",
              "</style>\n",
              "<table border=\"1\" class=\"dataframe\">\n",
              "  <thead>\n",
              "    <tr style=\"text-align: right;\">\n",
              "      <th></th>\n",
              "      <th>GROSS SQUARE FEET\\n</th>\n",
              "      <th>SALE PRICE\\n</th>\n",
              "    </tr>\n",
              "    <tr>\n",
              "      <th>ZIP CODE</th>\n",
              "      <th></th>\n",
              "      <th></th>\n",
              "    </tr>\n",
              "  </thead>\n",
              "  <tbody>\n",
              "    <tr>\n",
              "      <th>0</th>\n",
              "      <td>0</td>\n",
              "      <td>1500000</td>\n",
              "    </tr>\n",
              "    <tr>\n",
              "      <th>11201</th>\n",
              "      <td>312093</td>\n",
              "      <td>90000000</td>\n",
              "    </tr>\n",
              "    <tr>\n",
              "      <th>11203</th>\n",
              "      <td>195000</td>\n",
              "      <td>32515000</td>\n",
              "    </tr>\n",
              "    <tr>\n",
              "      <th>11204</th>\n",
              "      <td>34042</td>\n",
              "      <td>12000000</td>\n",
              "    </tr>\n",
              "    <tr>\n",
              "      <th>11205</th>\n",
              "      <td>287770</td>\n",
              "      <td>44964921</td>\n",
              "    </tr>\n",
              "    <tr>\n",
              "      <th>11206</th>\n",
              "      <td>153000</td>\n",
              "      <td>70000000</td>\n",
              "    </tr>\n",
              "    <tr>\n",
              "      <th>11207</th>\n",
              "      <td>79955</td>\n",
              "      <td>18400000</td>\n",
              "    </tr>\n",
              "    <tr>\n",
              "      <th>11208</th>\n",
              "      <td>182284</td>\n",
              "      <td>36000000</td>\n",
              "    </tr>\n",
              "    <tr>\n",
              "      <th>11209</th>\n",
              "      <td>46200</td>\n",
              "      <td>22400000</td>\n",
              "    </tr>\n",
              "    <tr>\n",
              "      <th>11210</th>\n",
              "      <td>204830</td>\n",
              "      <td>32096000</td>\n",
              "    </tr>\n",
              "    <tr>\n",
              "      <th>11211</th>\n",
              "      <td>241764</td>\n",
              "      <td>169000000</td>\n",
              "    </tr>\n",
              "    <tr>\n",
              "      <th>11212</th>\n",
              "      <td>144000</td>\n",
              "      <td>25400000</td>\n",
              "    </tr>\n",
              "    <tr>\n",
              "      <th>11213</th>\n",
              "      <td>171993</td>\n",
              "      <td>44000000</td>\n",
              "    </tr>\n",
              "    <tr>\n",
              "      <th>11214</th>\n",
              "      <td>51419</td>\n",
              "      <td>20250000</td>\n",
              "    </tr>\n",
              "    <tr>\n",
              "      <th>11215</th>\n",
              "      <td>64871</td>\n",
              "      <td>31453747</td>\n",
              "    </tr>\n",
              "    <tr>\n",
              "      <th>11216</th>\n",
              "      <td>76264</td>\n",
              "      <td>32500000</td>\n",
              "    </tr>\n",
              "    <tr>\n",
              "      <th>11217</th>\n",
              "      <td>190750</td>\n",
              "      <td>90000000</td>\n",
              "    </tr>\n",
              "    <tr>\n",
              "      <th>11218</th>\n",
              "      <td>120689</td>\n",
              "      <td>75925000</td>\n",
              "    </tr>\n",
              "    <tr>\n",
              "      <th>11219</th>\n",
              "      <td>134367</td>\n",
              "      <td>25000000</td>\n",
              "    </tr>\n",
              "    <tr>\n",
              "      <th>11220</th>\n",
              "      <td>22750</td>\n",
              "      <td>15800000</td>\n",
              "    </tr>\n",
              "    <tr>\n",
              "      <th>11221</th>\n",
              "      <td>37500</td>\n",
              "      <td>10500000</td>\n",
              "    </tr>\n",
              "    <tr>\n",
              "      <th>11222</th>\n",
              "      <td>105475</td>\n",
              "      <td>59757356</td>\n",
              "    </tr>\n",
              "    <tr>\n",
              "      <th>11223</th>\n",
              "      <td>52800</td>\n",
              "      <td>15000000</td>\n",
              "    </tr>\n",
              "    <tr>\n",
              "      <th>11224</th>\n",
              "      <td>366000</td>\n",
              "      <td>67716996</td>\n",
              "    </tr>\n",
              "    <tr>\n",
              "      <th>11225</th>\n",
              "      <td>113952</td>\n",
              "      <td>24500000</td>\n",
              "    </tr>\n",
              "    <tr>\n",
              "      <th>11226</th>\n",
              "      <td>169423</td>\n",
              "      <td>45100000</td>\n",
              "    </tr>\n",
              "    <tr>\n",
              "      <th>11227</th>\n",
              "      <td>4875</td>\n",
              "      <td>1200000</td>\n",
              "    </tr>\n",
              "    <tr>\n",
              "      <th>11228</th>\n",
              "      <td>40000</td>\n",
              "      <td>8900000</td>\n",
              "    </tr>\n",
              "    <tr>\n",
              "      <th>11229</th>\n",
              "      <td>84375</td>\n",
              "      <td>32150000</td>\n",
              "    </tr>\n",
              "    <tr>\n",
              "      <th>11230</th>\n",
              "      <td>108378</td>\n",
              "      <td>17260000</td>\n",
              "    </tr>\n",
              "    <tr>\n",
              "      <th>11231</th>\n",
              "      <td>270000</td>\n",
              "      <td>75000000</td>\n",
              "    </tr>\n",
              "    <tr>\n",
              "      <th>11232</th>\n",
              "      <td>302000</td>\n",
              "      <td>82500000</td>\n",
              "    </tr>\n",
              "    <tr>\n",
              "      <th>11233</th>\n",
              "      <td>110000</td>\n",
              "      <td>33000000</td>\n",
              "    </tr>\n",
              "    <tr>\n",
              "      <th>11234</th>\n",
              "      <td>156536</td>\n",
              "      <td>14868000</td>\n",
              "    </tr>\n",
              "    <tr>\n",
              "      <th>11235</th>\n",
              "      <td>210028</td>\n",
              "      <td>26669496</td>\n",
              "    </tr>\n",
              "    <tr>\n",
              "      <th>11236</th>\n",
              "      <td>86763</td>\n",
              "      <td>21373162</td>\n",
              "    </tr>\n",
              "    <tr>\n",
              "      <th>11237</th>\n",
              "      <td>146300</td>\n",
              "      <td>46040000</td>\n",
              "    </tr>\n",
              "    <tr>\n",
              "      <th>11238</th>\n",
              "      <td>62190</td>\n",
              "      <td>60209050</td>\n",
              "    </tr>\n",
              "    <tr>\n",
              "      <th>11239</th>\n",
              "      <td>0</td>\n",
              "      <td>300000</td>\n",
              "    </tr>\n",
              "    <tr>\n",
              "      <th>11249</th>\n",
              "      <td>101358</td>\n",
              "      <td>165000000</td>\n",
              "    </tr>\n",
              "  </tbody>\n",
              "</table>\n",
              "</div>"
            ],
            "text/plain": [
              "            GROSS SQUARE FEET\\n  SALE PRICE\\n\n",
              "ZIP CODE\\n                                   \n",
              "0                             0       1500000\n",
              "11201                    312093      90000000\n",
              "11203                    195000      32515000\n",
              "11204                     34042      12000000\n",
              "11205                    287770      44964921\n",
              "11206                    153000      70000000\n",
              "11207                     79955      18400000\n",
              "11208                    182284      36000000\n",
              "11209                     46200      22400000\n",
              "11210                    204830      32096000\n",
              "11211                    241764     169000000\n",
              "11212                    144000      25400000\n",
              "11213                    171993      44000000\n",
              "11214                     51419      20250000\n",
              "11215                     64871      31453747\n",
              "11216                     76264      32500000\n",
              "11217                    190750      90000000\n",
              "11218                    120689      75925000\n",
              "11219                    134367      25000000\n",
              "11220                     22750      15800000\n",
              "11221                     37500      10500000\n",
              "11222                    105475      59757356\n",
              "11223                     52800      15000000\n",
              "11224                    366000      67716996\n",
              "11225                    113952      24500000\n",
              "11226                    169423      45100000\n",
              "11227                      4875       1200000\n",
              "11228                     40000       8900000\n",
              "11229                     84375      32150000\n",
              "11230                    108378      17260000\n",
              "11231                    270000      75000000\n",
              "11232                    302000      82500000\n",
              "11233                    110000      33000000\n",
              "11234                    156536      14868000\n",
              "11235                    210028      26669496\n",
              "11236                     86763      21373162\n",
              "11237                    146300      46040000\n",
              "11238                     62190      60209050\n",
              "11239                         0        300000\n",
              "11249                    101358     165000000"
            ]
          },
          "metadata": {
            "tags": []
          },
          "execution_count": 63
        }
      ]
    },
    {
      "cell_type": "code",
      "metadata": {
        "colab": {
          "base_uri": "https://localhost:8080/",
          "height": 342
        },
        "id": "zhTnLJRM2Doz",
        "outputId": "9a54d3fb-5764-4087-e007-60ced6764695"
      },
      "source": [
        "re_sales[['ZIP CODE\\n','GROSS SQUARE FEET\\n','SALE PRICE\\n']].groupby(by=['ZIP CODE\\n']).max().plot.bar()"
      ],
      "execution_count": 64,
      "outputs": [
        {
          "output_type": "execute_result",
          "data": {
            "text/plain": [
              "<matplotlib.axes._subplots.AxesSubplot at 0x7fa03799c860>"
            ]
          },
          "metadata": {
            "tags": []
          },
          "execution_count": 64
        },
        {
          "output_type": "display_data",
          "data": {
            "image/png": "[encoded data removed]",
            "text/plain": [
              "<Figure size 432x288 with 1 Axes>"
            ]
          },
          "metadata": {
            "tags": [],
            "needs_background": "light"
          }
        }
      ]
    },
    {
      "cell_type": "code",
      "metadata": {
        "colab": {
          "base_uri": "https://localhost:8080/",
          "height": 1000
        },
        "id": "pCH22Y541OgF",
        "outputId": "2c4df1f2-7395-4667-c646-8d4a67df96c2"
      },
      "source": [
        "re_sales[['ZIP CODE\\n','GROSS SQUARE FEET\\n','SALE PRICE\\n']].groupby(by=['ZIP CODE\\n']).sum()"
      ],
      "execution_count": 59,
      "outputs": [
        {
          "output_type": "execute_result",
          "data": {
            "text/html": [
              "<div>\n",
              "<style scoped>\n",
              "    .dataframe tbody tr th:only-of-type {\n",
              "        vertical-align: middle;\n",
              "    }\n",
              "\n",
              "    .dataframe tbody tr th {\n",
              "        vertical-align: top;\n",
              "    }\n",
              "\n",
              "    .dataframe thead th {\n",
              "        text-align: right;\n",
              "    }\n",
              "</style>\n",
              "<table border=\"1\" class=\"dataframe\">\n",
              "  <thead>\n",
              "    <tr style=\"text-align: right;\">\n",
              "      <th></th>\n",
              "      <th>GROSS SQUARE FEET\\n</th>\n",
              "      <th>SALE PRICE\\n</th>\n",
              "    </tr>\n",
              "    <tr>\n",
              "      <th>ZIP CODE</th>\n",
              "      <th></th>\n",
              "      <th></th>\n",
              "    </tr>\n",
              "  </thead>\n",
              "  <tbody>\n",
              "    <tr>\n",
              "      <th>0</th>\n",
              "      <td>0</td>\n",
              "      <td>3425000</td>\n",
              "    </tr>\n",
              "    <tr>\n",
              "      <th>11201</th>\n",
              "      <td>2634291</td>\n",
              "      <td>1986984263</td>\n",
              "    </tr>\n",
              "    <tr>\n",
              "      <th>11203</th>\n",
              "      <td>1763658</td>\n",
              "      <td>271955412</td>\n",
              "    </tr>\n",
              "    <tr>\n",
              "      <th>11204</th>\n",
              "      <td>1468675</td>\n",
              "      <td>318543428</td>\n",
              "    </tr>\n",
              "    <tr>\n",
              "      <th>11205</th>\n",
              "      <td>2532107</td>\n",
              "      <td>538840478</td>\n",
              "    </tr>\n",
              "    <tr>\n",
              "      <th>11206</th>\n",
              "      <td>1905171</td>\n",
              "      <td>657478647</td>\n",
              "    </tr>\n",
              "    <tr>\n",
              "      <th>11207</th>\n",
              "      <td>2927931</td>\n",
              "      <td>396223004</td>\n",
              "    </tr>\n",
              "    <tr>\n",
              "      <th>11208</th>\n",
              "      <td>2180869</td>\n",
              "      <td>303242226</td>\n",
              "    </tr>\n",
              "    <tr>\n",
              "      <th>11209</th>\n",
              "      <td>1450713</td>\n",
              "      <td>437900992</td>\n",
              "    </tr>\n",
              "    <tr>\n",
              "      <th>11210</th>\n",
              "      <td>1531604</td>\n",
              "      <td>323764186</td>\n",
              "    </tr>\n",
              "    <tr>\n",
              "      <th>11211</th>\n",
              "      <td>2222272</td>\n",
              "      <td>891907730</td>\n",
              "    </tr>\n",
              "    <tr>\n",
              "      <th>11212</th>\n",
              "      <td>2610589</td>\n",
              "      <td>296629688</td>\n",
              "    </tr>\n",
              "    <tr>\n",
              "      <th>11213</th>\n",
              "      <td>1956397</td>\n",
              "      <td>339787467</td>\n",
              "    </tr>\n",
              "    <tr>\n",
              "      <th>11214</th>\n",
              "      <td>1646208</td>\n",
              "      <td>385589160</td>\n",
              "    </tr>\n",
              "    <tr>\n",
              "      <th>11215</th>\n",
              "      <td>2004753</td>\n",
              "      <td>1202527889</td>\n",
              "    </tr>\n",
              "    <tr>\n",
              "      <th>11216</th>\n",
              "      <td>2664038</td>\n",
              "      <td>567323271</td>\n",
              "    </tr>\n",
              "    <tr>\n",
              "      <th>11217</th>\n",
              "      <td>1391185</td>\n",
              "      <td>816082437</td>\n",
              "    </tr>\n",
              "    <tr>\n",
              "      <th>11218</th>\n",
              "      <td>1563861</td>\n",
              "      <td>476981418</td>\n",
              "    </tr>\n",
              "    <tr>\n",
              "      <th>11219</th>\n",
              "      <td>1995328</td>\n",
              "      <td>355978454</td>\n",
              "    </tr>\n",
              "    <tr>\n",
              "      <th>11220</th>\n",
              "      <td>1558903</td>\n",
              "      <td>382952719</td>\n",
              "    </tr>\n",
              "    <tr>\n",
              "      <th>11221</th>\n",
              "      <td>3108606</td>\n",
              "      <td>588308438</td>\n",
              "    </tr>\n",
              "    <tr>\n",
              "      <th>11222</th>\n",
              "      <td>1359457</td>\n",
              "      <td>577787347</td>\n",
              "    </tr>\n",
              "    <tr>\n",
              "      <th>11223</th>\n",
              "      <td>1490493</td>\n",
              "      <td>448212521</td>\n",
              "    </tr>\n",
              "    <tr>\n",
              "      <th>11224</th>\n",
              "      <td>1496847</td>\n",
              "      <td>287846195</td>\n",
              "    </tr>\n",
              "    <tr>\n",
              "      <th>11225</th>\n",
              "      <td>1811767</td>\n",
              "      <td>402316703</td>\n",
              "    </tr>\n",
              "    <tr>\n",
              "      <th>11226</th>\n",
              "      <td>3966000</td>\n",
              "      <td>731243093</td>\n",
              "    </tr>\n",
              "    <tr>\n",
              "      <th>11227</th>\n",
              "      <td>8493</td>\n",
              "      <td>1200000</td>\n",
              "    </tr>\n",
              "    <tr>\n",
              "      <th>11228</th>\n",
              "      <td>949503</td>\n",
              "      <td>244030986</td>\n",
              "    </tr>\n",
              "    <tr>\n",
              "      <th>11229</th>\n",
              "      <td>1551479</td>\n",
              "      <td>373901585</td>\n",
              "    </tr>\n",
              "    <tr>\n",
              "      <th>11230</th>\n",
              "      <td>1596758</td>\n",
              "      <td>413830767</td>\n",
              "    </tr>\n",
              "    <tr>\n",
              "      <th>11231</th>\n",
              "      <td>1492092</td>\n",
              "      <td>612548434</td>\n",
              "    </tr>\n",
              "    <tr>\n",
              "      <th>11232</th>\n",
              "      <td>1412803</td>\n",
              "      <td>380254462</td>\n",
              "    </tr>\n",
              "    <tr>\n",
              "      <th>11233</th>\n",
              "      <td>2508819</td>\n",
              "      <td>427437986</td>\n",
              "    </tr>\n",
              "    <tr>\n",
              "      <th>11234</th>\n",
              "      <td>2700847</td>\n",
              "      <td>423576162</td>\n",
              "    </tr>\n",
              "    <tr>\n",
              "      <th>11235</th>\n",
              "      <td>2113837</td>\n",
              "      <td>546934073</td>\n",
              "    </tr>\n",
              "    <tr>\n",
              "      <th>11236</th>\n",
              "      <td>1880580</td>\n",
              "      <td>278109553</td>\n",
              "    </tr>\n",
              "    <tr>\n",
              "      <th>11237</th>\n",
              "      <td>1829927</td>\n",
              "      <td>394197059</td>\n",
              "    </tr>\n",
              "    <tr>\n",
              "      <th>11238</th>\n",
              "      <td>2606097</td>\n",
              "      <td>914549280</td>\n",
              "    </tr>\n",
              "    <tr>\n",
              "      <th>11239</th>\n",
              "      <td>0</td>\n",
              "      <td>592000</td>\n",
              "    </tr>\n",
              "    <tr>\n",
              "      <th>11249</th>\n",
              "      <td>1100543</td>\n",
              "      <td>989082814</td>\n",
              "    </tr>\n",
              "  </tbody>\n",
              "</table>\n",
              "</div>"
            ],
            "text/plain": [
              "            GROSS SQUARE FEET\\n  SALE PRICE\\n\n",
              "ZIP CODE\\n                                   \n",
              "0                             0       3425000\n",
              "11201                   2634291    1986984263\n",
              "11203                   1763658     271955412\n",
              "11204                   1468675     318543428\n",
              "11205                   2532107     538840478\n",
              "11206                   1905171     657478647\n",
              "11207                   2927931     396223004\n",
              "11208                   2180869     303242226\n",
              "11209                   1450713     437900992\n",
              "11210                   1531604     323764186\n",
              "11211                   2222272     891907730\n",
              "11212                   2610589     296629688\n",
              "11213                   1956397     339787467\n",
              "11214                   1646208     385589160\n",
              "11215                   2004753    1202527889\n",
              "11216                   2664038     567323271\n",
              "11217                   1391185     816082437\n",
              "11218                   1563861     476981418\n",
              "11219                   1995328     355978454\n",
              "11220                   1558903     382952719\n",
              "11221                   3108606     588308438\n",
              "11222                   1359457     577787347\n",
              "11223                   1490493     448212521\n",
              "11224                   1496847     287846195\n",
              "11225                   1811767     402316703\n",
              "11226                   3966000     731243093\n",
              "11227                      8493       1200000\n",
              "11228                    949503     244030986\n",
              "11229                   1551479     373901585\n",
              "11230                   1596758     413830767\n",
              "11231                   1492092     612548434\n",
              "11232                   1412803     380254462\n",
              "11233                   2508819     427437986\n",
              "11234                   2700847     423576162\n",
              "11235                   2113837     546934073\n",
              "11236                   1880580     278109553\n",
              "11237                   1829927     394197059\n",
              "11238                   2606097     914549280\n",
              "11239                         0        592000\n",
              "11249                   1100543     989082814"
            ]
          },
          "metadata": {
            "tags": []
          },
          "execution_count": 59
        }
      ]
    },
    {
      "cell_type": "code",
      "metadata": {
        "id": "5qN3zxy0AOh_",
        "colab": {
          "base_uri": "https://localhost:8080/",
          "height": 342
        },
        "outputId": "ff65aa9c-186f-4c7e-c416-0769edfd1332"
      },
      "source": [
        "re_sales[['ZIP CODE\\n','GROSS SQUARE FEET\\n','SALE PRICE\\n']].groupby(by=['ZIP CODE\\n']).sum().plot.bar()"
      ],
      "execution_count": 155,
      "outputs": [
        {
          "output_type": "execute_result",
          "data": {
            "text/plain": [
              "<matplotlib.axes._subplots.AxesSubplot at 0x7fa02e371c18>"
            ]
          },
          "metadata": {
            "tags": []
          },
          "execution_count": 155
        },
        {
          "output_type": "display_data",
          "data": {
            "image/png": "[encoded data removed]",
            "text/plain": [
              "<Figure size 432x288 with 1 Axes>"
            ]
          },
          "metadata": {
            "tags": [],
            "needs_background": "light"
          }
        }
      ]
    },
    {
      "cell_type": "markdown",
      "metadata": {
        "id": "1Fwx5UrbnGcN"
      },
      "source": [
        "The top three most expensive zip codes in Brooklyn are 11211,11249,11249.\r\n",
        "The most expensive residential units in Brooklyn costs (Currency is in US dollars): \r\n",
        "169,000,000, 165,000,000, and 132,400,000."
      ]
    },
    {
      "cell_type": "code",
      "metadata": {
        "colab": {
          "base_uri": "https://localhost:8080/",
          "height": 871
        },
        "id": "rJw5Bl6ifvA1",
        "outputId": "1928ede4-a1de-49c9-b288-01228a9b8b4a"
      },
      "source": [
        "re_sales.sort_values('SALE PRICE\\n',ascending=False) #Sorted values order dataframe by price/zip. Top 3 Most expensive. Ascending=False puts the top 3 at the top of the table."
      ],
      "execution_count": 153,
      "outputs": [
        {
          "output_type": "execute_result",
          "data": {
            "text/html": [
              "<div>\n",
              "<style scoped>\n",
              "    .dataframe tbody tr th:only-of-type {\n",
              "        vertical-align: middle;\n",
              "    }\n",
              "\n",
              "    .dataframe tbody tr th {\n",
              "        vertical-align: top;\n",
              "    }\n",
              "\n",
              "    .dataframe thead th {\n",
              "        text-align: right;\n",
              "    }\n",
              "</style>\n",
              "<table border=\"1\" class=\"dataframe\">\n",
              "  <thead>\n",
              "    <tr style=\"text-align: right;\">\n",
              "      <th></th>\n",
              "      <th>BOROUGH\\n</th>\n",
              "      <th>NEIGHBORHOOD\\n</th>\n",
              "      <th>BUILDING CLASS CATEGORY\\n</th>\n",
              "      <th>TAX CLASS AT PRESENT\\n</th>\n",
              "      <th>BLOCK\\n</th>\n",
              "      <th>LOT\\n</th>\n",
              "      <th>EASE-MENT\\n</th>\n",
              "      <th>BUILDING CLASS AT PRESENT\\n</th>\n",
              "      <th>ADDRESS\\n</th>\n",
              "      <th>APARTMENT NUMBER\\n</th>\n",
              "      <th>ZIP CODE\\n</th>\n",
              "      <th>RESIDENTIAL UNITS\\n</th>\n",
              "      <th>COMMERCIAL UNITS\\n</th>\n",
              "      <th>TOTAL UNITS\\n</th>\n",
              "      <th>LAND SQUARE FEET\\n</th>\n",
              "      <th>GROSS SQUARE FEET\\n</th>\n",
              "      <th>YEAR BUILT\\n</th>\n",
              "      <th>TAX CLASS AT TIME OF SALE\\n</th>\n",
              "      <th>BUILDING CLASS AT TIME OF SALE\\n</th>\n",
              "      <th>SALE PRICE\\n</th>\n",
              "      <th>SALE DATE\\n</th>\n",
              "    </tr>\n",
              "  </thead>\n",
              "  <tbody>\n",
              "    <tr>\n",
              "      <th>24141</th>\n",
              "      <td>3</td>\n",
              "      <td>WILLIAMSBURG-NORTH</td>\n",
              "      <td>08  RENTALS - ELEVATOR APARTMENTS</td>\n",
              "      <td>2</td>\n",
              "      <td>2307</td>\n",
              "      <td>1</td>\n",
              "      <td></td>\n",
              "      <td>D8</td>\n",
              "      <td>250 N 10 STREET</td>\n",
              "      <td></td>\n",
              "      <td>11211</td>\n",
              "      <td>234</td>\n",
              "      <td>3</td>\n",
              "      <td>237</td>\n",
              "      <td>50173</td>\n",
              "      <td>241764</td>\n",
              "      <td>2012</td>\n",
              "      <td>2</td>\n",
              "      <td>D8</td>\n",
              "      <td>169000000</td>\n",
              "      <td>2015-05-01</td>\n",
              "    </tr>\n",
              "    <tr>\n",
              "      <th>24954</th>\n",
              "      <td>3</td>\n",
              "      <td>WILLIAMSBURG-SOUTH</td>\n",
              "      <td>29  COMMERCIAL GARAGES</td>\n",
              "      <td>4</td>\n",
              "      <td>2128</td>\n",
              "      <td>5</td>\n",
              "      <td></td>\n",
              "      <td>G7</td>\n",
              "      <td>418 KENT AVENUE</td>\n",
              "      <td></td>\n",
              "      <td>11249</td>\n",
              "      <td>0</td>\n",
              "      <td>0</td>\n",
              "      <td>0</td>\n",
              "      <td>44704</td>\n",
              "      <td>0</td>\n",
              "      <td>0</td>\n",
              "      <td>4</td>\n",
              "      <td>G7</td>\n",
              "      <td>165000000</td>\n",
              "      <td>2015-02-04</td>\n",
              "    </tr>\n",
              "    <tr>\n",
              "      <th>24514</th>\n",
              "      <td>3</td>\n",
              "      <td>WILLIAMSBURG-NORTH</td>\n",
              "      <td>31  COMMERCIAL VACANT LAND</td>\n",
              "      <td>4</td>\n",
              "      <td>2282</td>\n",
              "      <td>1</td>\n",
              "      <td></td>\n",
              "      <td>V1</td>\n",
              "      <td>19 KENT AVENUE</td>\n",
              "      <td></td>\n",
              "      <td>11249</td>\n",
              "      <td>0</td>\n",
              "      <td>1</td>\n",
              "      <td>1</td>\n",
              "      <td>80000</td>\n",
              "      <td>0</td>\n",
              "      <td>1920</td>\n",
              "      <td>4</td>\n",
              "      <td>V1</td>\n",
              "      <td>132400000</td>\n",
              "      <td>2015-12-24</td>\n",
              "    </tr>\n",
              "    <tr>\n",
              "      <th>24142</th>\n",
              "      <td>3</td>\n",
              "      <td>WILLIAMSBURG-NORTH</td>\n",
              "      <td>08  RENTALS - ELEVATOR APARTMENTS</td>\n",
              "      <td>2</td>\n",
              "      <td>2350</td>\n",
              "      <td>26</td>\n",
              "      <td></td>\n",
              "      <td>D5</td>\n",
              "      <td>103 NORTH 3RD STREET</td>\n",
              "      <td></td>\n",
              "      <td>11249</td>\n",
              "      <td>40</td>\n",
              "      <td>12</td>\n",
              "      <td>52</td>\n",
              "      <td>36511</td>\n",
              "      <td>101358</td>\n",
              "      <td>1920</td>\n",
              "      <td>2</td>\n",
              "      <td>D5</td>\n",
              "      <td>92250000</td>\n",
              "      <td>2015-04-30</td>\n",
              "    </tr>\n",
              "    <tr>\n",
              "      <th>6263</th>\n",
              "      <td>3</td>\n",
              "      <td>BROOKLYN-UNKNOWN</td>\n",
              "      <td>21  OFFICE BUILDINGS</td>\n",
              "      <td>4</td>\n",
              "      <td>149</td>\n",
              "      <td>75</td>\n",
              "      <td></td>\n",
              "      <td>O2</td>\n",
              "      <td>9 DEKALB AVENUE</td>\n",
              "      <td></td>\n",
              "      <td>11201</td>\n",
              "      <td>0</td>\n",
              "      <td>1</td>\n",
              "      <td>1</td>\n",
              "      <td>31865</td>\n",
              "      <td>97000</td>\n",
              "      <td>1902</td>\n",
              "      <td>4</td>\n",
              "      <td>O2</td>\n",
              "      <td>90000000</td>\n",
              "      <td>2015-12-17</td>\n",
              "    </tr>\n",
              "    <tr>\n",
              "      <th>...</th>\n",
              "      <td>...</td>\n",
              "      <td>...</td>\n",
              "      <td>...</td>\n",
              "      <td>...</td>\n",
              "      <td>...</td>\n",
              "      <td>...</td>\n",
              "      <td>...</td>\n",
              "      <td>...</td>\n",
              "      <td>...</td>\n",
              "      <td>...</td>\n",
              "      <td>...</td>\n",
              "      <td>...</td>\n",
              "      <td>...</td>\n",
              "      <td>...</td>\n",
              "      <td>...</td>\n",
              "      <td>...</td>\n",
              "      <td>...</td>\n",
              "      <td>...</td>\n",
              "      <td>...</td>\n",
              "      <td>...</td>\n",
              "      <td>...</td>\n",
              "    </tr>\n",
              "    <tr>\n",
              "      <th>16587</th>\n",
              "      <td>3</td>\n",
              "      <td>GRAVESEND</td>\n",
              "      <td>44  CONDO PARKING</td>\n",
              "      <td>4</td>\n",
              "      <td>6652</td>\n",
              "      <td>1040</td>\n",
              "      <td></td>\n",
              "      <td>RG</td>\n",
              "      <td>1740 WEST 4TH   STREET</td>\n",
              "      <td>PS 2</td>\n",
              "      <td>11223</td>\n",
              "      <td>0</td>\n",
              "      <td>0</td>\n",
              "      <td>1</td>\n",
              "      <td>0</td>\n",
              "      <td>0</td>\n",
              "      <td>2008</td>\n",
              "      <td>4</td>\n",
              "      <td>RG</td>\n",
              "      <td>0</td>\n",
              "      <td>2015-02-11</td>\n",
              "    </tr>\n",
              "    <tr>\n",
              "      <th>16588</th>\n",
              "      <td>3</td>\n",
              "      <td>GRAVESEND</td>\n",
              "      <td>44  CONDO PARKING</td>\n",
              "      <td>4</td>\n",
              "      <td>6652</td>\n",
              "      <td>1042</td>\n",
              "      <td></td>\n",
              "      <td>RG</td>\n",
              "      <td>1740 WEST 4TH   STREET</td>\n",
              "      <td>PS 4</td>\n",
              "      <td>11223</td>\n",
              "      <td>0</td>\n",
              "      <td>0</td>\n",
              "      <td>1</td>\n",
              "      <td>0</td>\n",
              "      <td>0</td>\n",
              "      <td>2008</td>\n",
              "      <td>4</td>\n",
              "      <td>RG</td>\n",
              "      <td>0</td>\n",
              "      <td>2015-07-09</td>\n",
              "    </tr>\n",
              "    <tr>\n",
              "      <th>16589</th>\n",
              "      <td>3</td>\n",
              "      <td>GRAVESEND</td>\n",
              "      <td>44  CONDO PARKING</td>\n",
              "      <td>4</td>\n",
              "      <td>6652</td>\n",
              "      <td>1054</td>\n",
              "      <td></td>\n",
              "      <td>RG</td>\n",
              "      <td>1740 WEST 4TH   STREET</td>\n",
              "      <td>PS 16</td>\n",
              "      <td>11223</td>\n",
              "      <td>0</td>\n",
              "      <td>0</td>\n",
              "      <td>1</td>\n",
              "      <td>0</td>\n",
              "      <td>0</td>\n",
              "      <td>2008</td>\n",
              "      <td>4</td>\n",
              "      <td>RG</td>\n",
              "      <td>0</td>\n",
              "      <td>2015-04-28</td>\n",
              "    </tr>\n",
              "    <tr>\n",
              "      <th>16590</th>\n",
              "      <td>3</td>\n",
              "      <td>GRAVESEND</td>\n",
              "      <td>44  CONDO PARKING</td>\n",
              "      <td>4</td>\n",
              "      <td>6652</td>\n",
              "      <td>1061</td>\n",
              "      <td></td>\n",
              "      <td>RG</td>\n",
              "      <td>1740 WEST 4TH   STREET</td>\n",
              "      <td>PS 23</td>\n",
              "      <td>11223</td>\n",
              "      <td>0</td>\n",
              "      <td>0</td>\n",
              "      <td>1</td>\n",
              "      <td>0</td>\n",
              "      <td>0</td>\n",
              "      <td>2008</td>\n",
              "      <td>4</td>\n",
              "      <td>RG</td>\n",
              "      <td>0</td>\n",
              "      <td>2015-02-18</td>\n",
              "    </tr>\n",
              "    <tr>\n",
              "      <th>12681</th>\n",
              "      <td>3</td>\n",
              "      <td>EAST NEW YORK</td>\n",
              "      <td>03  THREE FAMILY DWELLINGS</td>\n",
              "      <td>1</td>\n",
              "      <td>4310</td>\n",
              "      <td>139</td>\n",
              "      <td></td>\n",
              "      <td>C0</td>\n",
              "      <td>764 WARWICK STREET</td>\n",
              "      <td></td>\n",
              "      <td>11207</td>\n",
              "      <td>3</td>\n",
              "      <td>0</td>\n",
              "      <td>3</td>\n",
              "      <td>3078</td>\n",
              "      <td>4095</td>\n",
              "      <td>2006</td>\n",
              "      <td>1</td>\n",
              "      <td>C0</td>\n",
              "      <td>0</td>\n",
              "      <td>2015-12-29</td>\n",
              "    </tr>\n",
              "  </tbody>\n",
              "</table>\n",
              "<p>25362 rows × 21 columns</p>\n",
              "</div>"
            ],
            "text/plain": [
              "       BOROUGH\\n             NEIGHBORHOOD\\n  ... SALE PRICE\\n SALE DATE\\n\n",
              "24141          3  WILLIAMSBURG-NORTH         ...    169000000  2015-05-01\n",
              "24954          3  WILLIAMSBURG-SOUTH         ...    165000000  2015-02-04\n",
              "24514          3  WILLIAMSBURG-NORTH         ...    132400000  2015-12-24\n",
              "24142          3  WILLIAMSBURG-NORTH         ...     92250000  2015-04-30\n",
              "6263           3  BROOKLYN-UNKNOWN           ...     90000000  2015-12-17\n",
              "...          ...                        ...  ...          ...         ...\n",
              "16587          3  GRAVESEND                  ...            0  2015-02-11\n",
              "16588          3  GRAVESEND                  ...            0  2015-07-09\n",
              "16589          3  GRAVESEND                  ...            0  2015-04-28\n",
              "16590          3  GRAVESEND                  ...            0  2015-02-18\n",
              "12681          3  EAST NEW YORK              ...            0  2015-12-29\n",
              "\n",
              "[25362 rows x 21 columns]"
            ]
          },
          "metadata": {
            "tags": []
          },
          "execution_count": 153
        }
      ]
    },
    {
      "cell_type": "code",
      "metadata": {
        "colab": {
          "base_uri": "https://localhost:8080/",
          "height": 871
        },
        "id": "pdHci-1rpCUb",
        "outputId": "8583e7ac-cc6a-4f87-e155-2f28737e43dd"
      },
      "source": [
        "re_sales.sort_values(['SALE PRICE\\n','ZIP CODE\\n'])#Sorted values with more than one column. The most expensive residential units are still in zip codes 11211,11249,11249 and still costs  (Currency is in US dollars): 169,000,000, 165,000,000, and 132,400,000. They just appears at the bottom of the table."
      ],
      "execution_count": 154,
      "outputs": [
        {
          "output_type": "execute_result",
          "data": {
            "text/html": [
              "<div>\n",
              "<style scoped>\n",
              "    .dataframe tbody tr th:only-of-type {\n",
              "        vertical-align: middle;\n",
              "    }\n",
              "\n",
              "    .dataframe tbody tr th {\n",
              "        vertical-align: top;\n",
              "    }\n",
              "\n",
              "    .dataframe thead th {\n",
              "        text-align: right;\n",
              "    }\n",
              "</style>\n",
              "<table border=\"1\" class=\"dataframe\">\n",
              "  <thead>\n",
              "    <tr style=\"text-align: right;\">\n",
              "      <th></th>\n",
              "      <th>BOROUGH\\n</th>\n",
              "      <th>NEIGHBORHOOD\\n</th>\n",
              "      <th>BUILDING CLASS CATEGORY\\n</th>\n",
              "      <th>TAX CLASS AT PRESENT\\n</th>\n",
              "      <th>BLOCK\\n</th>\n",
              "      <th>LOT\\n</th>\n",
              "      <th>EASE-MENT\\n</th>\n",
              "      <th>BUILDING CLASS AT PRESENT\\n</th>\n",
              "      <th>ADDRESS\\n</th>\n",
              "      <th>APARTMENT NUMBER\\n</th>\n",
              "      <th>ZIP CODE\\n</th>\n",
              "      <th>RESIDENTIAL UNITS\\n</th>\n",
              "      <th>COMMERCIAL UNITS\\n</th>\n",
              "      <th>TOTAL UNITS\\n</th>\n",
              "      <th>LAND SQUARE FEET\\n</th>\n",
              "      <th>GROSS SQUARE FEET\\n</th>\n",
              "      <th>YEAR BUILT\\n</th>\n",
              "      <th>TAX CLASS AT TIME OF SALE\\n</th>\n",
              "      <th>BUILDING CLASS AT TIME OF SALE\\n</th>\n",
              "      <th>SALE PRICE\\n</th>\n",
              "      <th>SALE DATE\\n</th>\n",
              "    </tr>\n",
              "  </thead>\n",
              "  <tbody>\n",
              "    <tr>\n",
              "      <th>5351</th>\n",
              "      <td>3</td>\n",
              "      <td>BOROUGH PARK</td>\n",
              "      <td>31  COMMERCIAL VACANT LAND</td>\n",
              "      <td>4</td>\n",
              "      <td>5436</td>\n",
              "      <td>40</td>\n",
              "      <td></td>\n",
              "      <td>V1</td>\n",
              "      <td>1580-1582 46TH   STREET</td>\n",
              "      <td></td>\n",
              "      <td>0</td>\n",
              "      <td>0</td>\n",
              "      <td>0</td>\n",
              "      <td>0</td>\n",
              "      <td>2671</td>\n",
              "      <td>0</td>\n",
              "      <td>0</td>\n",
              "      <td>4</td>\n",
              "      <td>V1</td>\n",
              "      <td>0</td>\n",
              "      <td>2015-02-09</td>\n",
              "    </tr>\n",
              "    <tr>\n",
              "      <th>16564</th>\n",
              "      <td>3</td>\n",
              "      <td>GRAVESEND</td>\n",
              "      <td>31  COMMERCIAL VACANT LAND</td>\n",
              "      <td>4</td>\n",
              "      <td>7208</td>\n",
              "      <td>302</td>\n",
              "      <td></td>\n",
              "      <td>V9</td>\n",
              "      <td>AVENUE X</td>\n",
              "      <td></td>\n",
              "      <td>0</td>\n",
              "      <td>0</td>\n",
              "      <td>0</td>\n",
              "      <td>0</td>\n",
              "      <td>16002</td>\n",
              "      <td>0</td>\n",
              "      <td>0</td>\n",
              "      <td>4</td>\n",
              "      <td>V9</td>\n",
              "      <td>0</td>\n",
              "      <td>2015-02-26</td>\n",
              "    </tr>\n",
              "    <tr>\n",
              "      <th>18160</th>\n",
              "      <td>3</td>\n",
              "      <td>MARINE PARK</td>\n",
              "      <td>29  COMMERCIAL GARAGES</td>\n",
              "      <td>4</td>\n",
              "      <td>8590</td>\n",
              "      <td>146</td>\n",
              "      <td></td>\n",
              "      <td>G7</td>\n",
              "      <td>FLATBUSH AVENUE</td>\n",
              "      <td></td>\n",
              "      <td>0</td>\n",
              "      <td>0</td>\n",
              "      <td>0</td>\n",
              "      <td>0</td>\n",
              "      <td>4000</td>\n",
              "      <td>0</td>\n",
              "      <td>0</td>\n",
              "      <td>4</td>\n",
              "      <td>G7</td>\n",
              "      <td>0</td>\n",
              "      <td>2015-07-16</td>\n",
              "    </tr>\n",
              "    <tr>\n",
              "      <th>20169</th>\n",
              "      <td>3</td>\n",
              "      <td>OCEAN PARKWAY-SOUTH</td>\n",
              "      <td>05  TAX CLASS 1 VACANT LAND</td>\n",
              "      <td></td>\n",
              "      <td>7238</td>\n",
              "      <td>31</td>\n",
              "      <td></td>\n",
              "      <td></td>\n",
              "      <td>724 AVENUE Z</td>\n",
              "      <td></td>\n",
              "      <td>0</td>\n",
              "      <td>0</td>\n",
              "      <td>0</td>\n",
              "      <td>0</td>\n",
              "      <td>0</td>\n",
              "      <td>0</td>\n",
              "      <td>0</td>\n",
              "      <td>1</td>\n",
              "      <td>V0</td>\n",
              "      <td>0</td>\n",
              "      <td>2015-01-20</td>\n",
              "    </tr>\n",
              "    <tr>\n",
              "      <th>3998</th>\n",
              "      <td>3</td>\n",
              "      <td>BOERUM HILL</td>\n",
              "      <td>02  TWO FAMILY DWELLINGS</td>\n",
              "      <td>1</td>\n",
              "      <td>188</td>\n",
              "      <td>8</td>\n",
              "      <td></td>\n",
              "      <td>S2</td>\n",
              "      <td>117 SMITH STREET</td>\n",
              "      <td></td>\n",
              "      <td>11201</td>\n",
              "      <td>2</td>\n",
              "      <td>1</td>\n",
              "      <td>3</td>\n",
              "      <td>1500</td>\n",
              "      <td>3301</td>\n",
              "      <td>1920</td>\n",
              "      <td>1</td>\n",
              "      <td>S2</td>\n",
              "      <td>0</td>\n",
              "      <td>2015-07-06</td>\n",
              "    </tr>\n",
              "    <tr>\n",
              "      <th>...</th>\n",
              "      <td>...</td>\n",
              "      <td>...</td>\n",
              "      <td>...</td>\n",
              "      <td>...</td>\n",
              "      <td>...</td>\n",
              "      <td>...</td>\n",
              "      <td>...</td>\n",
              "      <td>...</td>\n",
              "      <td>...</td>\n",
              "      <td>...</td>\n",
              "      <td>...</td>\n",
              "      <td>...</td>\n",
              "      <td>...</td>\n",
              "      <td>...</td>\n",
              "      <td>...</td>\n",
              "      <td>...</td>\n",
              "      <td>...</td>\n",
              "      <td>...</td>\n",
              "      <td>...</td>\n",
              "      <td>...</td>\n",
              "      <td>...</td>\n",
              "    </tr>\n",
              "    <tr>\n",
              "      <th>15636</th>\n",
              "      <td>3</td>\n",
              "      <td>FORT GREENE</td>\n",
              "      <td>30  WAREHOUSES</td>\n",
              "      <td>4</td>\n",
              "      <td>2106</td>\n",
              "      <td>9</td>\n",
              "      <td></td>\n",
              "      <td>E7</td>\n",
              "      <td>37-53 FLATBUSH AVENUE</td>\n",
              "      <td></td>\n",
              "      <td>11217</td>\n",
              "      <td>0</td>\n",
              "      <td>355</td>\n",
              "      <td>355</td>\n",
              "      <td>21185</td>\n",
              "      <td>190750</td>\n",
              "      <td>1920</td>\n",
              "      <td>4</td>\n",
              "      <td>E7</td>\n",
              "      <td>90000000</td>\n",
              "      <td>2015-03-02</td>\n",
              "    </tr>\n",
              "    <tr>\n",
              "      <th>24142</th>\n",
              "      <td>3</td>\n",
              "      <td>WILLIAMSBURG-NORTH</td>\n",
              "      <td>08  RENTALS - ELEVATOR APARTMENTS</td>\n",
              "      <td>2</td>\n",
              "      <td>2350</td>\n",
              "      <td>26</td>\n",
              "      <td></td>\n",
              "      <td>D5</td>\n",
              "      <td>103 NORTH 3RD STREET</td>\n",
              "      <td></td>\n",
              "      <td>11249</td>\n",
              "      <td>40</td>\n",
              "      <td>12</td>\n",
              "      <td>52</td>\n",
              "      <td>36511</td>\n",
              "      <td>101358</td>\n",
              "      <td>1920</td>\n",
              "      <td>2</td>\n",
              "      <td>D5</td>\n",
              "      <td>92250000</td>\n",
              "      <td>2015-04-30</td>\n",
              "    </tr>\n",
              "    <tr>\n",
              "      <th>24514</th>\n",
              "      <td>3</td>\n",
              "      <td>WILLIAMSBURG-NORTH</td>\n",
              "      <td>31  COMMERCIAL VACANT LAND</td>\n",
              "      <td>4</td>\n",
              "      <td>2282</td>\n",
              "      <td>1</td>\n",
              "      <td></td>\n",
              "      <td>V1</td>\n",
              "      <td>19 KENT AVENUE</td>\n",
              "      <td></td>\n",
              "      <td>11249</td>\n",
              "      <td>0</td>\n",
              "      <td>1</td>\n",
              "      <td>1</td>\n",
              "      <td>80000</td>\n",
              "      <td>0</td>\n",
              "      <td>1920</td>\n",
              "      <td>4</td>\n",
              "      <td>V1</td>\n",
              "      <td>132400000</td>\n",
              "      <td>2015-12-24</td>\n",
              "    </tr>\n",
              "    <tr>\n",
              "      <th>24954</th>\n",
              "      <td>3</td>\n",
              "      <td>WILLIAMSBURG-SOUTH</td>\n",
              "      <td>29  COMMERCIAL GARAGES</td>\n",
              "      <td>4</td>\n",
              "      <td>2128</td>\n",
              "      <td>5</td>\n",
              "      <td></td>\n",
              "      <td>G7</td>\n",
              "      <td>418 KENT AVENUE</td>\n",
              "      <td></td>\n",
              "      <td>11249</td>\n",
              "      <td>0</td>\n",
              "      <td>0</td>\n",
              "      <td>0</td>\n",
              "      <td>44704</td>\n",
              "      <td>0</td>\n",
              "      <td>0</td>\n",
              "      <td>4</td>\n",
              "      <td>G7</td>\n",
              "      <td>165000000</td>\n",
              "      <td>2015-02-04</td>\n",
              "    </tr>\n",
              "    <tr>\n",
              "      <th>24141</th>\n",
              "      <td>3</td>\n",
              "      <td>WILLIAMSBURG-NORTH</td>\n",
              "      <td>08  RENTALS - ELEVATOR APARTMENTS</td>\n",
              "      <td>2</td>\n",
              "      <td>2307</td>\n",
              "      <td>1</td>\n",
              "      <td></td>\n",
              "      <td>D8</td>\n",
              "      <td>250 N 10 STREET</td>\n",
              "      <td></td>\n",
              "      <td>11211</td>\n",
              "      <td>234</td>\n",
              "      <td>3</td>\n",
              "      <td>237</td>\n",
              "      <td>50173</td>\n",
              "      <td>241764</td>\n",
              "      <td>2012</td>\n",
              "      <td>2</td>\n",
              "      <td>D8</td>\n",
              "      <td>169000000</td>\n",
              "      <td>2015-05-01</td>\n",
              "    </tr>\n",
              "  </tbody>\n",
              "</table>\n",
              "<p>25362 rows × 21 columns</p>\n",
              "</div>"
            ],
            "text/plain": [
              "       BOROUGH\\n             NEIGHBORHOOD\\n  ... SALE PRICE\\n SALE DATE\\n\n",
              "5351           3  BOROUGH PARK               ...            0  2015-02-09\n",
              "16564          3  GRAVESEND                  ...            0  2015-02-26\n",
              "18160          3  MARINE PARK                ...            0  2015-07-16\n",
              "20169          3  OCEAN PARKWAY-SOUTH        ...            0  2015-01-20\n",
              "3998           3  BOERUM HILL                ...            0  2015-07-06\n",
              "...          ...                        ...  ...          ...         ...\n",
              "15636          3  FORT GREENE                ...     90000000  2015-03-02\n",
              "24142          3  WILLIAMSBURG-NORTH         ...     92250000  2015-04-30\n",
              "24514          3  WILLIAMSBURG-NORTH         ...    132400000  2015-12-24\n",
              "24954          3  WILLIAMSBURG-SOUTH         ...    165000000  2015-02-04\n",
              "24141          3  WILLIAMSBURG-NORTH         ...    169000000  2015-05-01\n",
              "\n",
              "[25362 rows x 21 columns]"
            ]
          },
          "metadata": {
            "tags": []
          },
          "execution_count": 154
        }
      ]
    },
    {
      "cell_type": "markdown",
      "metadata": {
        "id": "0nxb75iUO1uC"
      },
      "source": [
        "## Example 3. Street Pavement Rating\n",
        "\n",
        "The New York City Department of Transportation is responsible for keeping the City's streets in good repair. The Agency performs ongoing assessment of New York City streets. Ratings are based on a scale from 1 to 10, and results are grouped in the following categories: Good (%) - ratings of 8 to 10, Fair (%) - ratings of 4 to 7, and Poor (%) - ratings of 1 to 3. Rating dates started from 1994 to 2019. This data will allow you to create a map."
      ]
    },
    {
      "cell_type": "markdown",
      "metadata": {
        "id": "7P0hRcP3O1uC"
      },
      "source": [
        "GeoJSON is a JSON based format designed to represent the geographical features with their non-spatial attributes. Besides GeoJSON, shapefile is also a common format for geographical datasets. For more information, please check https://geojson.org/."
      ]
    },
    {
      "cell_type": "markdown",
      "metadata": {
        "id": "0eLsKJXAO1uC"
      },
      "source": [
        "As JSON contains spatial information (in this case shapes of the streets) along with the data, we'll need a slightly different vehicle to load it. There is a module geopandas which we'll use below. In short its just like pandas, but having a special column \"geometry\" which is meant to contain spatial info"
      ]
    },
    {
      "cell_type": "code",
      "metadata": {
        "id": "v1SsJcEuO1uD",
        "colab": {
          "base_uri": "https://localhost:8080/",
          "height": 379
        },
        "outputId": "799fdbd7-e8ec-44c0-aab6-d50f51419923"
      },
      "source": [
        "import geopandas as gpd\n",
        "url = 'https://data.cityofnewyork.us/api/geospatial/2cav-chmn?method=export&format=GeoJSON'\n",
        "# alternative URL\n",
        "url = 'https://raw.githubusercontent.com/CUSP2021PUI/Data/main/Street%20Pavement%20Rating.geojson'\n",
        "rating = gpd.read_file(url)"
      ],
      "execution_count": 123,
      "outputs": [
        {
          "output_type": "error",
          "ename": "ModuleNotFoundError",
          "evalue": "ignored",
          "traceback": [
            "\u001b[0;31m---------------------------------------------------------------------------\u001b[0m",
            "\u001b[0;31mModuleNotFoundError\u001b[0m                       Traceback (most recent call last)",
            "\u001b[0;32m<ipython-input-123-90ba69e75fe4>\u001b[0m in \u001b[0;36m<module>\u001b[0;34m()\u001b[0m\n\u001b[0;32m----> 1\u001b[0;31m \u001b[0;32mimport\u001b[0m \u001b[0mgeopandas\u001b[0m \u001b[0;32mas\u001b[0m \u001b[0mgpd\u001b[0m\u001b[0;34m\u001b[0m\u001b[0;34m\u001b[0m\u001b[0m\n\u001b[0m\u001b[1;32m      2\u001b[0m \u001b[0murl\u001b[0m \u001b[0;34m=\u001b[0m \u001b[0;34m'https://data.cityofnewyork.us/api/geospatial/2cav-chmn?method=export&format=GeoJSON'\u001b[0m\u001b[0;34m\u001b[0m\u001b[0;34m\u001b[0m\u001b[0m\n\u001b[1;32m      3\u001b[0m \u001b[0;31m# alternative URL\u001b[0m\u001b[0;34m\u001b[0m\u001b[0;34m\u001b[0m\u001b[0;34m\u001b[0m\u001b[0m\n\u001b[1;32m      4\u001b[0m \u001b[0murl\u001b[0m \u001b[0;34m=\u001b[0m \u001b[0;34m'https://raw.githubusercontent.com/CUSP2021PUI/Data/main/Street%20Pavement%20Rating.geojson'\u001b[0m\u001b[0;34m\u001b[0m\u001b[0;34m\u001b[0m\u001b[0m\n\u001b[1;32m      5\u001b[0m \u001b[0mrating\u001b[0m \u001b[0;34m=\u001b[0m \u001b[0mgpd\u001b[0m\u001b[0;34m.\u001b[0m\u001b[0mread_file\u001b[0m\u001b[0;34m(\u001b[0m\u001b[0murl\u001b[0m\u001b[0;34m)\u001b[0m\u001b[0;34m\u001b[0m\u001b[0;34m\u001b[0m\u001b[0m\n",
            "\u001b[0;31mModuleNotFoundError\u001b[0m: No module named 'geopandas'",
            "",
            "\u001b[0;31m---------------------------------------------------------------------------\u001b[0;32m\nNOTE: If your import is failing due to a missing package, you can\nmanually install dependencies using either !pip or !apt.\n\nTo view examples of installing some common dependencies, click the\n\"Open Examples\" button below.\n\u001b[0;31m---------------------------------------------------------------------------\u001b[0m\n"
          ]
        }
      ]
    },
    {
      "cell_type": "code",
      "metadata": {
        "id": "OZFCoWzLO1uD",
        "colab": {
          "base_uri": "https://localhost:8080/",
          "height": 168
        },
        "outputId": "a05b85d7-b449-40f7-8374-f24f7aa4041a"
      },
      "source": [
        "rating.shape #shape of the dataframe - first is the number of records (streets)"
      ],
      "execution_count": 124,
      "outputs": [
        {
          "output_type": "error",
          "ename": "NameError",
          "evalue": "ignored",
          "traceback": [
            "\u001b[0;31m---------------------------------------------------------------------------\u001b[0m",
            "\u001b[0;31mNameError\u001b[0m                                 Traceback (most recent call last)",
            "\u001b[0;32m<ipython-input-124-c6c6d5d7f4c4>\u001b[0m in \u001b[0;36m<module>\u001b[0;34m()\u001b[0m\n\u001b[0;32m----> 1\u001b[0;31m \u001b[0mrating\u001b[0m\u001b[0;34m.\u001b[0m\u001b[0mshape\u001b[0m \u001b[0;31m#shape of the dataframe - first is the number of records (streets)\u001b[0m\u001b[0;34m\u001b[0m\u001b[0;34m\u001b[0m\u001b[0m\n\u001b[0m",
            "\u001b[0;31mNameError\u001b[0m: name 'rating' is not defined"
          ]
        }
      ]
    },
    {
      "cell_type": "code",
      "metadata": {
        "id": "Z8GiuejrO1uD",
        "colab": {
          "base_uri": "https://localhost:8080/",
          "height": 168
        },
        "outputId": "a6b5f52d-0f72-4814-9478-449694f1d514"
      },
      "source": [
        "rating.head() #lets preview the data"
      ],
      "execution_count": 125,
      "outputs": [
        {
          "output_type": "error",
          "ename": "NameError",
          "evalue": "ignored",
          "traceback": [
            "\u001b[0;31m---------------------------------------------------------------------------\u001b[0m",
            "\u001b[0;31mNameError\u001b[0m                                 Traceback (most recent call last)",
            "\u001b[0;32m<ipython-input-125-c42885ad978d>\u001b[0m in \u001b[0;36m<module>\u001b[0;34m()\u001b[0m\n\u001b[0;32m----> 1\u001b[0;31m \u001b[0mrating\u001b[0m\u001b[0;34m.\u001b[0m\u001b[0mhead\u001b[0m\u001b[0;34m(\u001b[0m\u001b[0;34m)\u001b[0m \u001b[0;31m#lets preview the data\u001b[0m\u001b[0;34m\u001b[0m\u001b[0;34m\u001b[0m\u001b[0m\n\u001b[0m",
            "\u001b[0;31mNameError\u001b[0m: name 'rating' is not defined"
          ]
        }
      ]
    },
    {
      "cell_type": "code",
      "metadata": {
        "id": "HMsWeeejO1uD"
      },
      "source": [
        "rating.iloc[:,:-1].describe() #note that we can't apply describe to a geometry column so need to exclude it first"
      ],
      "execution_count": null,
      "outputs": []
    },
    {
      "cell_type": "code",
      "metadata": {
        "id": "n0DPxfSAO1uE"
      },
      "source": [
        "#Notice that this time describe look differently. This is because the values in the dataframe are not treated as numbers but categorical values"
      ],
      "execution_count": null,
      "outputs": []
    },
    {
      "cell_type": "code",
      "metadata": {
        "id": "CAizmRQ0O1uE"
      },
      "source": [
        "#if we want them as numbers we need to perform type convertion\n",
        "rating['length'] = rating['length'].astype(int)\n",
        "rating['length'].describe()"
      ],
      "execution_count": null,
      "outputs": []
    },
    {
      "cell_type": "code",
      "metadata": {
        "id": "85EwA8yHO1uE"
      },
      "source": [
        "#now let's count how many streets are in either condition based on 'rating_word'\n",
        "rating['rating_word'].value_counts()"
      ],
      "execution_count": null,
      "outputs": []
    },
    {
      "cell_type": "code",
      "metadata": {
        "id": "4Q41gU_UO1uE"
      },
      "source": [
        "#now let's count the cumulative length of those in either condition based on 'rating_word'\n",
        "rating[['rating_word','length']].groupby(by=['rating_word']).sum()"
      ],
      "execution_count": null,
      "outputs": []
    },
    {
      "cell_type": "code",
      "metadata": {
        "id": "VBMJcQNFO1uF"
      },
      "source": [
        "#and visualize overall conditions of the roads using piechart\n",
        "rating[['rating_word','length']].groupby(by=['rating_word']).sum().plot.pie(y='length')"
      ],
      "execution_count": null,
      "outputs": []
    },
    {
      "cell_type": "markdown",
      "metadata": {
        "id": "JeCSEkwUO1uF"
      },
      "source": [
        "And let's use the true power of geopandas - visualize the streetmap"
      ]
    },
    {
      "cell_type": "code",
      "metadata": {
        "id": "ikvve6n2O1uF"
      },
      "source": [
        "rating.plot(column=None, figsize=(10,10)) #first just the shapes of the streetmap without any information"
      ],
      "execution_count": null,
      "outputs": []
    },
    {
      "cell_type": "code",
      "metadata": {
        "id": "y8tfVqMoO1uF"
      },
      "source": [
        "#and now visualize the streets according to their status \n",
        "rating.plot(column='rating_word',cmap='Spectral',figsize=(10,10),legend=True)"
      ],
      "execution_count": null,
      "outputs": []
    },
    {
      "cell_type": "markdown",
      "metadata": {
        "id": "NRBWRx8WO1uF"
      },
      "source": [
        "### Task 3.\n",
        "Visualize only the poorly maintained roads so we can zoom into those that need particular attention.\n",
        "\n",
        "HINT: Filter the dataframe first using slicing by an appropriate condition on rating.rating_word"
      ]
    },
    {
      "cell_type": "code",
      "metadata": {
        "colab": {
          "base_uri": "https://localhost:8080/",
          "height": 168
        },
        "id": "PtD7B6ymTN46",
        "outputId": "74c8bf95-1e56-4ba0-8303-34d5b9ea703f"
      },
      "source": [
        "rating =  gpd.read_file(url)"
      ],
      "execution_count": 251,
      "outputs": [
        {
          "output_type": "error",
          "ename": "NameError",
          "evalue": "ignored",
          "traceback": [
            "\u001b[0;31m---------------------------------------------------------------------------\u001b[0m",
            "\u001b[0;31mNameError\u001b[0m                                 Traceback (most recent call last)",
            "\u001b[0;32m<ipython-input-251-213dbb4ce38b>\u001b[0m in \u001b[0;36m<module>\u001b[0;34m()\u001b[0m\n\u001b[0;32m----> 1\u001b[0;31m \u001b[0mrating\u001b[0m \u001b[0;34m=\u001b[0m  \u001b[0mgpd\u001b[0m\u001b[0;34m.\u001b[0m\u001b[0mread_file\u001b[0m\u001b[0;34m(\u001b[0m\u001b[0murl\u001b[0m\u001b[0;34m)\u001b[0m\u001b[0;34m\u001b[0m\u001b[0;34m\u001b[0m\u001b[0m\n\u001b[0m",
            "\u001b[0;31mNameError\u001b[0m: name 'gpd' is not defined"
          ]
        }
      ]
    },
    {
      "cell_type": "code",
      "metadata": {
        "id": "uuOeEKHZSAHj"
      },
      "source": [
        "rating.rating_word='poor'"
      ],
      "execution_count": null,
      "outputs": []
    },
    {
      "cell_type": "code",
      "metadata": {
        "id": "5dpwBM6jAWBj"
      },
      "source": [
        "rating_poor.plot(column='rating_word',cmap='Spectral',rating.rating_word='poor',figsize=(10,10),legend=True) "
      ],
      "execution_count": null,
      "outputs": []
    },
    {
      "cell_type": "markdown",
      "metadata": {
        "id": "9ooHvC9_O1uG"
      },
      "source": [
        "### Task 4. COVID-19 Data by ZIP Code\n",
        "\n",
        "This dataset includes confirmed case rates, case counts, death rates, death counts, and the percent of people tested with a positive result since March. Follwing download links refer to the dataset uploaded on Sep 1st. Dataset is provided by NYC health, please check https://www1.nyc.gov/site/doh/covid/covid-19-data.page for more information and other COVID19 related datasets.\n",
        "\n",
        "Task: \n",
        "    \n",
        "    a) Aggregate dataset by Borough, calculate total cases amount in each Borough, and then visualize as a barplot\n",
        "    \n",
        "    b) Calculate borough-wise positive case percentage among all the tests administered and \n",
        "    \n",
        "    c) among the borough population (%% of populating tested positive), and then visualize as barplots. \n",
        "    \n",
        "    Notice that both quantities b) and c) matter as otherwise the percentage of people tested positive might depend on the testing availability and practice which are not necessary consistent among boroughs.\n",
        "\n",
        "\n",
        "Hint: The column for case amount is “COVID_CASE_COUNT\". Try groupby function in pandas to get total cases and tests by borough. Positive case percentage is ‘100*COVID_CASE_COUNT'/'TOTAL_COVID_TESTS'. To calculate positive case percentage, you might first need a borough level dataframe."
      ]
    },
    {
      "cell_type": "code",
      "metadata": {
        "id": "fxz7mLfgO1uG"
      },
      "source": [
        "url = 'https://raw.githubusercontent.com/nychealth/coronavirus-data/7953c97d1e58bbed9934ea04affb12ca74d9c0fb/data-by-modzcta.csv'\n",
        "# alternative url\n",
        "url = 'https://raw.githubusercontent.com/CUSP2021PUI/Data/main/COVID19.csv'\n",
        "df = pd.read_csv(url)"
      ],
      "execution_count": null,
      "outputs": []
    },
    {
      "cell_type": "code",
      "metadata": {
        "id": "22Vq9le6pl2r"
      },
      "source": [
        "df.head()"
      ],
      "execution_count": null,
      "outputs": []
    },
    {
      "cell_type": "code",
      "metadata": {
        "id": "uNlM8NgJ5Kas"
      },
      "source": [
        "len(df)"
      ],
      "execution_count": null,
      "outputs": []
    },
    {
      "cell_type": "code",
      "metadata": {
        "id": "HbHa2a1i5vHW"
      },
      "source": [
        "df.columns"
      ],
      "execution_count": null,
      "outputs": []
    },
    {
      "cell_type": "code",
      "metadata": {
        "id": "wMuosEf4BcKJ"
      },
      "source": [
        "df.BOROUGH_GROUP.unique()"
      ],
      "execution_count": null,
      "outputs": []
    },
    {
      "cell_type": "code",
      "metadata": {
        "id": "uaDDaVsDB7zw"
      },
      "source": [
        "df['BOROUGH_GROUP'].value_counts()"
      ],
      "execution_count": null,
      "outputs": []
    },
    {
      "cell_type": "code",
      "metadata": {
        "id": "u4aWnLPjEgEr"
      },
      "source": [
        "df['COVID_CASE_COUNT'].value_counts()"
      ],
      "execution_count": null,
      "outputs": []
    },
    {
      "cell_type": "code",
      "metadata": {
        "id": "zOjhIesgFoET"
      },
      "source": [
        "df[['BOROUGH_GROUP','COVID_CASE_COUNT']].groupby(by=['BOROUGH_GROUP']).sum().plot.bar()"
      ],
      "execution_count": null,
      "outputs": []
    },
    {
      "cell_type": "code",
      "metadata": {
        "id": "UyhJO21yJjcW"
      },
      "source": [
        " borough_wise_positive_case_percentage= (df['PERCENT_POSITIVE'] / df['TOTAL_COVID_TESTS'].sum()) * 100\r\n",
        "print(borough_wise_positive_case_percentage)"
      ],
      "execution_count": null,
      "outputs": []
    },
    {
      "cell_type": "code",
      "metadata": {
        "id": "6ECiprIlL5Xd"
      },
      "source": [
        "(df['PERCENT_POSITIVE'] / df['TOTAL_COVID_TESTS'].sum()).plot.bar(figsize=(10,10),legend=True)"
      ],
      "execution_count": null,
      "outputs": []
    },
    {
      "cell_type": "code",
      "metadata": {
        "id": "WN1OesPGND0L"
      },
      "source": [
        ""
      ],
      "execution_count": null,
      "outputs": []
    }
  ]
}