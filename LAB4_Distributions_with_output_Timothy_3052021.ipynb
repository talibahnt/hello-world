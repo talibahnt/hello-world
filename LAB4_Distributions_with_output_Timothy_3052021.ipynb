{
  "nbformat": 4,
  "nbformat_minor": 0,
  "metadata": {
    "kernelspec": {
      "display_name": "Python 3",
      "language": "python",
      "name": "python3"
    },
    "language_info": {
      "codemirror_mode": {
        "name": "ipython",
        "version": 3
      },
      "file_extension": ".py",
      "mimetype": "text/x-python",
      "name": "python",
      "nbconvert_exporter": "python",
      "pygments_lexer": "ipython3",
      "version": "3.7.4"
    },
    "colab": {
      "name": "LAB4_Distributions_with_output_Timothy_3052021.ipynb",
      "provenance": [],
      "collapsed_sections": [],
      "include_colab_link": true
    }
  },
  "cells": [
    {
      "cell_type": "markdown",
      "metadata": {
        "id": "view-in-github",
        "colab_type": "text"
      },
      "source": [
        "<a href=\"https://colab.research.google.com/github/talibahnt/hello-world/blob/main/LAB4_Distributions_with_output_Timothy_3052021.ipynb\" target=\"_parent\"><img src=\"https://colab.research.google.com/assets/colab-badge.svg\" alt=\"Open In Colab\"/></a>"
      ]
    },
    {
      "cell_type": "markdown",
      "metadata": {
        "id": "9k_Wy_1kcDg3"
      },
      "source": [
        "# LAB 4. Probability distributions "
      ]
    },
    {
      "cell_type": "markdown",
      "metadata": {
        "id": "sUcX5VEmcDg8"
      },
      "source": [
        "This lab illustrates the ways of analyzing probability distributions in Python, illustrated on examples of:\n",
        "* people's hights, \n",
        "* weather data (outside temperature readings) and city sizes\n",
        "* city sizes\n",
        "\n",
        "If you may use a refresher on the basics of probabilities and statistics, including the concept of a random variable, probability distribution, mean and standard deviation you may find a stats bootcamp at: https://github.com/SSobol/ProbabilityStatsBootcamp/blob/master/Stats_Bootcamp_2018.ipynb"
      ]
    },
    {
      "cell_type": "code",
      "metadata": {
        "colab": {
          "base_uri": "https://localhost:8080/"
        },
        "id": "68l5vCpicPF7",
        "outputId": "d9df114e-a263-47cf-d382-d00c52e9060c"
      },
      "source": [
        "!pip install --upgrade geopandas\r\n",
        "!pip install mapclassify --quiet\r\n",
        "print('done')"
      ],
      "execution_count": 95,
      "outputs": [
        {
          "output_type": "stream",
          "text": [
            "Requirement already up-to-date: geopandas in /usr/local/lib/python3.7/dist-packages (0.9.0)\n",
            "Requirement already satisfied, skipping upgrade: pandas>=0.24.0 in /usr/local/lib/python3.7/dist-packages (from geopandas) (1.1.5)\n",
            "Requirement already satisfied, skipping upgrade: pyproj>=2.2.0 in /usr/local/lib/python3.7/dist-packages (from geopandas) (3.0.1)\n",
            "Requirement already satisfied, skipping upgrade: fiona>=1.8 in /usr/local/lib/python3.7/dist-packages (from geopandas) (1.8.18)\n",
            "Requirement already satisfied, skipping upgrade: shapely>=1.6 in /usr/local/lib/python3.7/dist-packages (from geopandas) (1.7.1)\n",
            "Requirement already satisfied, skipping upgrade: numpy>=1.15.4 in /usr/local/lib/python3.7/dist-packages (from pandas>=0.24.0->geopandas) (1.19.5)\n",
            "Requirement already satisfied, skipping upgrade: pytz>=2017.2 in /usr/local/lib/python3.7/dist-packages (from pandas>=0.24.0->geopandas) (2018.9)\n",
            "Requirement already satisfied, skipping upgrade: python-dateutil>=2.7.3 in /usr/local/lib/python3.7/dist-packages (from pandas>=0.24.0->geopandas) (2.8.1)\n",
            "Requirement already satisfied, skipping upgrade: certifi in /usr/local/lib/python3.7/dist-packages (from pyproj>=2.2.0->geopandas) (2020.12.5)\n",
            "Requirement already satisfied, skipping upgrade: click-plugins>=1.0 in /usr/local/lib/python3.7/dist-packages (from fiona>=1.8->geopandas) (1.1.1)\n",
            "Requirement already satisfied, skipping upgrade: cligj>=0.5 in /usr/local/lib/python3.7/dist-packages (from fiona>=1.8->geopandas) (0.7.1)\n",
            "Requirement already satisfied, skipping upgrade: six>=1.7 in /usr/local/lib/python3.7/dist-packages (from fiona>=1.8->geopandas) (1.15.0)\n",
            "Requirement already satisfied, skipping upgrade: click<8,>=4.0 in /usr/local/lib/python3.7/dist-packages (from fiona>=1.8->geopandas) (7.1.2)\n",
            "Requirement already satisfied, skipping upgrade: munch in /usr/local/lib/python3.7/dist-packages (from fiona>=1.8->geopandas) (2.5.0)\n",
            "Requirement already satisfied, skipping upgrade: attrs>=17 in /usr/local/lib/python3.7/dist-packages (from fiona>=1.8->geopandas) (20.3.0)\n",
            "done\n"
          ],
          "name": "stdout"
        }
      ]
    },
    {
      "cell_type": "code",
      "metadata": {
        "id": "lKqwtJj9cDg9"
      },
      "source": [
        "#include packages\n",
        "import pandas as pd\n",
        "import numpy as np\n",
        "import matplotlib.pyplot as plt #for creating plots\n",
        "from scipy import stats\n",
        "import seaborn as sns #for styling the plots\n",
        "#warnings.filterwarnings('ignore')\n",
        "%matplotlib inline "
      ],
      "execution_count": 96,
      "outputs": []
    },
    {
      "cell_type": "code",
      "metadata": {
        "id": "Itxle3nFcDg-"
      },
      "source": [
        "#include the distributions\n",
        "from scipy.stats import norm #normal\n",
        "from scipy.stats import genextreme as gev #generalized extreme value\n",
        "from scipy.stats import pareto #pareto"
      ],
      "execution_count": 97,
      "outputs": []
    },
    {
      "cell_type": "markdown",
      "metadata": {
        "id": "lxkYTwD_cDg-"
      },
      "source": [
        "## Example 1. People's hight distribution\n",
        "\n",
        "Source: a sample of 10.000 people heigh-weight info from https://www.kaggle.com/mustafaali96/weight-height?select=weight-height.csv\n",
        "\n",
        "The specific source and geography not disclosed, so we don't rely on this data being fully representative. So just using for illustration purposes. Although one can notice that the averages fit those reported for US. "
      ]
    },
    {
      "cell_type": "code",
      "metadata": {
        "id": "pYfqH4fxcDg-"
      },
      "source": [
        "#upload the data\n",
        "height = pd.read_csv('https://raw.githubusercontent.com/CUSP2020PUI/Data/master/weight-height.csv')"
      ],
      "execution_count": 98,
      "outputs": []
    },
    {
      "cell_type": "code",
      "metadata": {
        "colab": {
          "base_uri": "https://localhost:8080/",
          "height": 202
        },
        "id": "y7PzQ0t6cDg_",
        "outputId": "793731ff-d0b3-413c-8d14-913dbe761ca9"
      },
      "source": [
        "height.head()"
      ],
      "execution_count": 99,
      "outputs": [
        {
          "output_type": "execute_result",
          "data": {
            "text/html": [
              "<div>\n",
              "<style scoped>\n",
              "    .dataframe tbody tr th:only-of-type {\n",
              "        vertical-align: middle;\n",
              "    }\n",
              "\n",
              "    .dataframe tbody tr th {\n",
              "        vertical-align: top;\n",
              "    }\n",
              "\n",
              "    .dataframe thead th {\n",
              "        text-align: right;\n",
              "    }\n",
              "</style>\n",
              "<table border=\"1\" class=\"dataframe\">\n",
              "  <thead>\n",
              "    <tr style=\"text-align: right;\">\n",
              "      <th></th>\n",
              "      <th>Gender</th>\n",
              "      <th>Height</th>\n",
              "      <th>Weight</th>\n",
              "    </tr>\n",
              "  </thead>\n",
              "  <tbody>\n",
              "    <tr>\n",
              "      <th>0</th>\n",
              "      <td>Male</td>\n",
              "      <td>73.847017</td>\n",
              "      <td>241.893563</td>\n",
              "    </tr>\n",
              "    <tr>\n",
              "      <th>1</th>\n",
              "      <td>Male</td>\n",
              "      <td>68.781904</td>\n",
              "      <td>162.310473</td>\n",
              "    </tr>\n",
              "    <tr>\n",
              "      <th>2</th>\n",
              "      <td>Male</td>\n",
              "      <td>74.110105</td>\n",
              "      <td>212.740856</td>\n",
              "    </tr>\n",
              "    <tr>\n",
              "      <th>3</th>\n",
              "      <td>Male</td>\n",
              "      <td>71.730978</td>\n",
              "      <td>220.042470</td>\n",
              "    </tr>\n",
              "    <tr>\n",
              "      <th>4</th>\n",
              "      <td>Male</td>\n",
              "      <td>69.881796</td>\n",
              "      <td>206.349801</td>\n",
              "    </tr>\n",
              "  </tbody>\n",
              "</table>\n",
              "</div>"
            ],
            "text/plain": [
              "  Gender     Height      Weight\n",
              "0   Male  73.847017  241.893563\n",
              "1   Male  68.781904  162.310473\n",
              "2   Male  74.110105  212.740856\n",
              "3   Male  71.730978  220.042470\n",
              "4   Male  69.881796  206.349801"
            ]
          },
          "metadata": {
            "tags": []
          },
          "execution_count": 99
        }
      ]
    },
    {
      "cell_type": "code",
      "metadata": {
        "colab": {
          "base_uri": "https://localhost:8080/",
          "height": 294
        },
        "id": "VO-2MJ1TcDg_",
        "outputId": "fbddaa33-3bf8-40a3-c257-c61a0c6cb972"
      },
      "source": [
        "height.describe() #10.000 records"
      ],
      "execution_count": 100,
      "outputs": [
        {
          "output_type": "execute_result",
          "data": {
            "text/html": [
              "<div>\n",
              "<style scoped>\n",
              "    .dataframe tbody tr th:only-of-type {\n",
              "        vertical-align: middle;\n",
              "    }\n",
              "\n",
              "    .dataframe tbody tr th {\n",
              "        vertical-align: top;\n",
              "    }\n",
              "\n",
              "    .dataframe thead th {\n",
              "        text-align: right;\n",
              "    }\n",
              "</style>\n",
              "<table border=\"1\" class=\"dataframe\">\n",
              "  <thead>\n",
              "    <tr style=\"text-align: right;\">\n",
              "      <th></th>\n",
              "      <th>Height</th>\n",
              "      <th>Weight</th>\n",
              "    </tr>\n",
              "  </thead>\n",
              "  <tbody>\n",
              "    <tr>\n",
              "      <th>count</th>\n",
              "      <td>10000.000000</td>\n",
              "      <td>10000.000000</td>\n",
              "    </tr>\n",
              "    <tr>\n",
              "      <th>mean</th>\n",
              "      <td>66.367560</td>\n",
              "      <td>161.440357</td>\n",
              "    </tr>\n",
              "    <tr>\n",
              "      <th>std</th>\n",
              "      <td>3.847528</td>\n",
              "      <td>32.108439</td>\n",
              "    </tr>\n",
              "    <tr>\n",
              "      <th>min</th>\n",
              "      <td>54.263133</td>\n",
              "      <td>64.700127</td>\n",
              "    </tr>\n",
              "    <tr>\n",
              "      <th>25%</th>\n",
              "      <td>63.505620</td>\n",
              "      <td>135.818051</td>\n",
              "    </tr>\n",
              "    <tr>\n",
              "      <th>50%</th>\n",
              "      <td>66.318070</td>\n",
              "      <td>161.212928</td>\n",
              "    </tr>\n",
              "    <tr>\n",
              "      <th>75%</th>\n",
              "      <td>69.174262</td>\n",
              "      <td>187.169525</td>\n",
              "    </tr>\n",
              "    <tr>\n",
              "      <th>max</th>\n",
              "      <td>78.998742</td>\n",
              "      <td>269.989699</td>\n",
              "    </tr>\n",
              "  </tbody>\n",
              "</table>\n",
              "</div>"
            ],
            "text/plain": [
              "             Height        Weight\n",
              "count  10000.000000  10000.000000\n",
              "mean      66.367560    161.440357\n",
              "std        3.847528     32.108439\n",
              "min       54.263133     64.700127\n",
              "25%       63.505620    135.818051\n",
              "50%       66.318070    161.212928\n",
              "75%       69.174262    187.169525\n",
              "max       78.998742    269.989699"
            ]
          },
          "metadata": {
            "tags": []
          },
          "execution_count": 100
        }
      ]
    },
    {
      "cell_type": "code",
      "metadata": {
        "id": "eK6xK2UMcDhA"
      },
      "source": [
        "#introduce a custom function performing distribution analysis\n",
        "def distribution_analysis(x, log_scale = False, fit_distribution = 'None', bins = 50, vis_means = True, vis_curve = True, print_outputs = True):\n",
        "    #x - array of observations\n",
        "    #log_scale - analyze distribution of log(x) if True\n",
        "    #fit_distribution - fit the distribution ('normal', 'gev' or 'pareto') or do nothing if 'None'\n",
        "    #bins - how many bins to use for binning the data\n",
        "    #vis_means - show mean and std lines if True\n",
        "    #vis_curve - show interpolated distribution curve over the histogram bars if True\n",
        "    #print_outputs - print mean, std and percentiles\n",
        "    \n",
        "    if log_scale: \n",
        "        x1 = np.log10(x) #convert data to decimal logarithms\n",
        "        xlabel = 'log(values)' #reflect in x labels\n",
        "    else:\n",
        "        x1 = x #leave original scale \n",
        "        xlabel = 'values'\n",
        "    mu = x1.mean() #compute the mean\n",
        "    if log_scale: #if logscale, output all three - log mean, its original scale and original scale mean\n",
        "        print('Log mean = {:.2f}({:.2f}), mean = {:.2f}'.format(mu,10**mu,x.mean()))\n",
        "    else:\n",
        "        print('Mean = {:.2f}'.format(mu)) #otherwise print mean\n",
        "    sigma = x1.std() #compute and output standard deviation \n",
        "    print('Standard deviation = {:.2f}'.format(sigma))\n",
        "    for p in [1,5,25,50,75,95,99]: #output percentile values\n",
        "        print('{:d} percentile = {:.2f}'.format(p,np.percentile(x,p)))\n",
        "        \n",
        "    #visualize histogram and the interpolated line (if vis_curve=True) using seaborn\n",
        "    sns.distplot(x1, hist=True, kde=vis_curve, \n",
        "        bins=bins,color = 'darkblue', \n",
        "        hist_kws={'edgecolor':'black'},\n",
        "        kde_kws={'linewidth': 4})\n",
        "    \n",
        "    #show vertical lines for mean and std if vis_means = True\n",
        "    if vis_means:\n",
        "        plt.axvline(mu, color='r', ls='--', lw=2.0)\n",
        "        plt.axvline(mu-sigma, color='g', ls='--', lw=2.0)\n",
        "        plt.axvline(mu+sigma, color='g', ls='--', lw=2.0)\n",
        "        \n",
        "    ylim = plt.gca().get_ylim() #keep the y-range of original distribution density values \n",
        "    #(to make sure the fitted distribution would not affect it)\n",
        "    \n",
        "    h = np.arange(mu - 3 * sigma, mu + 3 * sigma, sigma / 100) #3-sigma visualization range for the fitted distribution\n",
        "    pars = None #fitted distribution parameters\n",
        "    \n",
        "    #fit and visualize the theoretic distribution\n",
        "    if fit_distribution == 'normal':\n",
        "        pars = norm.fit(x1)\n",
        "        plt.plot(h,norm.pdf(h,*pars),'r')\n",
        "    elif fit_distribution == 'gev':\n",
        "        pars = gev.fit(x1)\n",
        "        plt.plot(h,gev.pdf(h,*pars),'r')\n",
        "    elif fit_distribution == 'pareto':\n",
        "        pars = pareto.fit(x1)\n",
        "        plt.plot(h,pareto.pdf(h,*pars),'r')\n",
        "    \n",
        "    plt.xlabel(xlabel) #add x label \n",
        "    plt.ylim(ylim) #restore the y-range of original distribution density values \n",
        "    plt.show()\n",
        "    return pars"
      ],
      "execution_count": 101,
      "outputs": []
    },
    {
      "cell_type": "code",
      "metadata": {
        "colab": {
          "base_uri": "https://localhost:8080/",
          "height": 490
        },
        "id": "CKva-QOdcDhB",
        "outputId": "ef9b7467-77cd-4c6b-f130-5eb4a9e8729f"
      },
      "source": [
        "# output the empirical distribution for people's heights - histogram and interpolated curve\n",
        "distribution_analysis(height.Height, bins=40, vis_means = False)"
      ],
      "execution_count": 102,
      "outputs": [
        {
          "output_type": "stream",
          "text": [
            "Mean = 66.37\n",
            "Standard deviation = 3.85\n",
            "1 percentile = 58.13\n",
            "5 percentile = 60.25\n",
            "25 percentile = 63.51\n",
            "50 percentile = 66.32\n",
            "75 percentile = 69.17\n",
            "95 percentile = 72.62\n",
            "99 percentile = 74.79\n"
          ],
          "name": "stdout"
        },
        {
          "output_type": "stream",
          "text": [
            "/usr/local/lib/python3.7/dist-packages/seaborn/distributions.py:2557: FutureWarning: `distplot` is a deprecated function and will be removed in a future version. Please adapt your code to use either `displot` (a figure-level function with similar flexibility) or `histplot` (an axes-level function for histograms).\n",
            "  warnings.warn(msg, FutureWarning)\n"
          ],
          "name": "stderr"
        },
        {
          "output_type": "display_data",
          "data": {
            "image/png": "[encoded data removed]",
            "text/plain": [
              "<Figure size 432x288 with 1 Axes>"
            ]
          },
          "metadata": {
            "tags": [],
            "needs_background": "light"
          }
        }
      ]
    },
    {
      "cell_type": "markdown",
      "metadata": {
        "id": "94YcFpkWcDhC"
      },
      "source": [
        "We can see the distribution somewhat similar to bell curve (normal), but having a wider (double) peak"
      ]
    },
    {
      "cell_type": "code",
      "metadata": {
        "colab": {
          "base_uri": "https://localhost:8080/",
          "height": 490
        },
        "id": "VWTtVOETcDhC",
        "outputId": "69f8fe8f-df32-4c24-e071-35250706e67f"
      },
      "source": [
        "#indeed if we now fit the normal distribution the fit is not going to be perfect\n",
        "distribution_analysis(height.Height, fit_distribution='normal', bins=40);"
      ],
      "execution_count": 103,
      "outputs": [
        {
          "output_type": "stream",
          "text": [
            "Mean = 66.37\n",
            "Standard deviation = 3.85\n",
            "1 percentile = 58.13\n",
            "5 percentile = 60.25\n",
            "25 percentile = 63.51\n",
            "50 percentile = 66.32\n",
            "75 percentile = 69.17\n",
            "95 percentile = 72.62\n",
            "99 percentile = 74.79\n"
          ],
          "name": "stdout"
        },
        {
          "output_type": "stream",
          "text": [
            "/usr/local/lib/python3.7/dist-packages/seaborn/distributions.py:2557: FutureWarning: `distplot` is a deprecated function and will be removed in a future version. Please adapt your code to use either `displot` (a figure-level function with similar flexibility) or `histplot` (an axes-level function for histograms).\n",
            "  warnings.warn(msg, FutureWarning)\n"
          ],
          "name": "stderr"
        },
        {
          "output_type": "display_data",
          "data": {
            "image/png": "[encoded data removed]",
            "text/plain": [
              "<Figure size 432x288 with 1 Axes>"
            ]
          },
          "metadata": {
            "tags": [],
            "needs_background": "light"
          }
        }
      ]
    },
    {
      "cell_type": "markdown",
      "metadata": {
        "id": "DXjXEVbscDhD"
      },
      "source": [
        "This is because the men and women heigh distribution are different and here are mixed together"
      ]
    },
    {
      "cell_type": "markdown",
      "metadata": {
        "id": "1EGSEbjdcDhD"
      },
      "source": [
        "In fact we have two modes in the distribution. Let's consider them separately"
      ]
    },
    {
      "cell_type": "code",
      "metadata": {
        "colab": {
          "base_uri": "https://localhost:8080/"
        },
        "id": "efM_Pjg_cDhE",
        "outputId": "59b7efae-8231-4985-8d5e-9ef68b62a5e6"
      },
      "source": [
        "men_height = height[height.Gender=='Male'] #take only men\n",
        "women_height = height[height.Gender=='Female'] #take only men\n",
        "print (len(men_height), len(women_height)) #equal sizes of men/women samples"
      ],
      "execution_count": 104,
      "outputs": [
        {
          "output_type": "stream",
          "text": [
            "5000 5000\n"
          ],
          "name": "stdout"
        }
      ]
    },
    {
      "cell_type": "code",
      "metadata": {
        "colab": {
          "base_uri": "https://localhost:8080/",
          "height": 490
        },
        "id": "Vd0D0Y7bcDhE",
        "outputId": "d30e56c4-1b6c-49d7-d7c5-37e93a85e173"
      },
      "source": [
        "#if we now fit the normal distribution to men heights, it fits pretty well\n",
        "distribution_analysis(men_height.Height, fit_distribution='normal',bins=40);"
      ],
      "execution_count": 105,
      "outputs": [
        {
          "output_type": "stream",
          "text": [
            "Mean = 69.03\n",
            "Standard deviation = 2.86\n",
            "1 percentile = 62.06\n",
            "5 percentile = 64.33\n",
            "25 percentile = 67.17\n",
            "50 percentile = 69.03\n",
            "75 percentile = 70.99\n",
            "95 percentile = 73.70\n",
            "99 percentile = 75.69\n"
          ],
          "name": "stdout"
        },
        {
          "output_type": "stream",
          "text": [
            "/usr/local/lib/python3.7/dist-packages/seaborn/distributions.py:2557: FutureWarning: `distplot` is a deprecated function and will be removed in a future version. Please adapt your code to use either `displot` (a figure-level function with similar flexibility) or `histplot` (an axes-level function for histograms).\n",
            "  warnings.warn(msg, FutureWarning)\n"
          ],
          "name": "stderr"
        },
        {
          "output_type": "display_data",
          "data": {
            "image/png": "[encoded data removed]",
            "text/plain": [
              "<Figure size 432x288 with 1 Axes>"
            ]
          },
          "metadata": {
            "tags": [],
            "needs_background": "light"
          }
        }
      ]
    },
    {
      "cell_type": "markdown",
      "metadata": {
        "id": "vBrstOu6cDhE"
      },
      "source": [
        "The average height is 69\", while those taller than 75.7\" are already among the 1% outliers "
      ]
    },
    {
      "cell_type": "code",
      "metadata": {
        "colab": {
          "base_uri": "https://localhost:8080/",
          "height": 490
        },
        "id": "xRuyt2L7cDhE",
        "outputId": "bd61168e-aa37-41e7-8753-c18a3cfb9e0a"
      },
      "source": [
        "#same for women; just the parameters are different:\n",
        "#the mean is 63.7\" and the 1% outliers start around the same level as the men averages\n",
        "distribution_analysis(women_height.Height, fit_distribution='normal',bins=40);"
      ],
      "execution_count": 106,
      "outputs": [
        {
          "output_type": "stream",
          "text": [
            "Mean = 63.71\n",
            "Standard deviation = 2.70\n",
            "1 percentile = 57.31\n",
            "5 percentile = 59.27\n",
            "25 percentile = 61.89\n",
            "50 percentile = 63.73\n",
            "75 percentile = 65.56\n",
            "95 percentile = 68.14\n",
            "99 percentile = 69.89\n"
          ],
          "name": "stdout"
        },
        {
          "output_type": "stream",
          "text": [
            "/usr/local/lib/python3.7/dist-packages/seaborn/distributions.py:2557: FutureWarning: `distplot` is a deprecated function and will be removed in a future version. Please adapt your code to use either `displot` (a figure-level function with similar flexibility) or `histplot` (an axes-level function for histograms).\n",
            "  warnings.warn(msg, FutureWarning)\n"
          ],
          "name": "stderr"
        },
        {
          "output_type": "display_data",
          "data": {
            "image/png": "[encoded data removed]",
            "text/plain": [
              "<Figure size 432x288 with 1 Axes>"
            ]
          },
          "metadata": {
            "tags": [],
            "needs_background": "light"
          }
        }
      ]
    },
    {
      "cell_type": "markdown",
      "metadata": {
        "id": "50oZ24KNcDhF"
      },
      "source": [
        "### Extrapolating insights with the theoretic distributions\n",
        "Now illustrate the way fitting the theoretic distribution analysis can help generalize the insights beyond the considered sample. Take a much smaller sample of 100 random men heights - imagine this is all the data we've got"
      ]
    },
    {
      "cell_type": "code",
      "metadata": {
        "id": "SAg61ke_cDhG"
      },
      "source": [
        "men_sample = men_height.sample(n=100, random_state=11)"
      ],
      "execution_count": 107,
      "outputs": []
    },
    {
      "cell_type": "code",
      "metadata": {
        "colab": {
          "base_uri": "https://localhost:8080/",
          "height": 490
        },
        "id": "KzMueygXcDhG",
        "outputId": "235c3b4a-6890-486b-94d8-74e6b1d8ce0b"
      },
      "source": [
        "#the empiric distribution looks much more noisy, however the fitted normal distribution has similar parameters compared to the original one\n",
        "pars = distribution_analysis(men_sample.Height, fit_distribution='normal',bins=10)"
      ],
      "execution_count": 108,
      "outputs": [
        {
          "output_type": "stream",
          "text": [
            "Mean = 68.87\n",
            "Standard deviation = 2.85\n",
            "1 percentile = 61.92\n",
            "5 percentile = 63.56\n",
            "25 percentile = 67.44\n",
            "50 percentile = 68.70\n",
            "75 percentile = 70.73\n",
            "95 percentile = 73.74\n",
            "99 percentile = 74.10\n"
          ],
          "name": "stdout"
        },
        {
          "output_type": "stream",
          "text": [
            "/usr/local/lib/python3.7/dist-packages/seaborn/distributions.py:2557: FutureWarning: `distplot` is a deprecated function and will be removed in a future version. Please adapt your code to use either `displot` (a figure-level function with similar flexibility) or `histplot` (an axes-level function for histograms).\n",
            "  warnings.warn(msg, FutureWarning)\n"
          ],
          "name": "stderr"
        },
        {
          "output_type": "display_data",
          "data": {
            "image/png": "[encoded data removed]",
            "text/plain": [
              "<Figure size 432x288 with 1 Axes>"
            ]
          },
          "metadata": {
            "tags": [],
            "needs_background": "light"
          }
        }
      ]
    },
    {
      "cell_type": "markdown",
      "metadata": {
        "id": "XHcmJcMJcDhH"
      },
      "source": [
        "Use the fitted distribution to assess the chances for observing extreme hight values. Imagine we're designing a door and want to know the percentage of people if could comfortably accomodate."
      ]
    },
    {
      "cell_type": "code",
      "metadata": {
        "id": "NrV2tlcTcDhH"
      },
      "source": [
        "#the function reporting pecentage of extreme values above a given `threshold` according to the empiric `data`\n",
        "#as well as the theoretic distribution `dist` given its parameters `pars`\n",
        "def extreme_percentage(threshold, data, dist, pars):\n",
        "    if data is None:\n",
        "        empiric = None\n",
        "    else:\n",
        "        empiric = 100.0 * sum(data >= threshold)/len(data) #compute empiric propobability\n",
        "    if dist is None:\n",
        "        theoretic = None\n",
        "    else:\n",
        "        theoretic = 100.0 * (1 - dist.cdf(threshold, *pars)) #asses theoretic probability using cumulative distribution function\n",
        "    print('Percentage higher than {}: theory = {}, empiric = {}'.format(threshold, theoretic, empiric))"
      ],
      "execution_count": 109,
      "outputs": []
    },
    {
      "cell_type": "code",
      "metadata": {
        "colab": {
          "base_uri": "https://localhost:8080/"
        },
        "id": "j5qgW8URcDhH",
        "outputId": "3728b877-01a8-4028-d586-f603105a7437"
      },
      "source": [
        "#percetage of people at least 6' tall\n",
        "extreme_percentage(threshold = 72, data = men_sample.Height, dist = norm, pars = pars)"
      ],
      "execution_count": 110,
      "outputs": [
        {
          "output_type": "stream",
          "text": [
            "Percentage higher than 72: theory = 13.481970712238622, empiric = 12.0\n"
          ],
          "name": "stdout"
        }
      ]
    },
    {
      "cell_type": "markdown",
      "metadata": {
        "id": "sSHXodcxcDhI"
      },
      "source": [
        "We can see the theoretic and empuric estimates are similar, although of course not exactly the same"
      ]
    },
    {
      "cell_type": "code",
      "metadata": {
        "colab": {
          "base_uri": "https://localhost:8080/"
        },
        "id": "81QWkeybcDhI",
        "outputId": "f78e0bc8-ac3f-4149-e34c-2134e986cec8"
      },
      "source": [
        "#percetage of people at least 6.5' tall\n",
        "extreme_percentage(threshold = 78, data = men_sample.Height, dist = norm, pars = pars)"
      ],
      "execution_count": 111,
      "outputs": [
        {
          "output_type": "stream",
          "text": [
            "Percentage higher than 78: theory = 0.06394015857694724, empiric = 0.0\n"
          ],
          "name": "stdout"
        }
      ]
    },
    {
      "cell_type": "markdown",
      "metadata": {
        "id": "zUjnZMtJcDhI"
      },
      "source": [
        "The theoretic estimate gives a somewhat low chance of 0.06%, while the sample of 100 people does not have heights above 6.5' at all, and this way fails to provide any reliable conclusion other than it should not be much higher than 1%. How appropriate is the theoretic estimate?"
      ]
    },
    {
      "cell_type": "code",
      "metadata": {
        "id": "if3X7SOMcDhI"
      },
      "source": [
        "#compare it against the empirical estimate from a larger sample "
      ],
      "execution_count": 112,
      "outputs": []
    },
    {
      "cell_type": "code",
      "metadata": {
        "colab": {
          "base_uri": "https://localhost:8080/"
        },
        "id": "yW2Ci30dcDhI",
        "outputId": "b37d6bb3-d97c-4886-9dc5-265091fd3ae9"
      },
      "source": [
        "extreme_percentage(threshold = 78, data = men_height.Height, dist = norm, pars = pars)"
      ],
      "execution_count": 113,
      "outputs": [
        {
          "output_type": "stream",
          "text": [
            "Percentage higher than 78: theory = 0.06394015857694724, empiric = 0.1\n"
          ],
          "name": "stdout"
        }
      ]
    },
    {
      "cell_type": "markdown",
      "metadata": {
        "id": "eX8FbmLUcDhJ"
      },
      "source": [
        "So the theoretic distribution provided an estimate pretty close to the one observed from a larger sample without seeing this sample! So it helped drawing a meaningful inferece from a small sample which by itself could not provide the direct empiric estimate. This is what theoretic exprapolation is about and we see it works. Based on it, if we make the door 6.5' hight it will accomodate 99.94% of men entering and even more women as they are less tall on average."
      ]
    },
    {
      "cell_type": "code",
      "metadata": {
        "colab": {
          "base_uri": "https://localhost:8080/"
        },
        "id": "9h1u5orIcDhJ",
        "outputId": "08d7b12c-cae7-4c08-e881-7db2339b167e"
      },
      "source": [
        "#and it can work much further, where even the larger complete sample fails to provide any estimates\n",
        "extreme_percentage(threshold = 84, data = men_height.Height, dist = norm, pars = pars)\n",
        "#the theoretic chance of meeting a man at least 7' tall is 1 out of 20M. No surpise we don't see those in the sample of 5000."
      ],
      "execution_count": 114,
      "outputs": [
        {
          "output_type": "stream",
          "text": [
            "Percentage higher than 84: theory = 4.7119495527603306e-06, empiric = 0.0\n"
          ],
          "name": "stdout"
        }
      ]
    },
    {
      "cell_type": "markdown",
      "metadata": {
        "id": "Xi1gyp6xcDhJ"
      },
      "source": [
        "But not any theoretic inference can be reliable. E.g. if we fit a different kind of distribution - Pareto, the inferences change dramatically!"
      ]
    },
    {
      "cell_type": "code",
      "metadata": {
        "colab": {
          "base_uri": "https://localhost:8080/",
          "height": 524
        },
        "id": "C47pujp0cDhJ",
        "outputId": "a6f419b9-c394-4aa0-b927-ff69b87f421d"
      },
      "source": [
        "pareto_pars = distribution_analysis(men_sample.Height, fit_distribution='pareto', bins=10)"
      ],
      "execution_count": 115,
      "outputs": [
        {
          "output_type": "stream",
          "text": [
            "Mean = 68.87\n",
            "Standard deviation = 2.85\n",
            "1 percentile = 61.92\n",
            "5 percentile = 63.56\n",
            "25 percentile = 67.44\n",
            "50 percentile = 68.70\n",
            "75 percentile = 70.73\n",
            "95 percentile = 73.74\n",
            "99 percentile = 74.10\n"
          ],
          "name": "stdout"
        },
        {
          "output_type": "stream",
          "text": [
            "/usr/local/lib/python3.7/dist-packages/seaborn/distributions.py:2557: FutureWarning: `distplot` is a deprecated function and will be removed in a future version. Please adapt your code to use either `displot` (a figure-level function with similar flexibility) or `histplot` (an axes-level function for histograms).\n",
            "  warnings.warn(msg, FutureWarning)\n",
            "/usr/local/lib/python3.7/dist-packages/scipy/stats/_distn_infrastructure.py:2407: RuntimeWarning: invalid value encountered in double_scalars\n",
            "  Lhat = muhat - Shat*mu\n"
          ],
          "name": "stderr"
        },
        {
          "output_type": "display_data",
          "data": {
            "image/png": "[encoded data removed]",
            "text/plain": [
              "<Figure size 432x288 with 1 Axes>"
            ]
          },
          "metadata": {
            "tags": [],
            "needs_background": "light"
          }
        }
      ]
    },
    {
      "cell_type": "code",
      "metadata": {
        "colab": {
          "base_uri": "https://localhost:8080/"
        },
        "id": "eK_5jbsocDhK",
        "outputId": "8e4fa136-9872-4f8c-d310-0bfac5d5d8b4"
      },
      "source": [
        "extreme_percentage(threshold = 84, data = men_height.Height, dist = pareto, pars = pareto_pars)"
      ],
      "execution_count": 116,
      "outputs": [
        {
          "output_type": "stream",
          "text": [
            "Percentage higher than 84: theory = 6.291687302412141, empiric = 0.0\n"
          ],
          "name": "stdout"
        }
      ]
    },
    {
      "cell_type": "markdown",
      "metadata": {
        "id": "tovNc07WcDhK"
      },
      "source": [
        "It now gives more than a 6% chance (1 out of 16) for meeting an at least 7' tall man! Which is of course completely inconsistent with empirical observation..."
      ]
    },
    {
      "cell_type": "markdown",
      "metadata": {
        "id": "NL7879K1cDhK"
      },
      "source": [
        "But if we look at the plot above, we see that the distribution did not really fit the sample well. So obviously its inferences can't be trusted.\n",
        "\n",
        "This assessment is visually obvious but it highlights the importance of assessing the quality of the model fit. We are going to provide some more robust quantitative criteria for it later in the class."
      ]
    },
    {
      "cell_type": "markdown",
      "metadata": {
        "id": "PCFnNqircDhL"
      },
      "source": [
        "## Task 1. Weight analysis\n",
        "Fit the normal distribution to the a) men and b) women weight observations (use complete sample). Report the parameters and visulize the fit. c) Provide a theoretic and empiric assessment of observing a man and women heavier than 200 lb, 250 lb and 300 lb."
      ]
    },
    {
      "cell_type": "markdown",
      "metadata": {
        "id": "bfaOG5pqckRS"
      },
      "source": [
        ""
      ]
    },
    {
      "cell_type": "code",
      "metadata": {
        "colab": {
          "base_uri": "https://localhost:8080/",
          "height": 490
        },
        "id": "U0t0Ly4TdUya",
        "outputId": "ac21eda0-2eef-42d9-a4ef-ee70cef88b7e"
      },
      "source": [
        "distribution_analysis(men_height.Weight, fit_distribution='normal',bins=40);"
      ],
      "execution_count": 117,
      "outputs": [
        {
          "output_type": "stream",
          "text": [
            "Mean = 187.02\n",
            "Standard deviation = 19.78\n",
            "1 percentile = 140.04\n",
            "5 percentile = 154.80\n",
            "25 percentile = 173.89\n",
            "50 percentile = 187.03\n",
            "75 percentile = 200.36\n",
            "95 percentile = 218.98\n",
            "99 percentile = 232.25\n"
          ],
          "name": "stdout"
        },
        {
          "output_type": "stream",
          "text": [
            "/usr/local/lib/python3.7/dist-packages/seaborn/distributions.py:2557: FutureWarning: `distplot` is a deprecated function and will be removed in a future version. Please adapt your code to use either `displot` (a figure-level function with similar flexibility) or `histplot` (an axes-level function for histograms).\n",
            "  warnings.warn(msg, FutureWarning)\n"
          ],
          "name": "stderr"
        },
        {
          "output_type": "display_data",
          "data": {
            "image/png": "[encoded data removed]",
            "text/plain": [
              "<Figure size 432x288 with 1 Axes>"
            ]
          },
          "metadata": {
            "tags": [],
            "needs_background": "light"
          }
        }
      ]
    },
    {
      "cell_type": "code",
      "metadata": {
        "colab": {
          "base_uri": "https://localhost:8080/",
          "height": 490
        },
        "id": "Q3hsjefZm7MF",
        "outputId": "3319cdef-998a-4946-ecf3-8cf274eb95f4"
      },
      "source": [
        "distribution_analysis(women_height.Weight, fit_distribution='normal',bins=40);"
      ],
      "execution_count": 118,
      "outputs": [
        {
          "output_type": "stream",
          "text": [
            "Mean = 135.86\n",
            "Standard deviation = 19.02\n",
            "1 percentile = 92.12\n",
            "5 percentile = 103.96\n",
            "25 percentile = 122.93\n",
            "50 percentile = 136.12\n",
            "75 percentile = 148.81\n",
            "95 percentile = 166.78\n",
            "99 percentile = 179.18\n"
          ],
          "name": "stdout"
        },
        {
          "output_type": "stream",
          "text": [
            "/usr/local/lib/python3.7/dist-packages/seaborn/distributions.py:2557: FutureWarning: `distplot` is a deprecated function and will be removed in a future version. Please adapt your code to use either `displot` (a figure-level function with similar flexibility) or `histplot` (an axes-level function for histograms).\n",
            "  warnings.warn(msg, FutureWarning)\n"
          ],
          "name": "stderr"
        },
        {
          "output_type": "display_data",
          "data": {
            "image/png": "[encoded data removed]",
            "text/plain": [
              "<Figure size 432x288 with 1 Axes>"
            ]
          },
          "metadata": {
            "tags": [],
            "needs_background": "light"
          }
        }
      ]
    },
    {
      "cell_type": "code",
      "metadata": {
        "id": "vYbTVNLftVSb"
      },
      "source": [
        "men_data_over_200 = height[(height['Weight'] >= 200) & (height['Gender']=='Male')] \r\n"
      ],
      "execution_count": 119,
      "outputs": []
    },
    {
      "cell_type": "code",
      "metadata": {
        "colab": {
          "base_uri": "https://localhost:8080/",
          "height": 202
        },
        "id": "90TOK-q4VEKi",
        "outputId": "ac8f919a-b114-4ae2-a6b1-4b3ae4833aa1"
      },
      "source": [
        "men_data_over_200.head()"
      ],
      "execution_count": 120,
      "outputs": [
        {
          "output_type": "execute_result",
          "data": {
            "text/html": [
              "<div>\n",
              "<style scoped>\n",
              "    .dataframe tbody tr th:only-of-type {\n",
              "        vertical-align: middle;\n",
              "    }\n",
              "\n",
              "    .dataframe tbody tr th {\n",
              "        vertical-align: top;\n",
              "    }\n",
              "\n",
              "    .dataframe thead th {\n",
              "        text-align: right;\n",
              "    }\n",
              "</style>\n",
              "<table border=\"1\" class=\"dataframe\">\n",
              "  <thead>\n",
              "    <tr style=\"text-align: right;\">\n",
              "      <th></th>\n",
              "      <th>Gender</th>\n",
              "      <th>Height</th>\n",
              "      <th>Weight</th>\n",
              "    </tr>\n",
              "  </thead>\n",
              "  <tbody>\n",
              "    <tr>\n",
              "      <th>0</th>\n",
              "      <td>Male</td>\n",
              "      <td>73.847017</td>\n",
              "      <td>241.893563</td>\n",
              "    </tr>\n",
              "    <tr>\n",
              "      <th>2</th>\n",
              "      <td>Male</td>\n",
              "      <td>74.110105</td>\n",
              "      <td>212.740856</td>\n",
              "    </tr>\n",
              "    <tr>\n",
              "      <th>3</th>\n",
              "      <td>Male</td>\n",
              "      <td>71.730978</td>\n",
              "      <td>220.042470</td>\n",
              "    </tr>\n",
              "    <tr>\n",
              "      <th>4</th>\n",
              "      <td>Male</td>\n",
              "      <td>69.881796</td>\n",
              "      <td>206.349801</td>\n",
              "    </tr>\n",
              "    <tr>\n",
              "      <th>11</th>\n",
              "      <td>Male</td>\n",
              "      <td>71.640805</td>\n",
              "      <td>213.741169</td>\n",
              "    </tr>\n",
              "  </tbody>\n",
              "</table>\n",
              "</div>"
            ],
            "text/plain": [
              "   Gender     Height      Weight\n",
              "0    Male  73.847017  241.893563\n",
              "2    Male  74.110105  212.740856\n",
              "3    Male  71.730978  220.042470\n",
              "4    Male  69.881796  206.349801\n",
              "11   Male  71.640805  213.741169"
            ]
          },
          "metadata": {
            "tags": []
          },
          "execution_count": 120
        }
      ]
    },
    {
      "cell_type": "code",
      "metadata": {
        "colab": {
          "base_uri": "https://localhost:8080/"
        },
        "id": "RBPQxLg9VDzq",
        "outputId": "0de854bd-f85f-4d45-e8d9-717005d42cc7"
      },
      "source": [
        "len(men_data_over_200)"
      ],
      "execution_count": 121,
      "outputs": [
        {
          "output_type": "execute_result",
          "data": {
            "text/plain": [
              "1279"
            ]
          },
          "metadata": {
            "tags": []
          },
          "execution_count": 121
        }
      ]
    },
    {
      "cell_type": "code",
      "metadata": {
        "colab": {
          "base_uri": "https://localhost:8080/",
          "height": 490
        },
        "id": "v02FqKqRUu4I",
        "outputId": "312e5f97-0046-4b57-934d-c5bcd8f21f45"
      },
      "source": [
        "distribution_analysis(men_data_over_200.Weight, fit_distribution='normal',bins=40);"
      ],
      "execution_count": 122,
      "outputs": [
        {
          "output_type": "stream",
          "text": [
            "Mean = 211.75\n",
            "Standard deviation = 10.00\n",
            "1 percentile = 200.21\n",
            "5 percentile = 200.80\n",
            "25 percentile = 204.24\n",
            "50 percentile = 209.24\n",
            "75 percentile = 216.90\n",
            "95 percentile = 230.69\n",
            "99 percentile = 246.49\n"
          ],
          "name": "stdout"
        },
        {
          "output_type": "stream",
          "text": [
            "/usr/local/lib/python3.7/dist-packages/seaborn/distributions.py:2557: FutureWarning: `distplot` is a deprecated function and will be removed in a future version. Please adapt your code to use either `displot` (a figure-level function with similar flexibility) or `histplot` (an axes-level function for histograms).\n",
            "  warnings.warn(msg, FutureWarning)\n"
          ],
          "name": "stderr"
        },
        {
          "output_type": "display_data",
          "data": {
            "image/png": "[encoded data removed]",
            "text/plain": [
              "<Figure size 432x288 with 1 Axes>"
            ]
          },
          "metadata": {
            "tags": [],
            "needs_background": "light"
          }
        }
      ]
    },
    {
      "cell_type": "code",
      "metadata": {
        "id": "3xIxrJpCVbm3"
      },
      "source": [
        "men_data_over_250 = height[(height['Weight'] >= 250) & (height['Gender']=='Male')]"
      ],
      "execution_count": 123,
      "outputs": []
    },
    {
      "cell_type": "code",
      "metadata": {
        "colab": {
          "base_uri": "https://localhost:8080/",
          "height": 202
        },
        "id": "zvLWGLTwVhpa",
        "outputId": "3a69fe76-03ed-41b0-ad76-a772cf1a1ddf"
      },
      "source": [
        "men_data_over_250.head()"
      ],
      "execution_count": 124,
      "outputs": [
        {
          "output_type": "execute_result",
          "data": {
            "text/html": [
              "<div>\n",
              "<style scoped>\n",
              "    .dataframe tbody tr th:only-of-type {\n",
              "        vertical-align: middle;\n",
              "    }\n",
              "\n",
              "    .dataframe tbody tr th {\n",
              "        vertical-align: top;\n",
              "    }\n",
              "\n",
              "    .dataframe thead th {\n",
              "        text-align: right;\n",
              "    }\n",
              "</style>\n",
              "<table border=\"1\" class=\"dataframe\">\n",
              "  <thead>\n",
              "    <tr style=\"text-align: right;\">\n",
              "      <th></th>\n",
              "      <th>Gender</th>\n",
              "      <th>Height</th>\n",
              "      <th>Weight</th>\n",
              "    </tr>\n",
              "  </thead>\n",
              "  <tbody>\n",
              "    <tr>\n",
              "      <th>994</th>\n",
              "      <td>Male</td>\n",
              "      <td>78.095867</td>\n",
              "      <td>255.690835</td>\n",
              "    </tr>\n",
              "    <tr>\n",
              "      <th>1610</th>\n",
              "      <td>Male</td>\n",
              "      <td>76.617546</td>\n",
              "      <td>255.863326</td>\n",
              "    </tr>\n",
              "    <tr>\n",
              "      <th>2014</th>\n",
              "      <td>Male</td>\n",
              "      <td>78.998742</td>\n",
              "      <td>269.989699</td>\n",
              "    </tr>\n",
              "    <tr>\n",
              "      <th>2070</th>\n",
              "      <td>Male</td>\n",
              "      <td>77.465569</td>\n",
              "      <td>252.556689</td>\n",
              "    </tr>\n",
              "    <tr>\n",
              "      <th>2971</th>\n",
              "      <td>Male</td>\n",
              "      <td>75.156879</td>\n",
              "      <td>250.317151</td>\n",
              "    </tr>\n",
              "  </tbody>\n",
              "</table>\n",
              "</div>"
            ],
            "text/plain": [
              "     Gender     Height      Weight\n",
              "994    Male  78.095867  255.690835\n",
              "1610   Male  76.617546  255.863326\n",
              "2014   Male  78.998742  269.989699\n",
              "2070   Male  77.465569  252.556689\n",
              "2971   Male  75.156879  250.317151"
            ]
          },
          "metadata": {
            "tags": []
          },
          "execution_count": 124
        }
      ]
    },
    {
      "cell_type": "code",
      "metadata": {
        "colab": {
          "base_uri": "https://localhost:8080/"
        },
        "id": "jJQmcrc0VuMB",
        "outputId": "90ad5ce0-7e3b-453c-aa5b-eda16a56d782"
      },
      "source": [
        "len(men_data_over_250)"
      ],
      "execution_count": 125,
      "outputs": [
        {
          "output_type": "execute_result",
          "data": {
            "text/plain": [
              "8"
            ]
          },
          "metadata": {
            "tags": []
          },
          "execution_count": 125
        }
      ]
    },
    {
      "cell_type": "code",
      "metadata": {
        "colab": {
          "base_uri": "https://localhost:8080/",
          "height": 490
        },
        "id": "qic7wrbqV9q6",
        "outputId": "6963073b-8154-4958-d954-cea7c3a7c771"
      },
      "source": [
        "distribution_analysis(men_data_over_250.Weight, fit_distribution='normal',bins=40);"
      ],
      "execution_count": 126,
      "outputs": [
        {
          "output_type": "stream",
          "text": [
            "Mean = 255.49\n",
            "Standard deviation = 6.17\n",
            "1 percentile = 250.39\n",
            "5 percentile = 250.70\n",
            "25 percentile = 252.27\n",
            "50 percentile = 254.05\n",
            "75 percentile = 255.73\n",
            "95 percentile = 265.05\n",
            "99 percentile = 269.00\n"
          ],
          "name": "stdout"
        },
        {
          "output_type": "stream",
          "text": [
            "/usr/local/lib/python3.7/dist-packages/seaborn/distributions.py:2557: FutureWarning: `distplot` is a deprecated function and will be removed in a future version. Please adapt your code to use either `displot` (a figure-level function with similar flexibility) or `histplot` (an axes-level function for histograms).\n",
            "  warnings.warn(msg, FutureWarning)\n"
          ],
          "name": "stderr"
        },
        {
          "output_type": "display_data",
          "data": {
            "image/png": "[encoded data removed]",
            "text/plain": [
              "<Figure size 432x288 with 1 Axes>"
            ]
          },
          "metadata": {
            "tags": [],
            "needs_background": "light"
          }
        }
      ]
    },
    {
      "cell_type": "code",
      "metadata": {
        "id": "6-4EIxOMWjnW"
      },
      "source": [
        "men_data_over_300 = height[(height['Weight'] >= 300) & (height['Gender']=='Male')]"
      ],
      "execution_count": 127,
      "outputs": []
    },
    {
      "cell_type": "code",
      "metadata": {
        "colab": {
          "base_uri": "https://localhost:8080/",
          "height": 48
        },
        "id": "5UgL7eeiXzF_",
        "outputId": "4d2423f9-0ed5-4282-a3be-9302bb4f0574"
      },
      "source": [
        "men_data_over_300.head() #Why isn't it showing any data? Perhaps, I should do a len function to look at the number of records."
      ],
      "execution_count": 128,
      "outputs": [
        {
          "output_type": "execute_result",
          "data": {
            "text/html": [
              "<div>\n",
              "<style scoped>\n",
              "    .dataframe tbody tr th:only-of-type {\n",
              "        vertical-align: middle;\n",
              "    }\n",
              "\n",
              "    .dataframe tbody tr th {\n",
              "        vertical-align: top;\n",
              "    }\n",
              "\n",
              "    .dataframe thead th {\n",
              "        text-align: right;\n",
              "    }\n",
              "</style>\n",
              "<table border=\"1\" class=\"dataframe\">\n",
              "  <thead>\n",
              "    <tr style=\"text-align: right;\">\n",
              "      <th></th>\n",
              "      <th>Gender</th>\n",
              "      <th>Height</th>\n",
              "      <th>Weight</th>\n",
              "    </tr>\n",
              "  </thead>\n",
              "  <tbody>\n",
              "  </tbody>\n",
              "</table>\n",
              "</div>"
            ],
            "text/plain": [
              "Empty DataFrame\n",
              "Columns: [Gender, Height, Weight]\n",
              "Index: []"
            ]
          },
          "metadata": {
            "tags": []
          },
          "execution_count": 128
        }
      ]
    },
    {
      "cell_type": "code",
      "metadata": {
        "colab": {
          "base_uri": "https://localhost:8080/"
        },
        "id": "lI3AqWHTYbQ6",
        "outputId": "39c4785a-4b73-46bb-af18-a51ea9ab9773"
      },
      "source": [
        "len(men_data_over_300) #There are zero records."
      ],
      "execution_count": 129,
      "outputs": [
        {
          "output_type": "execute_result",
          "data": {
            "text/plain": [
              "0"
            ]
          },
          "metadata": {
            "tags": []
          },
          "execution_count": 129
        }
      ]
    },
    {
      "cell_type": "code",
      "metadata": {
        "id": "d8JGPn51-t5Y"
      },
      "source": [
        "men_data_over_Weight=height[height['Weight'].isin([200,250,300])]"
      ],
      "execution_count": 130,
      "outputs": []
    },
    {
      "cell_type": "code",
      "metadata": {
        "colab": {
          "base_uri": "https://localhost:8080/",
          "height": 432
        },
        "id": "5-sIUJ3eXEy2",
        "outputId": "7f39753a-9196-4281-937f-9b97c7bea893"
      },
      "source": [
        "distribution_analysis(men_data_over_300.Weight, fit_distribution='normal',bins=40); #The index error is saying that it cannot create a graph when there are no records found for men that weigh over 300 lbs."
      ],
      "execution_count": 131,
      "outputs": [
        {
          "output_type": "stream",
          "text": [
            "Mean = nan\n",
            "Standard deviation = nan\n"
          ],
          "name": "stdout"
        },
        {
          "output_type": "error",
          "ename": "IndexError",
          "evalue": "ignored",
          "traceback": [
            "\u001b[0;31m---------------------------------------------------------------------------\u001b[0m",
            "\u001b[0;31mIndexError\u001b[0m                                Traceback (most recent call last)",
            "\u001b[0;32m<ipython-input-131-8f444e5bb087>\u001b[0m in \u001b[0;36m<module>\u001b[0;34m()\u001b[0m\n\u001b[0;32m----> 1\u001b[0;31m \u001b[0mdistribution_analysis\u001b[0m\u001b[0;34m(\u001b[0m\u001b[0mmen_data_over_300\u001b[0m\u001b[0;34m.\u001b[0m\u001b[0mWeight\u001b[0m\u001b[0;34m,\u001b[0m \u001b[0mfit_distribution\u001b[0m\u001b[0;34m=\u001b[0m\u001b[0;34m'normal'\u001b[0m\u001b[0;34m,\u001b[0m\u001b[0mbins\u001b[0m\u001b[0;34m=\u001b[0m\u001b[0;36m40\u001b[0m\u001b[0;34m)\u001b[0m\u001b[0;34m;\u001b[0m \u001b[0;31m#The index error is saying that it cannot create a graph when there are no records found for men that weigh over 300 lbs.\u001b[0m\u001b[0;34m\u001b[0m\u001b[0;34m\u001b[0m\u001b[0m\n\u001b[0m",
            "\u001b[0;32m<ipython-input-101-89129c2eb660>\u001b[0m in \u001b[0;36mdistribution_analysis\u001b[0;34m(x, log_scale, fit_distribution, bins, vis_means, vis_curve, print_outputs)\u001b[0m\n\u001b[1;32m     23\u001b[0m     \u001b[0mprint\u001b[0m\u001b[0;34m(\u001b[0m\u001b[0;34m'Standard deviation = {:.2f}'\u001b[0m\u001b[0;34m.\u001b[0m\u001b[0mformat\u001b[0m\u001b[0;34m(\u001b[0m\u001b[0msigma\u001b[0m\u001b[0;34m)\u001b[0m\u001b[0;34m)\u001b[0m\u001b[0;34m\u001b[0m\u001b[0;34m\u001b[0m\u001b[0m\n\u001b[1;32m     24\u001b[0m     \u001b[0;32mfor\u001b[0m \u001b[0mp\u001b[0m \u001b[0;32min\u001b[0m \u001b[0;34m[\u001b[0m\u001b[0;36m1\u001b[0m\u001b[0;34m,\u001b[0m\u001b[0;36m5\u001b[0m\u001b[0;34m,\u001b[0m\u001b[0;36m25\u001b[0m\u001b[0;34m,\u001b[0m\u001b[0;36m50\u001b[0m\u001b[0;34m,\u001b[0m\u001b[0;36m75\u001b[0m\u001b[0;34m,\u001b[0m\u001b[0;36m95\u001b[0m\u001b[0;34m,\u001b[0m\u001b[0;36m99\u001b[0m\u001b[0;34m]\u001b[0m\u001b[0;34m:\u001b[0m \u001b[0;31m#output percentile values\u001b[0m\u001b[0;34m\u001b[0m\u001b[0;34m\u001b[0m\u001b[0m\n\u001b[0;32m---> 25\u001b[0;31m         \u001b[0mprint\u001b[0m\u001b[0;34m(\u001b[0m\u001b[0;34m'{:d} percentile = {:.2f}'\u001b[0m\u001b[0;34m.\u001b[0m\u001b[0mformat\u001b[0m\u001b[0;34m(\u001b[0m\u001b[0mp\u001b[0m\u001b[0;34m,\u001b[0m\u001b[0mnp\u001b[0m\u001b[0;34m.\u001b[0m\u001b[0mpercentile\u001b[0m\u001b[0;34m(\u001b[0m\u001b[0mx\u001b[0m\u001b[0;34m,\u001b[0m\u001b[0mp\u001b[0m\u001b[0;34m)\u001b[0m\u001b[0;34m)\u001b[0m\u001b[0;34m)\u001b[0m\u001b[0;34m\u001b[0m\u001b[0;34m\u001b[0m\u001b[0m\n\u001b[0m\u001b[1;32m     26\u001b[0m \u001b[0;34m\u001b[0m\u001b[0m\n\u001b[1;32m     27\u001b[0m     \u001b[0;31m#visualize histogram and the interpolated line (if vis_curve=True) using seaborn\u001b[0m\u001b[0;34m\u001b[0m\u001b[0;34m\u001b[0m\u001b[0;34m\u001b[0m\u001b[0m\n",
            "\u001b[0;32m<__array_function__ internals>\u001b[0m in \u001b[0;36mpercentile\u001b[0;34m(*args, **kwargs)\u001b[0m\n",
            "\u001b[0;32m/usr/local/lib/python3.7/dist-packages/numpy/lib/function_base.py\u001b[0m in \u001b[0;36mpercentile\u001b[0;34m(a, q, axis, out, overwrite_input, interpolation, keepdims)\u001b[0m\n\u001b[1;32m   3731\u001b[0m         \u001b[0;32mraise\u001b[0m \u001b[0mValueError\u001b[0m\u001b[0;34m(\u001b[0m\u001b[0;34m\"Percentiles must be in the range [0, 100]\"\u001b[0m\u001b[0;34m)\u001b[0m\u001b[0;34m\u001b[0m\u001b[0;34m\u001b[0m\u001b[0m\n\u001b[1;32m   3732\u001b[0m     return _quantile_unchecked(\n\u001b[0;32m-> 3733\u001b[0;31m         a, q, axis, out, overwrite_input, interpolation, keepdims)\n\u001b[0m\u001b[1;32m   3734\u001b[0m \u001b[0;34m\u001b[0m\u001b[0m\n\u001b[1;32m   3735\u001b[0m \u001b[0;34m\u001b[0m\u001b[0m\n",
            "\u001b[0;32m/usr/local/lib/python3.7/dist-packages/numpy/lib/function_base.py\u001b[0m in \u001b[0;36m_quantile_unchecked\u001b[0;34m(a, q, axis, out, overwrite_input, interpolation, keepdims)\u001b[0m\n\u001b[1;32m   3851\u001b[0m     r, k = _ureduce(a, func=_quantile_ureduce_func, q=q, axis=axis, out=out,\n\u001b[1;32m   3852\u001b[0m                     \u001b[0moverwrite_input\u001b[0m\u001b[0;34m=\u001b[0m\u001b[0moverwrite_input\u001b[0m\u001b[0;34m,\u001b[0m\u001b[0;34m\u001b[0m\u001b[0;34m\u001b[0m\u001b[0m\n\u001b[0;32m-> 3853\u001b[0;31m                     interpolation=interpolation)\n\u001b[0m\u001b[1;32m   3854\u001b[0m     \u001b[0;32mif\u001b[0m \u001b[0mkeepdims\u001b[0m\u001b[0;34m:\u001b[0m\u001b[0;34m\u001b[0m\u001b[0;34m\u001b[0m\u001b[0m\n\u001b[1;32m   3855\u001b[0m         \u001b[0;32mreturn\u001b[0m \u001b[0mr\u001b[0m\u001b[0;34m.\u001b[0m\u001b[0mreshape\u001b[0m\u001b[0;34m(\u001b[0m\u001b[0mq\u001b[0m\u001b[0;34m.\u001b[0m\u001b[0mshape\u001b[0m \u001b[0;34m+\u001b[0m \u001b[0mk\u001b[0m\u001b[0;34m)\u001b[0m\u001b[0;34m\u001b[0m\u001b[0;34m\u001b[0m\u001b[0m\n",
            "\u001b[0;32m/usr/local/lib/python3.7/dist-packages/numpy/lib/function_base.py\u001b[0m in \u001b[0;36m_ureduce\u001b[0;34m(a, func, **kwargs)\u001b[0m\n\u001b[1;32m   3427\u001b[0m         \u001b[0mkeepdim\u001b[0m \u001b[0;34m=\u001b[0m \u001b[0;34m(\u001b[0m\u001b[0;36m1\u001b[0m\u001b[0;34m,\u001b[0m\u001b[0;34m)\u001b[0m \u001b[0;34m*\u001b[0m \u001b[0ma\u001b[0m\u001b[0;34m.\u001b[0m\u001b[0mndim\u001b[0m\u001b[0;34m\u001b[0m\u001b[0;34m\u001b[0m\u001b[0m\n\u001b[1;32m   3428\u001b[0m \u001b[0;34m\u001b[0m\u001b[0m\n\u001b[0;32m-> 3429\u001b[0;31m     \u001b[0mr\u001b[0m \u001b[0;34m=\u001b[0m \u001b[0mfunc\u001b[0m\u001b[0;34m(\u001b[0m\u001b[0ma\u001b[0m\u001b[0;34m,\u001b[0m \u001b[0;34m**\u001b[0m\u001b[0mkwargs\u001b[0m\u001b[0;34m)\u001b[0m\u001b[0;34m\u001b[0m\u001b[0;34m\u001b[0m\u001b[0m\n\u001b[0m\u001b[1;32m   3430\u001b[0m     \u001b[0;32mreturn\u001b[0m \u001b[0mr\u001b[0m\u001b[0;34m,\u001b[0m \u001b[0mkeepdim\u001b[0m\u001b[0;34m\u001b[0m\u001b[0;34m\u001b[0m\u001b[0m\n\u001b[1;32m   3431\u001b[0m \u001b[0;34m\u001b[0m\u001b[0m\n",
            "\u001b[0;32m/usr/local/lib/python3.7/dist-packages/numpy/lib/function_base.py\u001b[0m in \u001b[0;36m_quantile_ureduce_func\u001b[0;34m(a, q, axis, out, overwrite_input, interpolation, keepdims)\u001b[0m\n\u001b[1;32m   3965\u001b[0m             \u001b[0mn\u001b[0m \u001b[0;34m=\u001b[0m \u001b[0mnp\u001b[0m\u001b[0;34m.\u001b[0m\u001b[0misnan\u001b[0m\u001b[0;34m(\u001b[0m\u001b[0map\u001b[0m\u001b[0;34m[\u001b[0m\u001b[0;34m-\u001b[0m\u001b[0;36m1\u001b[0m\u001b[0;34m:\u001b[0m\u001b[0;34m,\u001b[0m \u001b[0;34m...\u001b[0m\u001b[0;34m]\u001b[0m\u001b[0;34m)\u001b[0m\u001b[0;34m\u001b[0m\u001b[0;34m\u001b[0m\u001b[0m\n\u001b[1;32m   3966\u001b[0m \u001b[0;34m\u001b[0m\u001b[0m\n\u001b[0;32m-> 3967\u001b[0;31m         \u001b[0mx1\u001b[0m \u001b[0;34m=\u001b[0m \u001b[0mtake\u001b[0m\u001b[0;34m(\u001b[0m\u001b[0map\u001b[0m\u001b[0;34m,\u001b[0m \u001b[0mindices_below\u001b[0m\u001b[0;34m,\u001b[0m \u001b[0maxis\u001b[0m\u001b[0;34m=\u001b[0m\u001b[0maxis\u001b[0m\u001b[0;34m)\u001b[0m \u001b[0;34m*\u001b[0m \u001b[0mweights_below\u001b[0m\u001b[0;34m\u001b[0m\u001b[0;34m\u001b[0m\u001b[0m\n\u001b[0m\u001b[1;32m   3968\u001b[0m         \u001b[0mx2\u001b[0m \u001b[0;34m=\u001b[0m \u001b[0mtake\u001b[0m\u001b[0;34m(\u001b[0m\u001b[0map\u001b[0m\u001b[0;34m,\u001b[0m \u001b[0mindices_above\u001b[0m\u001b[0;34m,\u001b[0m \u001b[0maxis\u001b[0m\u001b[0;34m=\u001b[0m\u001b[0maxis\u001b[0m\u001b[0;34m)\u001b[0m \u001b[0;34m*\u001b[0m \u001b[0mweights_above\u001b[0m\u001b[0;34m\u001b[0m\u001b[0;34m\u001b[0m\u001b[0m\n\u001b[1;32m   3969\u001b[0m \u001b[0;34m\u001b[0m\u001b[0m\n",
            "\u001b[0;32m<__array_function__ internals>\u001b[0m in \u001b[0;36mtake\u001b[0;34m(*args, **kwargs)\u001b[0m\n",
            "\u001b[0;32m/usr/local/lib/python3.7/dist-packages/numpy/core/fromnumeric.py\u001b[0m in \u001b[0;36mtake\u001b[0;34m(a, indices, axis, out, mode)\u001b[0m\n\u001b[1;32m    189\u001b[0m            [5, 7]])\n\u001b[1;32m    190\u001b[0m     \"\"\"\n\u001b[0;32m--> 191\u001b[0;31m     \u001b[0;32mreturn\u001b[0m \u001b[0m_wrapfunc\u001b[0m\u001b[0;34m(\u001b[0m\u001b[0ma\u001b[0m\u001b[0;34m,\u001b[0m \u001b[0;34m'take'\u001b[0m\u001b[0;34m,\u001b[0m \u001b[0mindices\u001b[0m\u001b[0;34m,\u001b[0m \u001b[0maxis\u001b[0m\u001b[0;34m=\u001b[0m\u001b[0maxis\u001b[0m\u001b[0;34m,\u001b[0m \u001b[0mout\u001b[0m\u001b[0;34m=\u001b[0m\u001b[0mout\u001b[0m\u001b[0;34m,\u001b[0m \u001b[0mmode\u001b[0m\u001b[0;34m=\u001b[0m\u001b[0mmode\u001b[0m\u001b[0;34m)\u001b[0m\u001b[0;34m\u001b[0m\u001b[0;34m\u001b[0m\u001b[0m\n\u001b[0m\u001b[1;32m    192\u001b[0m \u001b[0;34m\u001b[0m\u001b[0m\n\u001b[1;32m    193\u001b[0m \u001b[0;34m\u001b[0m\u001b[0m\n",
            "\u001b[0;32m/usr/local/lib/python3.7/dist-packages/numpy/core/fromnumeric.py\u001b[0m in \u001b[0;36m_wrapfunc\u001b[0;34m(obj, method, *args, **kwds)\u001b[0m\n\u001b[1;32m     56\u001b[0m \u001b[0;34m\u001b[0m\u001b[0m\n\u001b[1;32m     57\u001b[0m     \u001b[0;32mtry\u001b[0m\u001b[0;34m:\u001b[0m\u001b[0;34m\u001b[0m\u001b[0;34m\u001b[0m\u001b[0m\n\u001b[0;32m---> 58\u001b[0;31m         \u001b[0;32mreturn\u001b[0m \u001b[0mbound\u001b[0m\u001b[0;34m(\u001b[0m\u001b[0;34m*\u001b[0m\u001b[0margs\u001b[0m\u001b[0;34m,\u001b[0m \u001b[0;34m**\u001b[0m\u001b[0mkwds\u001b[0m\u001b[0;34m)\u001b[0m\u001b[0;34m\u001b[0m\u001b[0;34m\u001b[0m\u001b[0m\n\u001b[0m\u001b[1;32m     59\u001b[0m     \u001b[0;32mexcept\u001b[0m \u001b[0mTypeError\u001b[0m\u001b[0;34m:\u001b[0m\u001b[0;34m\u001b[0m\u001b[0;34m\u001b[0m\u001b[0m\n\u001b[1;32m     60\u001b[0m         \u001b[0;31m# A TypeError occurs if the object does have such a method in its\u001b[0m\u001b[0;34m\u001b[0m\u001b[0;34m\u001b[0m\u001b[0;34m\u001b[0m\u001b[0m\n",
            "\u001b[0;31mIndexError\u001b[0m: cannot do a non-empty take from an empty axes."
          ]
        }
      ]
    },
    {
      "cell_type": "code",
      "metadata": {
        "id": "fyEDML0QZIK3"
      },
      "source": [
        "women_data_over_200 = height[(height['Weight'] >= 200) & (height['Gender']=='Female')] #height is the name of the data. So weight is an attribute of the data height. >=200 creates a bound. And gender is an attribute of height."
      ],
      "execution_count": null,
      "outputs": []
    },
    {
      "cell_type": "code",
      "metadata": {
        "id": "CWwXJeMUZgfo"
      },
      "source": [
        "women_data_over_200.head() #This shows only one record for women that weigh over 200 lbs."
      ],
      "execution_count": null,
      "outputs": []
    },
    {
      "cell_type": "code",
      "metadata": {
        "id": "HXgjhTwwaK_X"
      },
      "source": [
        "len(women_data_over_200) #This confirms that there is only one record."
      ],
      "execution_count": null,
      "outputs": []
    },
    {
      "cell_type": "code",
      "metadata": {
        "id": "DsQLXHEMcbwW"
      },
      "source": [
        "distribution_analysis(women_data_over_200.Weight, fit_distribution='normal',bins=40); #The graph shows only one record for a women that weighs over 200 lbs."
      ],
      "execution_count": null,
      "outputs": []
    },
    {
      "cell_type": "code",
      "metadata": {
        "id": "SZ6oIhIQaUIE"
      },
      "source": [
        "women_data_over_250 = height[(height ['Weight']>= 250) & (height['Gender']=='Female')]"
      ],
      "execution_count": null,
      "outputs": []
    },
    {
      "cell_type": "code",
      "metadata": {
        "id": "usrsRRWSbF8g"
      },
      "source": [
        "women_data_over_250.head() #This shows that there are zero records for women that weigh over 250 lbs."
      ],
      "execution_count": null,
      "outputs": []
    },
    {
      "cell_type": "code",
      "metadata": {
        "id": "N1fcl5qfbe98"
      },
      "source": [
        "len(women_data_over_250) #This confirms that there are zero records for woment that weigh over 250 lbs."
      ],
      "execution_count": null,
      "outputs": []
    },
    {
      "cell_type": "code",
      "metadata": {
        "id": "HQ0OJQyjc_D-"
      },
      "source": [
        "distribution_analysis(women_data_over_250.Weight, fit_distribution='normal',bins=40); #The index error basically says that we cannot run a graph with zero axes."
      ],
      "execution_count": null,
      "outputs": []
    },
    {
      "cell_type": "code",
      "metadata": {
        "id": "WJYgbgMkavCE"
      },
      "source": [
        "women_data_over_300 = height[(height ['Weight']>=300) & (height['Gender']=='Female')]"
      ],
      "execution_count": null,
      "outputs": []
    },
    {
      "cell_type": "code",
      "metadata": {
        "id": "eO8YRhe5bvM7"
      },
      "source": [
        "women_data_over_300.head()"
      ],
      "execution_count": null,
      "outputs": []
    },
    {
      "cell_type": "code",
      "metadata": {
        "id": "eK2E-9l2b3NK"
      },
      "source": [
        "len(women_data_over_300)"
      ],
      "execution_count": null,
      "outputs": []
    },
    {
      "cell_type": "code",
      "metadata": {
        "id": "6u2ZFnvtdVv8"
      },
      "source": [
        "distribution_analysis(women_data_over_300.Weight, fit_distribution='normal',bins=40); #There are zero records of women that weigh over 300 lbs."
      ],
      "execution_count": null,
      "outputs": []
    },
    {
      "cell_type": "code",
      "metadata": {
        "id": "d0H0j4zWJk5L"
      },
      "source": [
        "extreme_percentage(threshold = 200, data = men_height.Weight, dist = pareto, pars = pareto_pars)"
      ],
      "execution_count": null,
      "outputs": []
    },
    {
      "cell_type": "markdown",
      "metadata": {
        "id": "xrqlEivxcDhL"
      },
      "source": [
        "## Example 2. Weather data"
      ]
    },
    {
      "cell_type": "markdown",
      "metadata": {
        "id": "3rja9anrcDhL"
      },
      "source": [
        "Consider another example of weather data provided by https://www.noaa.gov\n",
        "\n",
        "It was collected for several weather stations accross NYC and includes the daily observations of minimal, maximal, average daily temperatures, precipitation and snowfall amounts."
      ]
    },
    {
      "cell_type": "code",
      "metadata": {
        "id": "5A0e99JfcDhL"
      },
      "source": [
        "NYCweather = pd.read_csv('https://raw.githubusercontent.com/CUSP2020PUI/Data/master/weather_daily.csv')"
      ],
      "execution_count": null,
      "outputs": []
    },
    {
      "cell_type": "code",
      "metadata": {
        "id": "rVpbGHFkcDhL"
      },
      "source": [
        "NYCweather.head()"
      ],
      "execution_count": null,
      "outputs": []
    },
    {
      "cell_type": "code",
      "metadata": {
        "id": "26SvQTTWcDhM"
      },
      "source": [
        "NYCweather.describe()"
      ],
      "execution_count": null,
      "outputs": []
    },
    {
      "cell_type": "markdown",
      "metadata": {
        "id": "IJN-xrXncDhM"
      },
      "source": [
        "As only lat-long seem to be numeric convert other fields of interst to the appropriate type"
      ]
    },
    {
      "cell_type": "code",
      "metadata": {
        "id": "ExALN6D0cDhM"
      },
      "source": [
        "for col in ['maxtemp','mintemp','avgtemp']:\n",
        "    NYCweather[col] = pd.to_numeric(NYCweather[col],errors='coerce')"
      ],
      "execution_count": null,
      "outputs": []
    },
    {
      "cell_type": "code",
      "metadata": {
        "id": "OghGD7o5cDhM"
      },
      "source": [
        "NYCweather.date = pd.to_datetime(NYCweather.date)"
      ],
      "execution_count": null,
      "outputs": []
    },
    {
      "cell_type": "code",
      "metadata": {
        "id": "UzOFrOEAcDhM"
      },
      "source": [
        "NYCweather.dropna(inplace = True) #drop records with nan's"
      ],
      "execution_count": null,
      "outputs": []
    },
    {
      "cell_type": "code",
      "metadata": {
        "id": "kfY05a0HcDhM"
      },
      "source": [
        "(NYCweather.date.min(),NYCweather.date.max()) #period of observation"
      ],
      "execution_count": null,
      "outputs": []
    },
    {
      "cell_type": "code",
      "metadata": {
        "id": "UhjtXvKFcDhN"
      },
      "source": [
        "NYCweather[['latitude','longitude','date']].groupby(['latitude','longitude']).count() #see the observations per station"
      ],
      "execution_count": null,
      "outputs": []
    },
    {
      "cell_type": "code",
      "metadata": {
        "id": "SdX3Kt_-cDhN"
      },
      "source": [
        "NYCweather = NYCweather[NYCweather.latitude == 40.77] #take one of the two stations (in Long Island City) with max observation days "
      ],
      "execution_count": null,
      "outputs": []
    },
    {
      "cell_type": "code",
      "metadata": {
        "id": "dyxQhZjFcDhN"
      },
      "source": [
        "len(NYCweather)"
      ],
      "execution_count": null,
      "outputs": []
    },
    {
      "cell_type": "markdown",
      "metadata": {
        "id": "ELLxDUqYcDhN"
      },
      "source": [
        "Now look at the distribution of the average daily temperatures"
      ]
    },
    {
      "cell_type": "code",
      "metadata": {
        "id": "gYAacCyzcDhN"
      },
      "source": [
        "distribution_analysis(NYCweather.avgtemp, fit_distribution='normal',bins=12)"
      ],
      "execution_count": null,
      "outputs": []
    },
    {
      "cell_type": "markdown",
      "metadata": {
        "id": "JKmId3tscDhO"
      },
      "source": [
        "The distribution generally resembles the bell curve but does not look that consistent. Perhaps this is because we have seasons in NYC and summer temperatures are nothing alike winter temperatures?\n",
        "\n",
        "Let's filter only summer and take the max temperatures for this period"
      ]
    },
    {
      "cell_type": "code",
      "metadata": {
        "id": "f4EQEj3acDhO"
      },
      "source": [
        "NYCweather['month'] = pd.DatetimeIndex(NYCweather['date']).month #get the month from the date"
      ],
      "execution_count": null,
      "outputs": []
    },
    {
      "cell_type": "code",
      "metadata": {
        "id": "AI4nPShFcDhO"
      },
      "source": [
        "NYCsummer=NYCweather[(NYCweather['month']>=6) & (NYCweather['month']<=8)] #filter the summer observations only"
      ],
      "execution_count": null,
      "outputs": []
    },
    {
      "cell_type": "code",
      "metadata": {
        "id": "pORFv7ejcDhO"
      },
      "source": [
        "distribution_analysis(NYCsummer.avgtemp, fit_distribution='normal',bins=12) #avg temp distribution"
      ],
      "execution_count": null,
      "outputs": []
    },
    {
      "cell_type": "code",
      "metadata": {
        "id": "D5jn3U5GcDhO"
      },
      "source": [
        "summertemp_pars = distribution_analysis(NYCsummer.maxtemp, fit_distribution='normal',bins=12) #max temp distribution"
      ],
      "execution_count": null,
      "outputs": []
    },
    {
      "cell_type": "markdown",
      "metadata": {
        "id": "MNa2FcQGcDhO"
      },
      "source": [
        "What is the theoretic and emprical chance of encountering a max temp above 100 degrees? Above 105?"
      ]
    },
    {
      "cell_type": "code",
      "metadata": {
        "id": "grL1VX2ZcDhP"
      },
      "source": [
        "extreme_percentage(threshold = 100, data = NYCsummer.maxtemp, dist = norm, pars = summertemp_pars)"
      ],
      "execution_count": null,
      "outputs": []
    },
    {
      "cell_type": "code",
      "metadata": {
        "id": "PEa6ziYRcDhP"
      },
      "source": [
        "extreme_percentage(threshold = 105, data = NYCsummer.maxtemp, dist = norm, pars = summertemp_pars)"
      ],
      "execution_count": null,
      "outputs": []
    },
    {
      "cell_type": "markdown",
      "metadata": {
        "id": "VMTb6ZYzcDhP"
      },
      "source": [
        "## Task 2. Analyze the distribution of winter min temperatures. \n",
        "Consider only the months of 12,1,2. Fit the normal distribution. Assess the chance of encountering a min temperature below 20, 10, 0F\n",
        "\n",
        "Note: you'll need to modify the extreme_percentage function to return low percentages (create a new one extreme_low_percentage) \n",
        "\n",
        "Extracredit: can you think of the way of getting those extreme low percentages (theoretic or both - theoretic and empiric) using the old version of the function?"
      ]
    },
    {
      "cell_type": "code",
      "metadata": {
        "id": "ekMf0ze3tRAp"
      },
      "source": [
        "NYCweather['month'] = pd.DatetimeIndex(NYCweather['date']).month "
      ],
      "execution_count": null,
      "outputs": []
    },
    {
      "cell_type": "code",
      "metadata": {
        "id": "ZOcNbDoJe_Ht"
      },
      "source": [
        "NYCwinter=NYCweather[NYCweather['month'].isin([12,1,2])] #Filter the winter observations only. Winter months 12-2.(Dec., Jan., Feb.)"
      ],
      "execution_count": null,
      "outputs": []
    },
    {
      "cell_type": "code",
      "metadata": {
        "id": "HQ26iDoO2u8a"
      },
      "source": [
        "# NYCwinter=NYCweather[(NYCweather['month']>=12) | (NYCweather['month']<=2)] can use this code too. | means or. Otherwise if I used & it would return an empty dataframe because no month is greater than 12 and less than 2."
      ],
      "execution_count": null,
      "outputs": []
    },
    {
      "cell_type": "code",
      "metadata": {
        "id": "TLGsbZOOglYO"
      },
      "source": [
        "distribution_analysis(NYCweather.mintemp, fit_distribution='normal',bins=12) #Found the 'mintemp' or the minium temperature for NYC weather across all seasons."
      ],
      "execution_count": null,
      "outputs": []
    },
    {
      "cell_type": "code",
      "metadata": {
        "id": "gGWPBcX3fUI3"
      },
      "source": [
        "distribution_analysis(NYCwinter.avgtemp, fit_distribution='normal',bins=12) #The 'avgtemp' (average temperature) for NYC winter."
      ],
      "execution_count": null,
      "outputs": []
    },
    {
      "cell_type": "code",
      "metadata": {
        "id": "HtEMcWLah-0Z"
      },
      "source": [
        "wintertemp_pars = distribution_analysis(NYCwinter.mintemp, fit_distribution='normal',bins=12)  #The'mintemp' (minimum temperature) for for NYC winter."
      ],
      "execution_count": null,
      "outputs": []
    },
    {
      "cell_type": "code",
      "metadata": {
        "id": "byU6ULxojupI"
      },
      "source": [
        "extreme_percentage(threshold =20, data = NYCwinter.mintemp, dist = norm, pars = wintertemp_pars)"
      ],
      "execution_count": null,
      "outputs": []
    },
    {
      "cell_type": "code",
      "metadata": {
        "id": "xJX40m5F7HOd"
      },
      "source": [
        "extreme_percentage(threshold =10, data = NYCwinter.mintemp, dist = norm, pars = wintertemp_pars)"
      ],
      "execution_count": null,
      "outputs": []
    },
    {
      "cell_type": "code",
      "metadata": {
        "id": "tzS9n_MN7LVZ"
      },
      "source": [
        "extreme_percentage(threshold =0, data = NYCwinter.mintemp, dist = norm, pars = wintertemp_pars)"
      ],
      "execution_count": null,
      "outputs": []
    },
    {
      "cell_type": "markdown",
      "metadata": {
        "id": "H7ME-y4UcDhP"
      },
      "source": [
        "## Example 3. City sizes"
      ]
    },
    {
      "cell_type": "markdown",
      "metadata": {
        "id": "cLAwHYARcDhP"
      },
      "source": [
        "Analyze the distribution of city sizes accross US and the world based on the data from https://simplemaps.com/data/world-cities"
      ]
    },
    {
      "cell_type": "code",
      "metadata": {
        "id": "dPZYqVEacDhP"
      },
      "source": [
        "UScities = pd.read_csv('https://raw.githubusercontent.com/CUSP2020PUI/Data/master/uscities.csv')"
      ],
      "execution_count": null,
      "outputs": []
    },
    {
      "cell_type": "code",
      "metadata": {
        "id": "aLa3cmcxcDhQ"
      },
      "source": [
        "UScities.head()"
      ],
      "execution_count": null,
      "outputs": []
    },
    {
      "cell_type": "code",
      "metadata": {
        "id": "_fmLVS1JcDhQ"
      },
      "source": [
        "UScities.describe() #we have cities with zero population"
      ],
      "execution_count": null,
      "outputs": []
    },
    {
      "cell_type": "code",
      "metadata": {
        "id": "HDQw-rZzcDhQ"
      },
      "source": [
        "UScities = UScities[UScities.population >= 100] #keep only those with at least 100 residents"
      ],
      "execution_count": null,
      "outputs": []
    },
    {
      "cell_type": "code",
      "metadata": {
        "id": "0lO61Y_LcDhQ"
      },
      "source": [
        "len(UScities) #there are 27k of US cities in the database"
      ],
      "execution_count": null,
      "outputs": []
    },
    {
      "cell_type": "code",
      "metadata": {
        "id": "1_kIPSc1cDhQ"
      },
      "source": [
        "distribution_analysis(UScities.population, vis_means = False) \n",
        "#clearly visualizing the distribution on the original scale does not make much sense\n",
        "#this is because the scale ranges considerable (std so much higher than the mean)"
      ],
      "execution_count": null,
      "outputs": []
    },
    {
      "cell_type": "code",
      "metadata": {
        "id": "4jpShWincDhR"
      },
      "source": [
        "#let's repeat on the log-scale \n",
        "distribution_analysis(UScities.population, log_scale=True)"
      ],
      "execution_count": null,
      "outputs": []
    },
    {
      "cell_type": "code",
      "metadata": {
        "id": "hdV8itr1cDhR"
      },
      "source": [
        "#the distribution now makes more sense; but as its not centered around mean, the normal distribution won't fit well\n",
        "distribution_analysis(UScities.population, log_scale=True, fit_distribution='normal')"
      ],
      "execution_count": null,
      "outputs": []
    },
    {
      "cell_type": "code",
      "metadata": {
        "id": "HX2Md5CFcDhR"
      },
      "source": [
        "#lets try GEV instead\n",
        "pars = distribution_analysis(UScities.population, log_scale=True, fit_distribution='gev')"
      ],
      "execution_count": null,
      "outputs": []
    },
    {
      "cell_type": "markdown",
      "metadata": {
        "id": "Vo7KHl8acDhR"
      },
      "source": [
        "It fits better but maybe not perfectly well"
      ]
    },
    {
      "cell_type": "markdown",
      "metadata": {
        "id": "36lh0RNMcDhR"
      },
      "source": [
        "Let's also try a rank plot visualization"
      ]
    },
    {
      "cell_type": "code",
      "metadata": {
        "id": "F_DbsQElcDhR"
      },
      "source": [
        "#function visualizing the rank plot for the 'top_percentile' of the values 'x' on the `log_scale` by default\n",
        "def rank_plot(x, log_scale = True, top_percentile = 100):\n",
        "    v = np.sort(x)[::-1]\n",
        "    r = np.arange(1.0,len(x)+0.1,1.0) / len(x)\n",
        "    st = ''\n",
        "    v = v[r<=top_percentile/100.0]; r = r[r<=top_percentile/100.0]\n",
        "    if log_scale:\n",
        "        r = np.log10(r)\n",
        "        v = np.log10(v)\n",
        "        st = 'log'\n",
        "    plt.plot(r,v,'o:')\n",
        "    plt.xlabel(st+'rank')\n",
        "    plt.ylabel(st+'value')"
      ],
      "execution_count": null,
      "outputs": []
    },
    {
      "cell_type": "code",
      "metadata": {
        "id": "XkGpyVdmcDhS"
      },
      "source": [
        "rank_plot(UScities.population) #we can see the log-log rank plot nearly linear in the beginning"
      ],
      "execution_count": null,
      "outputs": []
    },
    {
      "cell_type": "code",
      "metadata": {
        "id": "ihUi00LtcDhS"
      },
      "source": [
        "rank_plot(UScities.population, top_percentile = 25) #so now focus on the top 25% of the cities (those are the ones above 5000 residents)"
      ],
      "execution_count": null,
      "outputs": []
    },
    {
      "cell_type": "markdown",
      "metadata": {
        "id": "MIZb3A7KcDhS"
      },
      "source": [
        "The plot is nearly linear with the slope coefficient pretty close to -1. It corresponds to an almost perfect Zipf law $$Population \\sim \\frac{1}{rank}$$"
      ]
    },
    {
      "cell_type": "code",
      "metadata": {
        "id": "7HnXlZBScDhS"
      },
      "source": [
        "#introduce a function reporting cumulative population of the `top_percentile` cities\n",
        "def pareto_percent(top_percentile, data):\n",
        "    empiric = 100.0 * sum(data[data >= np.percentile(data, 100.0 - top_percentile)])/sum(data)\n",
        "    print('Top {} percent observations contribute {} percent of the total'.format(top_percentile, empiric))"
      ],
      "execution_count": null,
      "outputs": []
    },
    {
      "cell_type": "code",
      "metadata": {
        "id": "7JpYqycBcDhS"
      },
      "source": [
        "pareto_percent(20,UScities.population) #to 20 percent of cities cover even more than 80% - >90% of the total population"
      ],
      "execution_count": null,
      "outputs": []
    },
    {
      "cell_type": "code",
      "metadata": {
        "id": "O8jjTOblcDhS"
      },
      "source": [
        "pareto_percent(7,UScities.population[UScities.population>=100]) #and it takes only 7% to cover 80% of the population"
      ],
      "execution_count": null,
      "outputs": []
    },
    {
      "cell_type": "code",
      "metadata": {
        "id": "qz7mZtmxcDhT"
      },
      "source": [
        "pareto_percent(1,UScities.population[UScities.population>=100]) #top 1% covers more than 50% of the population"
      ],
      "execution_count": null,
      "outputs": []
    },
    {
      "cell_type": "markdown",
      "metadata": {
        "id": "z_iwtLYvcDhT"
      },
      "source": [
        "## Task 3. Repeat the analysis for the world cities\n",
        "\n",
        "Upload the data and keep only the cities above 10000 in population. Output the `describe` statistics.\n",
        "\n",
        "Fit the GEV distribution on the log scale. Visualize the rank plot for the top 25% of the cities (after filtering). Report the percentage of the total population covered by top 20% and top 5% of the cities"
      ]
    },
    {
      "cell_type": "code",
      "metadata": {
        "id": "et-hWg5RcDhT"
      },
      "source": [
        "## upload the dataset for major world cities\n",
        "WorldCities = pd.read_csv('https://raw.githubusercontent.com/CUSP2020PUI/Data/master/worldcities.csv')"
      ],
      "execution_count": null,
      "outputs": []
    },
    {
      "cell_type": "code",
      "metadata": {
        "id": "N7FapdHiPRpz"
      },
      "source": [
        "WorldCities.head()"
      ],
      "execution_count": null,
      "outputs": []
    },
    {
      "cell_type": "code",
      "metadata": {
        "id": "e_SavkpLM-rn"
      },
      "source": [
        "WorldCities.describe()"
      ],
      "execution_count": null,
      "outputs": []
    },
    {
      "cell_type": "code",
      "metadata": {
        "id": "ZW0a2PdAPn7d"
      },
      "source": [
        "WorldCities= WorldCities[WorldCities.population >= 10000] #I want to isolate/keep the records of World Cities with at least 10000 residents."
      ],
      "execution_count": null,
      "outputs": []
    },
    {
      "cell_type": "code",
      "metadata": {
        "id": "LdlZ57KdQJWL"
      },
      "source": [
        "len(WorldCities) #The total number of records for World Cities with at least 10000 residents."
      ],
      "execution_count": null,
      "outputs": []
    },
    {
      "cell_type": "code",
      "metadata": {
        "id": "aQIllvJHQ5oR"
      },
      "source": [
        "pars = distribution_analysis(WorldCities.population, log_scale=True, fit_distribution='gev')#The 'gev' generalized extreme value centers the normal fit."
      ],
      "execution_count": null,
      "outputs": []
    },
    {
      "cell_type": "code",
      "metadata": {
        "id": "6wuT3SpacDhT"
      },
      "source": [
        "rank_plot(WorldCities.population, top_percentile = 25) # The top 25% of the World Cities with at least 10000 residents."
      ],
      "execution_count": null,
      "outputs": []
    },
    {
      "cell_type": "code",
      "metadata": {
        "id": "czLUMKXe5bBe"
      },
      "source": [
        "pareto_percent(20,WorldCities.population[WorldCities.population>=10000]) #20 percent of World Cities with at least 10000 residents cover even more than 80% - >90% of the total population."
      ],
      "execution_count": null,
      "outputs": []
    },
    {
      "cell_type": "code",
      "metadata": {
        "id": "M84FaWSj67iq"
      },
      "source": [
        "pareto_percent(5,WorldCities.population[WorldCities.population>=10000]) #5 percent of the World Cities with at least 10000 residents to cover more than 50% of the population."
      ],
      "execution_count": null,
      "outputs": []
    },
    {
      "cell_type": "markdown",
      "metadata": {
        "id": "RDdWM5OXcDhT"
      },
      "source": [
        "## Task 4. Taxi trip duration analysis\n",
        "\n",
        "Upload the 'yellowTaxi_cleaned.csv' file saved in the previous lab. Analyze the trip distance the the trip duration distributions. Try fitting normal distribution on the original and the log-scale.\n",
        "\n",
        "Take only the trips which start and end on Manhattan (feel free to use the taxi zones shapefile https://data.cityofnewyork.us/api/geospatial/d3c5-ddgc?method=export&format=Shapefile for borough information, create a TZ to borhough dictionary, then map it for filtering). Repeat the distribution analysis for the trip distances."
      ]
    },
    {
      "cell_type": "code",
      "metadata": {
        "id": "dONM59ory8cQ"
      },
      "source": [
        "import pandas as pd\r\n",
        "import geopandas as gpd\r\n",
        "import numpy as np\r\n",
        "import os\r\n",
        "import urllib\r\n",
        "import sys\r\n",
        "from matplotlib import pyplot as plt\r\n",
        "%matplotlib inline"
      ],
      "execution_count": null,
      "outputs": []
    },
    {
      "cell_type": "code",
      "metadata": {
        "id": "r_DYQ1X4CFD8"
      },
      "source": [
        "#download the file - notice an alternative way of doing so through \r\n",
        "#a command line unix command curl, retreaving the data with progress tracking\r\n",
        "#takes up to 5min on fast internet connection\r\n",
        "!curl https://s3.amazonaws.com/nyc-tlc/trip+data/yellow_tripdata_2019-01.csv > yellow_trips_19.csv"
      ],
      "execution_count": null,
      "outputs": []
    },
    {
      "cell_type": "code",
      "metadata": {
        "id": "ken21Mb9CXfN"
      },
      "source": [
        " # alternate way of downloading file thorugh urllib, the first argument is the link, \r\n",
        "# # second is the name you want to give to the file \r\n",
        "# urllib.request.urlretrieve (\"https://s3.amazonaws.com/nyc-tlc/trip+data/yellow_tripdata_2019-01.csv\", \"yellow_trips_19_1.csv\")"
      ],
      "execution_count": null,
      "outputs": []
    },
    {
      "cell_type": "code",
      "metadata": {
        "id": "s3C13ibzCbmZ"
      },
      "source": [
        "#upload the data; the file is big, so takes some time, under a minute\r\n",
        "data = pd.read_csv('yellow_trips_19.csv', parse_dates=['tpep_pickup_datetime', 'tpep_dropoff_datetime'])\r\n",
        "data.head()"
      ],
      "execution_count": null,
      "outputs": []
    },
    {
      "cell_type": "code",
      "metadata": {
        "id": "vT-AW199DfT6"
      },
      "source": [
        "\r\n",
        "data['trip_duration'] = (data['tpep_dropoff_datetime'] - data['tpep_pickup_datetime'])\r\n",
        "data['trip_duration'] = data['trip_duration'].dt.total_seconds()/60\r\n",
        "data.head()"
      ],
      "execution_count": null,
      "outputs": []
    },
    {
      "cell_type": "code",
      "metadata": {
        "id": "8YtaIVyEDz7Z"
      },
      "source": [
        "validind = (data.trip_duration > 0) & (data.trip_distance > 0) & (data.fare_amount > 0) #index of valid trips"
      ],
      "execution_count": null,
      "outputs": []
    },
    {
      "cell_type": "code",
      "metadata": {
        "id": "FNuLsF3mEOoM"
      },
      "source": [
        "#filter the data - positive duration, distance, fare amount\r\n",
        "data = data[validind]"
      ],
      "execution_count": null,
      "outputs": []
    },
    {
      "cell_type": "code",
      "metadata": {
        "id": "ge12fcUCEd5N"
      },
      "source": [
        "data['speed'] = data['trip_distance']/(data['trip_duration']/60)"
      ],
      "execution_count": null,
      "outputs": []
    },
    {
      "cell_type": "code",
      "metadata": {
        "id": "fQcYKJzMSfVR"
      },
      "source": [
        "#based on the above impose the data sanity index\r\n",
        "sanityindex = (data.fare_amount >= 2.5) & (data.fare_amount <= 300) & \\\r\n",
        "    (data.trip_distance >= 0.3) & (data.trip_distance <= 100) & \\\r\n",
        "    (data.speed <= 80) & (data.speed >= 2) & \\\r\n",
        "    (data.trip_duration <= 100) & (data.trip_duration >= 1)"
      ],
      "execution_count": null,
      "outputs": []
    },
    {
      "cell_type": "code",
      "metadata": {
        "id": "OldNSupWSWN0"
      },
      "source": [
        "data = data[sanityindex]\r\n",
        "data.shape #still 7.5M trips survive"
      ],
      "execution_count": null,
      "outputs": []
    },
    {
      "cell_type": "code",
      "metadata": {
        "id": "M00a20SoETfY"
      },
      "source": [
        "#recompute the statistics\r\n",
        "data[['trip_distance', 'trip_duration', 'fare_amount', 'speed']].describe()"
      ],
      "execution_count": null,
      "outputs": []
    },
    {
      "cell_type": "code",
      "metadata": {
        "id": "7lKJhPGVHNJ1"
      },
      "source": [
        "#introduce a custom function performing distribution analysis\r\n",
        "def distribution_analysis(x, log_scale = False, fit_distribution = 'None', bins = 50, vis_means = True, vis_curve = True, print_outputs = True):\r\n",
        "    #x - array of observations\r\n",
        "    #log_scale - analyze distribution of log(x) if True\r\n",
        "    #fit_distribution - fit the distribution ('normal', 'gev' or 'pareto') or do nothing if 'None'\r\n",
        "    #bins - how many bins to use for binning the data\r\n",
        "    #vis_means - show mean and std lines if True\r\n",
        "    #vis_curve - show interpolated distribution curve over the histogram bars if True\r\n",
        "    #print_outputs - print mean, std and percentiles\r\n",
        "    \r\n",
        "    if log_scale: \r\n",
        "        x1 = np.log10(x) #convert data to decimal logarithms\r\n",
        "        xlabel = 'log(values)' #reflect in x labels\r\n",
        "    else:\r\n",
        "        x1 = x #leave original scale \r\n",
        "        xlabel = 'values'\r\n",
        "    mu = x1.mean() #compute the mean\r\n",
        "    if log_scale: #if logscale, output all three - log mean, its original scale and original scale mean\r\n",
        "        print('Log mean = {:.2f}({:.2f}), mean = {:.2f}'.format(mu,10**mu,x.mean()))\r\n",
        "    else:\r\n",
        "        print('Mean = {:.2f}'.format(mu)) #otherwise print mean\r\n",
        "    sigma = x1.std() #compute and output standard deviation \r\n",
        "    print('Standard deviation = {:.2f}'.format(sigma))\r\n",
        "    for p in [1,5,25,50,75,95,99]: #output percentile values\r\n",
        "        print('{:d} percentile = {:.2f}'.format(p,np.percentile(x,p)))\r\n",
        "        \r\n",
        "    #visualize histogram and the interpolated line (if vis_curve=True) using seaborn\r\n",
        "    sns.distplot(x1, hist=True, kde=vis_curve, \r\n",
        "        bins=bins,color = 'darkblue', \r\n",
        "        hist_kws={'edgecolor':'black'},\r\n",
        "        kde_kws={'linewidth': 4})\r\n",
        "    \r\n",
        "    #show vertical lines for mean and std if vis_means = True\r\n",
        "    if vis_means:\r\n",
        "        plt.axvline(mu, color='r', ls='--', lw=2.0)\r\n",
        "        plt.axvline(mu-sigma, color='g', ls='--', lw=2.0)\r\n",
        "        plt.axvline(mu+sigma, color='g', ls='--', lw=2.0)\r\n",
        "        \r\n",
        "    ylim = plt.gca().get_ylim() #keep the y-range of original distribution density values \r\n",
        "    #(to make sure the fitted distribution would not affect it)\r\n",
        "    \r\n",
        "    h = np.arange(mu - 3 * sigma, mu + 3 * sigma, sigma / 100) #3-sigma visualization range for the fitted distribution\r\n",
        "    pars = None #fitted distribution parameters\r\n",
        "    \r\n",
        "    #fit and visualize the theoretic distribution\r\n",
        "    if fit_distribution == 'normal':\r\n",
        "        pars = norm.fit(x1)\r\n",
        "        plt.plot(h,norm.pdf(h,*pars),'r')\r\n",
        "    elif fit_distribution == 'gev':\r\n",
        "        pars = gev.fit(x1)\r\n",
        "        plt.plot(h,gev.pdf(h,*pars),'r')\r\n",
        "    elif fit_distribution == 'pareto':\r\n",
        "        pars = pareto.fit(x1)\r\n",
        "        plt.plot(h,pareto.pdf(h,*pars),'r')\r\n",
        "    \r\n",
        "    plt.xlabel(xlabel) #add x label \r\n",
        "    plt.ylim(ylim) #restore the y-range of original distribution density values \r\n",
        "    plt.show()\r\n",
        "    return pars"
      ],
      "execution_count": null,
      "outputs": []
    },
    {
      "cell_type": "code",
      "metadata": {
        "id": "HDfy9vYIEptM"
      },
      "source": [
        "def plot_loghist(x, bins): #introduce a function for plotting a log-scale histogram\r\n",
        "  #it ensures log-scale binning and label on the original scale\r\n",
        "    logbins = np.logspace(np.log10(x.min()),np.log10(x.max()),bins)\r\n",
        "    plt.hist(x, bins=logbins)\r\n",
        "    plt.xscale('log')"
      ],
      "execution_count": null,
      "outputs": []
    },
    {
      "cell_type": "code",
      "metadata": {
        "id": "e-CWtQlpEskj"
      },
      "source": [
        "plot_loghist(data.trip_distance, 100) #Oringial Trip Distance Graph."
      ],
      "execution_count": null,
      "outputs": []
    },
    {
      "cell_type": "code",
      "metadata": {
        "id": "A42-Gh0xJPHH"
      },
      "source": [
        "trip_distance = data.trip_distance"
      ],
      "execution_count": null,
      "outputs": []
    },
    {
      "cell_type": "code",
      "metadata": {
        "id": "57yABF8jFLQW"
      },
      "source": [
        "pars = distribution_analysis(trip_distance, log_scale=True, fit_distribution='gev') #Trip Distance Log Scale with gev. "
      ],
      "execution_count": null,
      "outputs": []
    },
    {
      "cell_type": "code",
      "metadata": {
        "id": "ZnjSJC5DLjQv"
      },
      "source": [
        "trip_duration = data.trip_duration"
      ],
      "execution_count": null,
      "outputs": []
    },
    {
      "cell_type": "code",
      "metadata": {
        "id": "kcOpdMnANzWM"
      },
      "source": [
        "plot_loghist(data.trip_duration, 100) #Oringial Trip Duration Graph."
      ],
      "execution_count": null,
      "outputs": []
    },
    {
      "cell_type": "code",
      "metadata": {
        "id": "2vFlVp6gMicb"
      },
      "source": [
        "pars = distribution_analysis(trip_duration, log_scale=True, fit_distribution='gev') #Trip Duration Log Scale with gev. "
      ],
      "execution_count": null,
      "outputs": []
    },
    {
      "cell_type": "code",
      "metadata": {
        "id": "Yokc2aTjP5QK"
      },
      "source": [
        "#upload the shapefile; The 'location_i' column consists of all taxi zones within NYC + Newark airport\r\n",
        "tz = gpd.read_file('https://data.cityofnewyork.us/api/geospatial/d3c5-ddgc?method=export&format=Shapefile') #Use https://data.cityofnewyork.us/api/geospatial/d3c5-ddgc?method=export&format=Shapefile \r\n",
        "tz.head()"
      ],
      "execution_count": null,
      "outputs": []
    },
    {
      "cell_type": "code",
      "metadata": {
        "id": "gupECv4uR71i"
      },
      "source": [
        "#get the number of trips by taxi zone of origin\r\n",
        "tripsByZone = data.groupby(by='PULocationID', as_index=False).count()[['PULocationID', 'DOLocationID']]\r\n",
        "tripsByZone.rename(columns={'DOLocationID':'N_trips'}, inplace=True)\r\n",
        "tripsByZone.head()"
      ],
      "execution_count": null,
      "outputs": []
    },
    {
      "cell_type": "code",
      "metadata": {
        "id": "4FLHXXZyF_Xs"
      },
      "source": [
        "tz.columns"
      ],
      "execution_count": null,
      "outputs": []
    },
    {
      "cell_type": "code",
      "metadata": {
        "id": "rrj3gmmkS2eo"
      },
      "source": [
        "tripsViz = tz.merge(data, left_on='location_i', right_on='PULocationID')\r\n",
        "tripsViz.head()"
      ],
      "execution_count": null,
      "outputs": []
    },
    {
      "cell_type": "code",
      "metadata": {
        "id": "zSNEr-vIjMH2"
      },
      "source": [
        "Manhattan_trips_PULocationID=tripsViz.loc[(tripsViz['borough']=='Manhattan') & (tripsViz['DOLocationID']==tripsViz['PULocationID'])]\r\n",
        "Manhattan_trips_PULocationID.head()"
      ],
      "execution_count": null,
      "outputs": []
    },
    {
      "cell_type": "code",
      "metadata": {
        "id": "uDl9fmZJuJgK"
      },
      "source": [
        "Manhattan_trips_PULocationID.trip_distance"
      ],
      "execution_count": null,
      "outputs": []
    },
    {
      "cell_type": "code",
      "metadata": {
        "id": "Kgtukj7Jrb-C"
      },
      "source": [
        "pars = distribution_analysis(tripsViz, log_scale=True, fit_distribution='gev')"
      ],
      "execution_count": null,
      "outputs": []
    }
  ]
}